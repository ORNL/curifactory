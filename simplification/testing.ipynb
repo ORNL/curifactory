{
 "cells": [
  {
   "cell_type": "code",
   "execution_count": 1,
   "id": "e3fecb38-5ce9-4970-a3e1-bbf577a5a114",
   "metadata": {},
   "outputs": [],
   "source": [
    "%load_ext autoreload\n",
    "%autoreload 2"
   ]
  },
  {
   "cell_type": "code",
   "execution_count": 3,
   "id": "62fc3711-4e36-431f-af29-03431c9eb1e1",
   "metadata": {},
   "outputs": [],
   "source": [
    "#from new_concepts import DataTest, Experiment\n",
    "from new_concepts import Experiment, Artifact, Stage, stage, this_is_thing, this_is_tuple, DataTest, ModelTest1, live_test, ModelTest2, ModelTest3"
   ]
  },
  {
   "cell_type": "code",
   "execution_count": 8,
   "id": "37eec1bb-bb4c-4b15-bed6-69ac4af8447c",
   "metadata": {},
   "outputs": [
    {
     "name": "stdout",
     "output_type": "stream",
     "text": [
      "Executing stage for this_is_thing\n"
     ]
    },
    {
     "data": {
      "text/plain": [
       "Artifact 'thing': 'YESSSS'"
      ]
     },
     "execution_count": 8,
     "metadata": {},
     "output_type": "execute_result"
    }
   ],
   "source": [
    "this_is_thing()()"
   ]
  },
  {
   "cell_type": "code",
   "execution_count": null,
   "id": "37a4fe39-2366-4f69-a91b-116cbdf87387",
   "metadata": {},
   "outputs": [],
   "source": [
    "t = this_is_thing()\n",
    "t"
   ]
  },
  {
   "cell_type": "code",
   "execution_count": null,
   "id": "a39acaf6-b904-470d-80d4-5134de80baf4",
   "metadata": {},
   "outputs": [],
   "source": [
    "t.function.__name__"
   ]
  },
  {
   "cell_type": "code",
   "execution_count": null,
   "id": "9388628c-668c-43b9-b55f-e74bad5f862a",
   "metadata": {},
   "outputs": [],
   "source": [
    "tout = t()\n",
    "tout"
   ]
  },
  {
   "cell_type": "code",
   "execution_count": null,
   "id": "69c99982-66d2-42cb-8f9e-c506145f694f",
   "metadata": {},
   "outputs": [],
   "source": [
    "tout.object"
   ]
  },
  {
   "cell_type": "code",
   "execution_count": null,
   "id": "e88049ba-34a1-4070-b5a1-13766ff46a9c",
   "metadata": {},
   "outputs": [],
   "source": [
    "t"
   ]
  },
  {
   "cell_type": "code",
   "execution_count": null,
   "id": "49924d65-a629-4af1-b660-ddd7227d028c",
   "metadata": {},
   "outputs": [],
   "source": [
    "t2 = this_is_tuple()\n",
    "t2"
   ]
  },
  {
   "cell_type": "code",
   "execution_count": null,
   "id": "40d5ad70-7a5a-456f-ac85-de954afac8f3",
   "metadata": {},
   "outputs": [],
   "source": []
  },
  {
   "cell_type": "code",
   "execution_count": null,
   "id": "1f6e420f-de22-4a29-8aa9-fbca0397dba5",
   "metadata": {},
   "outputs": [],
   "source": [
    "d = DataTest(\"test\")"
   ]
  },
  {
   "cell_type": "code",
   "execution_count": null,
   "id": "bb9099a2-7804-473e-b2c9-2987c4f69956",
   "metadata": {},
   "outputs": [],
   "source": [
    "d"
   ]
  },
  {
   "cell_type": "code",
   "execution_count": null,
   "id": "65f8c079-5b98-4794-b098-959a096f0c10",
   "metadata": {},
   "outputs": [],
   "source": [
    "d.real_thing"
   ]
  },
  {
   "cell_type": "code",
   "execution_count": null,
   "id": "fd01134d-ef35-4bf2-a5ae-eabaa041d3a6",
   "metadata": {},
   "outputs": [],
   "source": [
    "d.real_thing.compute()"
   ]
  },
  {
   "cell_type": "code",
   "execution_count": null,
   "id": "d45aa313-a192-4dbc-abfd-28034f34cdc8",
   "metadata": {},
   "outputs": [],
   "source": [
    "d"
   ]
  },
  {
   "cell_type": "code",
   "execution_count": null,
   "id": "f7344212-7b84-49e1-91c0-8033f6e9a4ea",
   "metadata": {},
   "outputs": [],
   "source": [
    "d.act_t1, d.act_t2"
   ]
  },
  {
   "cell_type": "code",
   "execution_count": null,
   "id": "4221f49b-7fc1-41da-9e91-37c797724c87",
   "metadata": {},
   "outputs": [],
   "source": [
    "d.act_t1.compute()"
   ]
  },
  {
   "cell_type": "code",
   "execution_count": null,
   "id": "5c4b22cb-3712-403e-9d6f-ab916aececac",
   "metadata": {},
   "outputs": [],
   "source": [
    "d"
   ]
  },
  {
   "cell_type": "code",
   "execution_count": null,
   "id": "4d6c8f13-14e0-44dd-8ff8-0c4627d12933",
   "metadata": {},
   "outputs": [],
   "source": []
  },
  {
   "cell_type": "code",
   "execution_count": null,
   "id": "0f8fe734-758c-4524-83e4-952c7489a430",
   "metadata": {},
   "outputs": [],
   "source": [
    "m1 = ModelTest1(\"m1\", test=d)\n",
    "m1"
   ]
  },
  {
   "cell_type": "code",
   "execution_count": null,
   "id": "a1bc8d28-156b-4fac-a994-6c8f56b7dcf6",
   "metadata": {},
   "outputs": [],
   "source": [
    "m1.model.compute()"
   ]
  },
  {
   "cell_type": "code",
   "execution_count": null,
   "id": "c60950c9-b13f-4143-bc58-426d718abc2d",
   "metadata": {},
   "outputs": [],
   "source": [
    "m1.model.compute()"
   ]
  },
  {
   "cell_type": "code",
   "execution_count": null,
   "id": "60785795-b896-4271-9df4-d303b1fee20e",
   "metadata": {},
   "outputs": [],
   "source": [
    "d"
   ]
  },
  {
   "cell_type": "code",
   "execution_count": null,
   "id": "61be0953-7c3d-4441-8800-967b97b98a3c",
   "metadata": {},
   "outputs": [],
   "source": [
    "m1.test"
   ]
  },
  {
   "cell_type": "code",
   "execution_count": null,
   "id": "75c3c9a3-c64f-4d8d-8bc9-667d46149ccc",
   "metadata": {},
   "outputs": [],
   "source": [
    "m1"
   ]
  },
  {
   "cell_type": "code",
   "execution_count": null,
   "id": "f49f4dfd-6d23-4520-b078-40a9e71a23c0",
   "metadata": {},
   "outputs": [],
   "source": []
  },
  {
   "cell_type": "code",
   "execution_count": null,
   "id": "995501b3-0a43-482f-9e3d-17b11f9e4c02",
   "metadata": {},
   "outputs": [],
   "source": [
    "m2 = ModelTest1(\"m2\", test=DataTest(\"d2\"))"
   ]
  },
  {
   "cell_type": "code",
   "execution_count": null,
   "id": "39e92599-caee-4c94-b071-ff38c16283d0",
   "metadata": {},
   "outputs": [],
   "source": [
    "m2"
   ]
  },
  {
   "cell_type": "code",
   "execution_count": null,
   "id": "2c039905-2c14-4560-8632-20ec2c33936f",
   "metadata": {},
   "outputs": [],
   "source": [
    "m2.model.compute()"
   ]
  },
  {
   "cell_type": "code",
   "execution_count": null,
   "id": "d62919eb-f301-4682-b483-684bc429bc0a",
   "metadata": {},
   "outputs": [],
   "source": []
  },
  {
   "cell_type": "code",
   "execution_count": null,
   "id": "46b4812a-5691-4a43-9de6-9664b91b8330",
   "metadata": {},
   "outputs": [],
   "source": [
    "m3 = live_test()\n",
    "m3"
   ]
  },
  {
   "cell_type": "code",
   "execution_count": null,
   "id": "c2c230d1-cdb1-4035-a4ed-5557b546a7c3",
   "metadata": {},
   "outputs": [],
   "source": [
    "m3.final_model.compute()"
   ]
  },
  {
   "cell_type": "code",
   "execution_count": null,
   "id": "1db48ca4-c222-4d20-866b-28822acba95d",
   "metadata": {},
   "outputs": [],
   "source": []
  },
  {
   "cell_type": "code",
   "execution_count": null,
   "id": "1f1dc5f3-636b-4058-b68c-5d53baa51be6",
   "metadata": {},
   "outputs": [],
   "source": [
    "m4 = ModelTest2(\"m4_2\", test=DataTest(\"d4\"))\n",
    "m4"
   ]
  },
  {
   "cell_type": "code",
   "execution_count": null,
   "id": "feed1d7d-9f21-450d-bbdd-3e93f67d630b",
   "metadata": {},
   "outputs": [],
   "source": [
    "m4.model.compute()"
   ]
  },
  {
   "cell_type": "code",
   "execution_count": null,
   "id": "820bacb0-1a1e-4e3f-9baa-ae5bfd4b5ed9",
   "metadata": {},
   "outputs": [],
   "source": []
  },
  {
   "cell_type": "code",
   "execution_count": null,
   "id": "607bf1f0-8803-4fb1-b205-8b151a6a7478",
   "metadata": {},
   "outputs": [],
   "source": [
    "this_is_thing"
   ]
  },
  {
   "cell_type": "code",
   "execution_count": null,
   "id": "68a0fbde-6c54-4c50-b391-91c81da83ef5",
   "metadata": {},
   "outputs": [],
   "source": []
  }
 ],
 "metadata": {
  "kernelspec": {
   "display_name": "Python 3 (ipykernel)",
   "language": "python",
   "name": "python3"
  },
  "language_info": {
   "codemirror_mode": {
    "name": "ipython",
    "version": 3
   },
   "file_extension": ".py",
   "mimetype": "text/x-python",
   "name": "python",
   "nbconvert_exporter": "python",
   "pygments_lexer": "ipython3",
   "version": "3.12.1"
  }
 },
 "nbformat": 4,
 "nbformat_minor": 5
}
