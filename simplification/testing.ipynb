{
 "cells": [
  {
   "cell_type": "code",
   "execution_count": null,
   "id": "e3fecb38-5ce9-4970-a3e1-bbf577a5a114",
   "metadata": {},
   "outputs": [],
   "source": [
    "%load_ext autoreload\n",
    "%autoreload 2"
   ]
  },
  {
   "cell_type": "code",
   "execution_count": 1,
   "id": "2a42c469-082d-4761-8eb0-a384a816ac3f",
   "metadata": {},
   "outputs": [],
   "source": [
    "from artifact import Artifacts"
   ]
  },
  {
   "cell_type": "code",
   "execution_count": 2,
   "id": "5520727a-14f2-43ae-9945-58a32957baa2",
   "metadata": {},
   "outputs": [],
   "source": [
    "Artifacts.display()"
   ]
  },
  {
   "cell_type": "code",
   "execution_count": 3,
   "id": "f3c83d33-fad9-438b-be9d-7df8ecd73365",
   "metadata": {},
   "outputs": [
    {
     "name": "stdout",
     "output_type": "stream",
     "text": [
      "===========\n",
      "training_data\n",
      "===========\n",
      "testing_data\n",
      "===========\n",
      "model\n",
      "===========\n",
      "score\n",
      "===========\n",
      "scores\n",
      "===========\n",
      "outputs\n",
      "===========\n",
      "outputs\n",
      "===========\n",
      "?\n",
      "===========\n",
      "?\n",
      "!!!! WE FOUND YOU.\n",
      "===========\n",
      "?\n",
      "!!!! WE FOUND YOU.\n",
      "===========\n",
      "?\n",
      "!!!! WE FOUND YOU.\n",
      "===========\n",
      "?\n",
      "!!!! WE FOUND YOU.\n",
      "===========\n",
      "outputs\n",
      "===========\n",
      "outputs\n",
      "===========\n",
      "?\n",
      "===========\n",
      "?\n",
      "!!!! WE FOUND YOU.\n",
      "===========\n",
      "?\n",
      "!!!! WE FOUND YOU.\n",
      "===========\n",
      "?\n",
      "!!!! WE FOUND YOU.\n",
      "===========\n",
      "?\n",
      "!!!! WE FOUND YOU.\n",
      "===========\n",
      "outputs\n",
      "===========\n",
      "outputs\n",
      "===========\n",
      "?\n",
      "===========\n",
      "?\n",
      "!!!! WE FOUND YOU.\n",
      "===========\n",
      "?\n",
      "!!!! WE FOUND YOU.\n",
      "===========\n",
      "?\n",
      "!!!! WE FOUND YOU.\n",
      "===========\n",
      "?\n",
      "!!!! WE FOUND YOU.\n",
      "===========\n",
      "outputs\n",
      "===========\n",
      "outputs\n",
      "===========\n",
      "?\n"
     ]
    },
    {
     "ename": "KeyError",
     "evalue": "'data'",
     "output_type": "error",
     "traceback": [
      "\u001b[0;31m---------------------------------------------------------------------------\u001b[0m",
      "\u001b[0;31mKeyError\u001b[0m                                  Traceback (most recent call last)",
      "Cell \u001b[0;32mIn[3], line 2\u001b[0m\n\u001b[1;32m      1\u001b[0m \u001b[38;5;66;03m#from examples import lr_vs_rf, which_is_best\u001b[39;00m\n\u001b[0;32m----> 2\u001b[0m \u001b[38;5;28;01mfrom\u001b[39;00m \u001b[38;5;21;01mexamples\u001b[39;00m \u001b[38;5;28;01mimport\u001b[39;00m simple_lr, simple_rf, simple_lr_unbalanced, compare_all\n",
      "File \u001b[0;32m~/lab/curifactory/simplification/examples.py:188\u001b[0m\n\u001b[1;32m    184\u001b[0m     maximum \u001b[38;5;241m=\u001b[39m find_max(score_list)\n\u001b[1;32m    185\u001b[0m     \u001b[38;5;28;01mreturn\u001b[39;00m maximum\n\u001b[0;32m--> 188\u001b[0m compare_all \u001b[38;5;241m=\u001b[39m \u001b[43mcompare_algs\u001b[49m\u001b[43m(\u001b[49m\u001b[38;5;124;43m\"\u001b[39;49m\u001b[38;5;124;43mcompare_all\u001b[39;49m\u001b[38;5;124;43m\"\u001b[39;49m\u001b[43m,\u001b[49m\u001b[43m \u001b[49m\u001b[43m[\u001b[49m\u001b[43msimple_lr\u001b[49m\u001b[43m,\u001b[49m\u001b[43m \u001b[49m\u001b[43msimple_rf\u001b[49m\u001b[43m,\u001b[49m\u001b[43m \u001b[49m\u001b[43msimple_lr_unbalanced\u001b[49m\u001b[43m]\u001b[49m\u001b[43m)\u001b[49m\n\u001b[1;32m    191\u001b[0m \u001b[38;5;129m@dataclass\u001b[39m\n\u001b[1;32m    192\u001b[0m \u001b[38;5;28;01mclass\u001b[39;00m \u001b[38;5;21;01mModelParameters\u001b[39;00m:\n\u001b[1;32m    193\u001b[0m     name: \u001b[38;5;28mstr\u001b[39m\n",
      "File \u001b[0;32m~/lab/curifactory/simplification/experiment.py:191\u001b[0m, in \u001b[0;36mexperiment.<locals>.wrapper\u001b[0;34m(*args, **kwargs)\u001b[0m\n\u001b[1;32m    190\u001b[0m \u001b[38;5;28;01mdef\u001b[39;00m \u001b[38;5;21mwrapper\u001b[39m(\u001b[38;5;241m*\u001b[39margs, \u001b[38;5;241m*\u001b[39m\u001b[38;5;241m*\u001b[39mkwargs):\n\u001b[0;32m--> 191\u001b[0m     \u001b[38;5;28;01mreturn\u001b[39;00m \u001b[43mexperiment_dataclass\u001b[49m\u001b[43m(\u001b[49m\u001b[38;5;241;43m*\u001b[39;49m\u001b[43margs\u001b[49m\u001b[43m,\u001b[49m\u001b[43m \u001b[49m\u001b[38;5;241;43m*\u001b[39;49m\u001b[38;5;241;43m*\u001b[39;49m\u001b[43mkwargs\u001b[49m\u001b[43m)\u001b[49m\n",
      "File \u001b[0;32m<string>:6\u001b[0m, in \u001b[0;36m__init__\u001b[0;34m(self, name, alg_experiments)\u001b[0m\n",
      "File \u001b[0;32m~/lab/curifactory/simplification/experiment.py:29\u001b[0m, in \u001b[0;36mExperiment.__post_init__\u001b[0;34m(self)\u001b[0m\n\u001b[1;32m     27\u001b[0m \u001b[38;5;28;01mdef\u001b[39;00m \u001b[38;5;21m__post_init__\u001b[39m(\u001b[38;5;28mself\u001b[39m):\n\u001b[1;32m     28\u001b[0m     \u001b[38;5;28mself\u001b[39m\u001b[38;5;241m.\u001b[39martifacts \u001b[38;5;241m=\u001b[39m artifact\u001b[38;5;241m.\u001b[39mArtifactManager()\n\u001b[0;32m---> 29\u001b[0m     definition_outputs \u001b[38;5;241m=\u001b[39m \u001b[38;5;28;43mself\u001b[39;49m\u001b[38;5;241;43m.\u001b[39;49m\u001b[43mdefine\u001b[49m\u001b[43m(\u001b[49m\u001b[43m)\u001b[49m\n\u001b[1;32m     30\u001b[0m     \u001b[38;5;66;03m# TODO: I don't actually think outputs needs to be an artifact list\u001b[39;00m\n\u001b[1;32m     31\u001b[0m     \u001b[38;5;66;03m# TODO TODO we need to determine if there's more than one output, in\u001b[39;00m\n\u001b[1;32m     32\u001b[0m     \u001b[38;5;66;03m# which case yes make it an ArtifactList, but self.output should always\u001b[39;00m\n\u001b[1;32m     33\u001b[0m     \u001b[38;5;66;03m# be an artifact?\u001b[39;00m\n\u001b[1;32m     34\u001b[0m     \u001b[38;5;66;03m# if not isinstance(definition_outputs, artifact.ArtifactList) and :\u001b[39;00m\n\u001b[1;32m     35\u001b[0m     \u001b[38;5;66;03m#     definition_outputs = artifact.ArtifactList(\"outputs\", definition_outputs)\u001b[39;00m\n\u001b[1;32m     36\u001b[0m     \u001b[38;5;28mself\u001b[39m\u001b[38;5;241m.\u001b[39moutputs \u001b[38;5;241m=\u001b[39m definition_outputs\n",
      "File \u001b[0;32m~/lab/curifactory/simplification/experiment.py:162\u001b[0m, in \u001b[0;36mexperiment.<locals>.define\u001b[0;34m(self)\u001b[0m\n\u001b[1;32m    155\u001b[0m kwargs \u001b[38;5;241m=\u001b[39m {\n\u001b[1;32m    156\u001b[0m     param_name: \u001b[38;5;28mgetattr\u001b[39m(\u001b[38;5;28mself\u001b[39m, param_name)\n\u001b[1;32m    157\u001b[0m     \u001b[38;5;28;01mfor\u001b[39;00m param_name \u001b[38;5;129;01min\u001b[39;00m \u001b[38;5;28mlist\u001b[39m(parameters\u001b[38;5;241m.\u001b[39mkeys())\n\u001b[1;32m    158\u001b[0m }\n\u001b[1;32m    160\u001b[0m \u001b[38;5;66;03m# call the function that this experiment is wrapping (defines the\u001b[39;00m\n\u001b[1;32m    161\u001b[0m \u001b[38;5;66;03m# artifacts flow)\u001b[39;00m\n\u001b[0;32m--> 162\u001b[0m outputs \u001b[38;5;241m=\u001b[39m \u001b[43mfunction\u001b[49m\u001b[43m(\u001b[49m\u001b[38;5;241;43m*\u001b[39;49m\u001b[38;5;241;43m*\u001b[39;49m\u001b[43mkwargs\u001b[49m\u001b[43m)\u001b[49m\n\u001b[1;32m    164\u001b[0m \u001b[38;5;66;03m# search the outputs for any dictionaries, which we'll use to assign\u001b[39;00m\n\u001b[1;32m    165\u001b[0m \u001b[38;5;66;03m# artifact attributes to the dataclass\u001b[39;00m\n\u001b[1;32m    166\u001b[0m \u001b[38;5;66;03m# TODO: with artifactmanager stuff I don't know that this is necessary\u001b[39;00m\n\u001b[1;32m    167\u001b[0m experiment_outputs \u001b[38;5;241m=\u001b[39m []\n",
      "File \u001b[0;32m~/lab/curifactory/simplification/examples.py:179\u001b[0m, in \u001b[0;36mcompare_algs\u001b[0;34m(alg_experiments)\u001b[0m\n\u001b[1;32m    169\u001b[0m \u001b[38;5;129m@experiment\u001b[39m\n\u001b[1;32m    170\u001b[0m \u001b[38;5;28;01mdef\u001b[39;00m \u001b[38;5;21mcompare_algs\u001b[39m(alg_experiments: \u001b[38;5;28mlist\u001b[39m[test_sklearn_alg]):\n\u001b[1;32m    171\u001b[0m     \u001b[38;5;66;03m# ensure they're all using the same data\u001b[39;00m\n\u001b[0;32m   (...)\u001b[0m\n\u001b[1;32m    176\u001b[0m     \u001b[38;5;66;03m# etc. definitions, which is probably surprising. I wouldn't want code\u001b[39;00m\n\u001b[1;32m    177\u001b[0m     \u001b[38;5;66;03m# inside later experiments to modify entirely other experiments.\u001b[39;00m\n\u001b[1;32m    178\u001b[0m     \u001b[38;5;28;01mfor\u001b[39;00m exp \u001b[38;5;129;01min\u001b[39;00m alg_experiments[\u001b[38;5;241m1\u001b[39m:]:\n\u001b[0;32m--> 179\u001b[0m         \u001b[43mexp\u001b[49m\u001b[38;5;241;43m.\u001b[39;49m\u001b[43martifacts\u001b[49m\u001b[43m[\u001b[49m\u001b[38;5;124;43m\"\u001b[39;49m\u001b[38;5;124;43mdata\u001b[39;49m\u001b[38;5;124;43m\"\u001b[39;49m\u001b[43m]\u001b[49m\u001b[38;5;241m.\u001b[39mreplace(alg_experiments[\u001b[38;5;241m0\u001b[39m]\u001b[38;5;241m.\u001b[39martifacts[\u001b[38;5;124m\"\u001b[39m\u001b[38;5;124mdata\u001b[39m\u001b[38;5;124m\"\u001b[39m])\n\u001b[1;32m    181\u001b[0m     score_list \u001b[38;5;241m=\u001b[39m ArtifactList(\n\u001b[1;32m    182\u001b[0m         \u001b[38;5;124m\"\u001b[39m\u001b[38;5;124mscores\u001b[39m\u001b[38;5;124m\"\u001b[39m, [{exp\u001b[38;5;241m.\u001b[39mname: exp\u001b[38;5;241m.\u001b[39moutputs[\u001b[38;5;241m0\u001b[39m]} \u001b[38;5;28;01mfor\u001b[39;00m exp \u001b[38;5;129;01min\u001b[39;00m alg_experiments]\n\u001b[1;32m    183\u001b[0m     )\n\u001b[1;32m    184\u001b[0m     maximum \u001b[38;5;241m=\u001b[39m find_max(score_list)\n",
      "File \u001b[0;32m~/lab/curifactory/simplification/artifact.py:17\u001b[0m, in \u001b[0;36mArtifactManager.__getitem__\u001b[0;34m(self, key)\u001b[0m\n\u001b[1;32m     16\u001b[0m \u001b[38;5;28;01mdef\u001b[39;00m \u001b[38;5;21m__getitem__\u001b[39m(\u001b[38;5;28mself\u001b[39m, key):\n\u001b[0;32m---> 17\u001b[0m     \u001b[38;5;28;01mreturn\u001b[39;00m \u001b[38;5;28;43mself\u001b[39;49m\u001b[38;5;241;43m.\u001b[39;49m\u001b[43martifacts\u001b[49m\u001b[43m[\u001b[49m\u001b[43mkey\u001b[49m\u001b[43m]\u001b[49m\n",
      "\u001b[0;31mKeyError\u001b[0m: 'data'"
     ]
    }
   ],
   "source": [
    "#from examples import lr_vs_rf, which_is_best\n",
    "from examples import simple_lr, simple_rf, simple_lr_unbalanced, compare_all"
   ]
  },
  {
   "cell_type": "code",
   "execution_count": null,
   "id": "ff4aefb5-3dce-49f6-b0f5-b3ee0da2c735",
   "metadata": {},
   "outputs": [],
   "source": [
    "simple_lr.run()"
   ]
  },
  {
   "cell_type": "code",
   "execution_count": null,
   "id": "7822f73c-0516-49f1-8bf8-0a4a7b529a09",
   "metadata": {},
   "outputs": [],
   "source": [
    "which_is_best.outputs.compute()"
   ]
  },
  {
   "cell_type": "code",
   "execution_count": null,
   "id": "64942ae4-eaea-4cb2-b0fd-be1db3ed8c6c",
   "metadata": {},
   "outputs": [],
   "source": [
    "lr_vs_rf"
   ]
  },
  {
   "cell_type": "code",
   "execution_count": null,
   "id": "f9176a68-c910-472a-bd90-0f24497c946a",
   "metadata": {},
   "outputs": [],
   "source": [
    "lr_vs_rf.models[0]"
   ]
  },
  {
   "cell_type": "code",
   "execution_count": null,
   "id": "6bd3b953-8396-449c-9260-143567374086",
   "metadata": {},
   "outputs": [],
   "source": [
    "lr_vs_rf.outputs.compute.args[1].compute.outputs.object"
   ]
  },
  {
   "cell_type": "code",
   "execution_count": null,
   "id": "562f076d-7b05-4f05-b6cd-c05337b7bc4f",
   "metadata": {},
   "outputs": [],
   "source": [
    "lr_vs_rf.outputs.compute()"
   ]
  },
  {
   "cell_type": "code",
   "execution_count": null,
   "id": "927ef327-6ff0-4e76-86e5-2ccff1854a36",
   "metadata": {},
   "outputs": [],
   "source": [
    "lr_vs_rf.outputs.artifact_tree()"
   ]
  },
  {
   "cell_type": "code",
   "execution_count": null,
   "id": "8e999646-af8d-49de-b423-77ba6a976f7b",
   "metadata": {},
   "outputs": [],
   "source": [
    "lr_vs_rf.scores"
   ]
  },
  {
   "cell_type": "code",
   "execution_count": null,
   "id": "45ae01e7-783e-4d21-b37e-a37738b10eff",
   "metadata": {},
   "outputs": [],
   "source": [
    "Artifacts[\"lr_vs_rf.outputs\"].artifacts"
   ]
  },
  {
   "cell_type": "code",
   "execution_count": null,
   "id": "476b0a03-9ef3-418d-933a-7a8cba997e22",
   "metadata": {},
   "outputs": [],
   "source": [
    "Artifacts[\"lr_vs_rf.outputs\"].compute_hash()"
   ]
  },
  {
   "cell_type": "code",
   "execution_count": null,
   "id": "19390512-1018-4de6-820f-f002c3369659",
   "metadata": {},
   "outputs": [],
   "source": [
    "lr_vs_rf.models[1]"
   ]
  },
  {
   "cell_type": "code",
   "execution_count": null,
   "id": "ca245349-e5ef-464f-ae89-0b779d1ad81c",
   "metadata": {},
   "outputs": [],
   "source": [
    "smaller = lr_vs_rf.modify(name=\"smaller\", model_set=[lr_vs_rf.model_set[0]])"
   ]
  },
  {
   "cell_type": "code",
   "execution_count": null,
   "id": "200e8a16-2429-41f7-af60-02a628b65997",
   "metadata": {},
   "outputs": [],
   "source": [
    "smaller.map()"
   ]
  },
  {
   "cell_type": "code",
   "execution_count": null,
   "id": "62fc3711-4e36-431f-af29-03431c9eb1e1",
   "metadata": {},
   "outputs": [],
   "source": [
    "#from new_concepts import DataTest, Experiment\n",
    "from new_concepts import Experiment, Artifact, Stage, stage, this_is_thing, this_is_tuple, DataTest, ModelTest1, live_test, ModelTest2, ModelTest3, ModelTest4, ModelTest5, ModelTest6, DataTest2"
   ]
  },
  {
   "cell_type": "code",
   "execution_count": null,
   "id": "37eec1bb-bb4c-4b15-bed6-69ac4af8447c",
   "metadata": {},
   "outputs": [],
   "source": [
    "this_is_thing()()"
   ]
  },
  {
   "cell_type": "code",
   "execution_count": null,
   "id": "37a4fe39-2366-4f69-a91b-116cbdf87387",
   "metadata": {},
   "outputs": [],
   "source": [
    "t = this_is_thing()\n",
    "t"
   ]
  },
  {
   "cell_type": "code",
   "execution_count": null,
   "id": "a39acaf6-b904-470d-80d4-5134de80baf4",
   "metadata": {},
   "outputs": [],
   "source": [
    "t.function.__name__"
   ]
  },
  {
   "cell_type": "code",
   "execution_count": null,
   "id": "9388628c-668c-43b9-b55f-e74bad5f862a",
   "metadata": {},
   "outputs": [],
   "source": [
    "tout = t()\n",
    "tout"
   ]
  },
  {
   "cell_type": "code",
   "execution_count": null,
   "id": "69c99982-66d2-42cb-8f9e-c506145f694f",
   "metadata": {},
   "outputs": [],
   "source": [
    "tout.object"
   ]
  },
  {
   "cell_type": "code",
   "execution_count": null,
   "id": "e88049ba-34a1-4070-b5a1-13766ff46a9c",
   "metadata": {},
   "outputs": [],
   "source": [
    "t"
   ]
  },
  {
   "cell_type": "code",
   "execution_count": null,
   "id": "49924d65-a629-4af1-b660-ddd7227d028c",
   "metadata": {},
   "outputs": [],
   "source": [
    "t2 = this_is_tuple()\n",
    "t2"
   ]
  },
  {
   "cell_type": "code",
   "execution_count": null,
   "id": "40d5ad70-7a5a-456f-ac85-de954afac8f3",
   "metadata": {},
   "outputs": [],
   "source": []
  },
  {
   "cell_type": "code",
   "execution_count": null,
   "id": "1f6e420f-de22-4a29-8aa9-fbca0397dba5",
   "metadata": {},
   "outputs": [],
   "source": [
    "d = DataTest(\"test\")"
   ]
  },
  {
   "cell_type": "code",
   "execution_count": null,
   "id": "bb9099a2-7804-473e-b2c9-2987c4f69956",
   "metadata": {},
   "outputs": [],
   "source": [
    "d"
   ]
  },
  {
   "cell_type": "code",
   "execution_count": null,
   "id": "65f8c079-5b98-4794-b098-959a096f0c10",
   "metadata": {},
   "outputs": [],
   "source": [
    "d.real_thing"
   ]
  },
  {
   "cell_type": "code",
   "execution_count": null,
   "id": "fd01134d-ef35-4bf2-a5ae-eabaa041d3a6",
   "metadata": {},
   "outputs": [],
   "source": [
    "d.real_thing.compute()"
   ]
  },
  {
   "cell_type": "code",
   "execution_count": null,
   "id": "d45aa313-a192-4dbc-abfd-28034f34cdc8",
   "metadata": {},
   "outputs": [],
   "source": [
    "d"
   ]
  },
  {
   "cell_type": "code",
   "execution_count": null,
   "id": "f7344212-7b84-49e1-91c0-8033f6e9a4ea",
   "metadata": {},
   "outputs": [],
   "source": [
    "d.act_t1, d.act_t2"
   ]
  },
  {
   "cell_type": "code",
   "execution_count": null,
   "id": "4221f49b-7fc1-41da-9e91-37c797724c87",
   "metadata": {},
   "outputs": [],
   "source": [
    "d.act_t1.compute()"
   ]
  },
  {
   "cell_type": "code",
   "execution_count": null,
   "id": "5c4b22cb-3712-403e-9d6f-ab916aececac",
   "metadata": {},
   "outputs": [],
   "source": [
    "d"
   ]
  },
  {
   "cell_type": "code",
   "execution_count": null,
   "id": "4d6c8f13-14e0-44dd-8ff8-0c4627d12933",
   "metadata": {},
   "outputs": [],
   "source": []
  },
  {
   "cell_type": "code",
   "execution_count": null,
   "id": "0f8fe734-758c-4524-83e4-952c7489a430",
   "metadata": {},
   "outputs": [],
   "source": [
    "m1 = ModelTest1(\"m1\", test=d)\n",
    "m1"
   ]
  },
  {
   "cell_type": "code",
   "execution_count": null,
   "id": "a1bc8d28-156b-4fac-a994-6c8f56b7dcf6",
   "metadata": {},
   "outputs": [],
   "source": [
    "m1.model.compute()"
   ]
  },
  {
   "cell_type": "code",
   "execution_count": null,
   "id": "c60950c9-b13f-4143-bc58-426d718abc2d",
   "metadata": {},
   "outputs": [],
   "source": [
    "m1.model.compute()"
   ]
  },
  {
   "cell_type": "code",
   "execution_count": null,
   "id": "60785795-b896-4271-9df4-d303b1fee20e",
   "metadata": {},
   "outputs": [],
   "source": [
    "d"
   ]
  },
  {
   "cell_type": "code",
   "execution_count": null,
   "id": "61be0953-7c3d-4441-8800-967b97b98a3c",
   "metadata": {},
   "outputs": [],
   "source": [
    "m1.test"
   ]
  },
  {
   "cell_type": "code",
   "execution_count": null,
   "id": "75c3c9a3-c64f-4d8d-8bc9-667d46149ccc",
   "metadata": {},
   "outputs": [],
   "source": [
    "m1"
   ]
  },
  {
   "cell_type": "code",
   "execution_count": null,
   "id": "f49f4dfd-6d23-4520-b078-40a9e71a23c0",
   "metadata": {},
   "outputs": [],
   "source": []
  },
  {
   "cell_type": "code",
   "execution_count": null,
   "id": "995501b3-0a43-482f-9e3d-17b11f9e4c02",
   "metadata": {},
   "outputs": [],
   "source": [
    "m2 = ModelTest1(\"m2\", test=DataTest(\"d2\"))"
   ]
  },
  {
   "cell_type": "code",
   "execution_count": null,
   "id": "39e92599-caee-4c94-b071-ff38c16283d0",
   "metadata": {},
   "outputs": [],
   "source": [
    "m2"
   ]
  },
  {
   "cell_type": "code",
   "execution_count": null,
   "id": "2c039905-2c14-4560-8632-20ec2c33936f",
   "metadata": {},
   "outputs": [],
   "source": [
    "m2.model.compute()"
   ]
  },
  {
   "cell_type": "code",
   "execution_count": null,
   "id": "d62919eb-f301-4682-b483-684bc429bc0a",
   "metadata": {},
   "outputs": [],
   "source": []
  },
  {
   "cell_type": "code",
   "execution_count": null,
   "id": "46b4812a-5691-4a43-9de6-9664b91b8330",
   "metadata": {},
   "outputs": [],
   "source": [
    "m3 = live_test()\n",
    "m3"
   ]
  },
  {
   "cell_type": "code",
   "execution_count": null,
   "id": "c2c230d1-cdb1-4035-a4ed-5557b546a7c3",
   "metadata": {},
   "outputs": [],
   "source": [
    "m3.final_model.compute()"
   ]
  },
  {
   "cell_type": "code",
   "execution_count": null,
   "id": "1db48ca4-c222-4d20-866b-28822acba95d",
   "metadata": {},
   "outputs": [],
   "source": []
  },
  {
   "cell_type": "code",
   "execution_count": null,
   "id": "1f1dc5f3-636b-4058-b68c-5d53baa51be6",
   "metadata": {},
   "outputs": [],
   "source": [
    "m4 = ModelTest2(\"m4_2\", test=DataTest(\"d4\"))\n",
    "m4"
   ]
  },
  {
   "cell_type": "code",
   "execution_count": null,
   "id": "feed1d7d-9f21-450d-bbdd-3e93f67d630b",
   "metadata": {},
   "outputs": [],
   "source": [
    "m4.model.compute()"
   ]
  },
  {
   "cell_type": "code",
   "execution_count": null,
   "id": "820bacb0-1a1e-4e3f-9baa-ae5bfd4b5ed9",
   "metadata": {},
   "outputs": [],
   "source": []
  },
  {
   "cell_type": "code",
   "execution_count": null,
   "id": "607bf1f0-8803-4fb1-b205-8b151a6a7478",
   "metadata": {},
   "outputs": [],
   "source": [
    "this_is_thing"
   ]
  },
  {
   "cell_type": "code",
   "execution_count": null,
   "id": "68a0fbde-6c54-4c50-b391-91c81da83ef5",
   "metadata": {},
   "outputs": [],
   "source": []
  },
  {
   "cell_type": "code",
   "execution_count": null,
   "id": "4e9f9d20-0766-4c8a-9178-7b25fef71145",
   "metadata": {},
   "outputs": [],
   "source": [
    "m5 = ModelTest4(\"m5_4\", test=DataTest(\"d5\"))\n",
    "m5"
   ]
  },
  {
   "cell_type": "code",
   "execution_count": null,
   "id": "fa3dccf3-c824-41db-9efc-f3ee3b5dc8d2",
   "metadata": {},
   "outputs": [],
   "source": [
    "m5.model.compute()"
   ]
  },
  {
   "cell_type": "code",
   "execution_count": null,
   "id": "b96b7c2e-0325-4dee-bcfd-92224d300d8d",
   "metadata": {},
   "outputs": [],
   "source": [
    "m5"
   ]
  },
  {
   "cell_type": "code",
   "execution_count": null,
   "id": "51ad6e55-f33c-412c-8110-fec89851bf93",
   "metadata": {},
   "outputs": [],
   "source": []
  },
  {
   "cell_type": "code",
   "execution_count": null,
   "id": "cd10b7aa-0fe2-4b21-bdd5-781044f9d1f3",
   "metadata": {},
   "outputs": [],
   "source": [
    "m6 = ModelTest5(name=\"m6_5\", test=DataTest(name='d6'))\n",
    "m6"
   ]
  },
  {
   "cell_type": "code",
   "execution_count": null,
   "id": "bd747804-f52c-4bfd-b970-e9e8ea45bad2",
   "metadata": {},
   "outputs": [],
   "source": [
    "m6.model.compute()"
   ]
  },
  {
   "cell_type": "code",
   "execution_count": null,
   "id": "e407817d-c64d-4b8b-9bb1-7b83e4f43225",
   "metadata": {},
   "outputs": [],
   "source": []
  },
  {
   "cell_type": "code",
   "execution_count": null,
   "id": "5c0806cf-0dfe-431f-9980-dd650386bc5a",
   "metadata": {},
   "outputs": [],
   "source": [
    "m7 = ModelTest6(\"m7_6\", test=DataTest2(\"d7\"))\n",
    "m7"
   ]
  },
  {
   "cell_type": "code",
   "execution_count": null,
   "id": "a71e088b-db0c-48ad-ba65-3c08def25381",
   "metadata": {},
   "outputs": [],
   "source": []
  },
  {
   "cell_type": "code",
   "execution_count": null,
   "id": "1c9896f2-b18a-4563-ab9c-de71cd26287d",
   "metadata": {},
   "outputs": [],
   "source": [
    "from dataclasses import dataclass\n",
    "\n",
    "@dataclass\n",
    "class thing(Experiment):\n",
    "    my_thing: Artifact = lambda self: this_is_tuple(\"5\")"
   ]
  },
  {
   "cell_type": "code",
   "execution_count": null,
   "id": "94186da1-035f-47a4-a0ed-40a5cf91d8b3",
   "metadata": {},
   "outputs": [],
   "source": [
    "t = thing\n",
    "t"
   ]
  },
  {
   "cell_type": "code",
   "execution_count": null,
   "id": "ed8944b3-e460-402c-9e90-d7ebeec23c0b",
   "metadata": {},
   "outputs": [],
   "source": []
  }
 ],
 "metadata": {
  "kernelspec": {
   "display_name": "Python 3 (ipykernel)",
   "language": "python",
   "name": "python3"
  },
  "language_info": {
   "codemirror_mode": {
    "name": "ipython",
    "version": 3
   },
   "file_extension": ".py",
   "mimetype": "text/x-python",
   "name": "python",
   "nbconvert_exporter": "python",
   "pygments_lexer": "ipython3",
   "version": "3.12.1"
  }
 },
 "nbformat": 4,
 "nbformat_minor": 5
}
