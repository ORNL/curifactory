{
 "cells": [
  {
   "cell_type": "code",
   "execution_count": 5,
   "id": "e3fecb38-5ce9-4970-a3e1-bbf577a5a114",
   "metadata": {},
   "outputs": [
    {
     "name": "stdout",
     "output_type": "stream",
     "text": [
      "The autoreload extension is already loaded. To reload it, use:\n",
      "  %reload_ext autoreload\n"
     ]
    }
   ],
   "source": [
    "%load_ext autoreload\n",
    "%autoreload 2"
   ]
  },
  {
   "cell_type": "code",
   "execution_count": 37,
   "id": "62fc3711-4e36-431f-af29-03431c9eb1e1",
   "metadata": {},
   "outputs": [],
   "source": [
    "#from new_concepts import DataTest, Experiment\n",
    "from new_concepts import Experiment, Artifact, Stage, stage, this_is_thing, this_is_tuple, DataTest, ModelTest1, live_test, ModelTest2, ModelTest3, ModelTest4, ModelTest5, ModelTest6, DataTest2"
   ]
  },
  {
   "cell_type": "code",
   "execution_count": 7,
   "id": "37eec1bb-bb4c-4b15-bed6-69ac4af8447c",
   "metadata": {},
   "outputs": [
    {
     "name": "stdout",
     "output_type": "stream",
     "text": [
      "Executing stage for this_is_thing\n"
     ]
    },
    {
     "data": {
      "text/plain": [
       "Artifact 'thing': 'YESSSS'"
      ]
     },
     "execution_count": 7,
     "metadata": {},
     "output_type": "execute_result"
    }
   ],
   "source": [
    "this_is_thing()()"
   ]
  },
  {
   "cell_type": "code",
   "execution_count": 8,
   "id": "37a4fe39-2366-4f69-a91b-116cbdf87387",
   "metadata": {},
   "outputs": [
    {
     "data": {
      "text/plain": [
       "Stage(function=<function this_is_thing at 0x7fc23871c040>, args=(), kwargs={}, output_names=['thing'], caching_strats=[None], thing=Artifact 'thing')"
      ]
     },
     "execution_count": 8,
     "metadata": {},
     "output_type": "execute_result"
    }
   ],
   "source": [
    "t = this_is_thing()\n",
    "t"
   ]
  },
  {
   "cell_type": "code",
   "execution_count": 9,
   "id": "a39acaf6-b904-470d-80d4-5134de80baf4",
   "metadata": {},
   "outputs": [
    {
     "data": {
      "text/plain": [
       "'this_is_thing'"
      ]
     },
     "execution_count": 9,
     "metadata": {},
     "output_type": "execute_result"
    }
   ],
   "source": [
    "t.function.__name__"
   ]
  },
  {
   "cell_type": "code",
   "execution_count": null,
   "id": "9388628c-668c-43b9-b55f-e74bad5f862a",
   "metadata": {},
   "outputs": [],
   "source": [
    "tout = t()\n",
    "tout"
   ]
  },
  {
   "cell_type": "code",
   "execution_count": null,
   "id": "69c99982-66d2-42cb-8f9e-c506145f694f",
   "metadata": {},
   "outputs": [],
   "source": [
    "tout.object"
   ]
  },
  {
   "cell_type": "code",
   "execution_count": null,
   "id": "e88049ba-34a1-4070-b5a1-13766ff46a9c",
   "metadata": {},
   "outputs": [],
   "source": [
    "t"
   ]
  },
  {
   "cell_type": "code",
   "execution_count": null,
   "id": "49924d65-a629-4af1-b660-ddd7227d028c",
   "metadata": {},
   "outputs": [],
   "source": [
    "t2 = this_is_tuple()\n",
    "t2"
   ]
  },
  {
   "cell_type": "code",
   "execution_count": null,
   "id": "40d5ad70-7a5a-456f-ac85-de954afac8f3",
   "metadata": {},
   "outputs": [],
   "source": []
  },
  {
   "cell_type": "code",
   "execution_count": null,
   "id": "1f6e420f-de22-4a29-8aa9-fbca0397dba5",
   "metadata": {},
   "outputs": [],
   "source": [
    "d = DataTest(\"test\")"
   ]
  },
  {
   "cell_type": "code",
   "execution_count": null,
   "id": "bb9099a2-7804-473e-b2c9-2987c4f69956",
   "metadata": {},
   "outputs": [],
   "source": [
    "d"
   ]
  },
  {
   "cell_type": "code",
   "execution_count": null,
   "id": "65f8c079-5b98-4794-b098-959a096f0c10",
   "metadata": {},
   "outputs": [],
   "source": [
    "d.real_thing"
   ]
  },
  {
   "cell_type": "code",
   "execution_count": null,
   "id": "fd01134d-ef35-4bf2-a5ae-eabaa041d3a6",
   "metadata": {},
   "outputs": [],
   "source": [
    "d.real_thing.compute()"
   ]
  },
  {
   "cell_type": "code",
   "execution_count": null,
   "id": "d45aa313-a192-4dbc-abfd-28034f34cdc8",
   "metadata": {},
   "outputs": [],
   "source": [
    "d"
   ]
  },
  {
   "cell_type": "code",
   "execution_count": null,
   "id": "f7344212-7b84-49e1-91c0-8033f6e9a4ea",
   "metadata": {},
   "outputs": [],
   "source": [
    "d.act_t1, d.act_t2"
   ]
  },
  {
   "cell_type": "code",
   "execution_count": null,
   "id": "4221f49b-7fc1-41da-9e91-37c797724c87",
   "metadata": {},
   "outputs": [],
   "source": [
    "d.act_t1.compute()"
   ]
  },
  {
   "cell_type": "code",
   "execution_count": null,
   "id": "5c4b22cb-3712-403e-9d6f-ab916aececac",
   "metadata": {},
   "outputs": [],
   "source": [
    "d"
   ]
  },
  {
   "cell_type": "code",
   "execution_count": null,
   "id": "4d6c8f13-14e0-44dd-8ff8-0c4627d12933",
   "metadata": {},
   "outputs": [],
   "source": []
  },
  {
   "cell_type": "code",
   "execution_count": null,
   "id": "0f8fe734-758c-4524-83e4-952c7489a430",
   "metadata": {},
   "outputs": [],
   "source": [
    "m1 = ModelTest1(\"m1\", test=d)\n",
    "m1"
   ]
  },
  {
   "cell_type": "code",
   "execution_count": null,
   "id": "a1bc8d28-156b-4fac-a994-6c8f56b7dcf6",
   "metadata": {},
   "outputs": [],
   "source": [
    "m1.model.compute()"
   ]
  },
  {
   "cell_type": "code",
   "execution_count": null,
   "id": "c60950c9-b13f-4143-bc58-426d718abc2d",
   "metadata": {},
   "outputs": [],
   "source": [
    "m1.model.compute()"
   ]
  },
  {
   "cell_type": "code",
   "execution_count": null,
   "id": "60785795-b896-4271-9df4-d303b1fee20e",
   "metadata": {},
   "outputs": [],
   "source": [
    "d"
   ]
  },
  {
   "cell_type": "code",
   "execution_count": null,
   "id": "61be0953-7c3d-4441-8800-967b97b98a3c",
   "metadata": {},
   "outputs": [],
   "source": [
    "m1.test"
   ]
  },
  {
   "cell_type": "code",
   "execution_count": null,
   "id": "75c3c9a3-c64f-4d8d-8bc9-667d46149ccc",
   "metadata": {},
   "outputs": [],
   "source": [
    "m1"
   ]
  },
  {
   "cell_type": "code",
   "execution_count": null,
   "id": "f49f4dfd-6d23-4520-b078-40a9e71a23c0",
   "metadata": {},
   "outputs": [],
   "source": []
  },
  {
   "cell_type": "code",
   "execution_count": null,
   "id": "995501b3-0a43-482f-9e3d-17b11f9e4c02",
   "metadata": {},
   "outputs": [],
   "source": [
    "m2 = ModelTest1(\"m2\", test=DataTest(\"d2\"))"
   ]
  },
  {
   "cell_type": "code",
   "execution_count": null,
   "id": "39e92599-caee-4c94-b071-ff38c16283d0",
   "metadata": {},
   "outputs": [],
   "source": [
    "m2"
   ]
  },
  {
   "cell_type": "code",
   "execution_count": null,
   "id": "2c039905-2c14-4560-8632-20ec2c33936f",
   "metadata": {},
   "outputs": [],
   "source": [
    "m2.model.compute()"
   ]
  },
  {
   "cell_type": "code",
   "execution_count": null,
   "id": "d62919eb-f301-4682-b483-684bc429bc0a",
   "metadata": {},
   "outputs": [],
   "source": []
  },
  {
   "cell_type": "code",
   "execution_count": null,
   "id": "46b4812a-5691-4a43-9de6-9664b91b8330",
   "metadata": {},
   "outputs": [],
   "source": [
    "m3 = live_test()\n",
    "m3"
   ]
  },
  {
   "cell_type": "code",
   "execution_count": null,
   "id": "c2c230d1-cdb1-4035-a4ed-5557b546a7c3",
   "metadata": {},
   "outputs": [],
   "source": [
    "m3.final_model.compute()"
   ]
  },
  {
   "cell_type": "code",
   "execution_count": null,
   "id": "1db48ca4-c222-4d20-866b-28822acba95d",
   "metadata": {},
   "outputs": [],
   "source": []
  },
  {
   "cell_type": "code",
   "execution_count": null,
   "id": "1f1dc5f3-636b-4058-b68c-5d53baa51be6",
   "metadata": {},
   "outputs": [],
   "source": [
    "m4 = ModelTest2(\"m4_2\", test=DataTest(\"d4\"))\n",
    "m4"
   ]
  },
  {
   "cell_type": "code",
   "execution_count": null,
   "id": "feed1d7d-9f21-450d-bbdd-3e93f67d630b",
   "metadata": {},
   "outputs": [],
   "source": [
    "m4.model.compute()"
   ]
  },
  {
   "cell_type": "code",
   "execution_count": null,
   "id": "820bacb0-1a1e-4e3f-9baa-ae5bfd4b5ed9",
   "metadata": {},
   "outputs": [],
   "source": []
  },
  {
   "cell_type": "code",
   "execution_count": null,
   "id": "607bf1f0-8803-4fb1-b205-8b151a6a7478",
   "metadata": {},
   "outputs": [],
   "source": [
    "this_is_thing"
   ]
  },
  {
   "cell_type": "code",
   "execution_count": null,
   "id": "68a0fbde-6c54-4c50-b391-91c81da83ef5",
   "metadata": {},
   "outputs": [],
   "source": []
  },
  {
   "cell_type": "code",
   "execution_count": 27,
   "id": "4e9f9d20-0766-4c8a-9178-7b25fef71145",
   "metadata": {},
   "outputs": [
    {
     "name": "stdout",
     "output_type": "stream",
     "text": [
      "Field(name='name',type=<class 'str'>,default=<dataclasses._MISSING_TYPE object at 0x7fc23d586160>,default_factory=<dataclasses._MISSING_TYPE object at 0x7fc23d586160>,init=True,repr=True,hash=None,compare=True,metadata=mappingproxy({}),_field_type=_FIELD)\n",
      "Field(name='real_thing',type=<class 'new_concepts.Artifact'>,default=Artifact 'thing',default_factory=<dataclasses._MISSING_TYPE object at 0x7fc23d586160>,init=True,repr=True,hash=None,compare=True,metadata=mappingproxy({}),_field_type=_FIELD)\n",
      "Field(name='act_t1',type=<class 'new_concepts.Artifact'>,default=Artifact 'thing1',default_factory=<dataclasses._MISSING_TYPE object at 0x7fc23d586160>,init=True,repr=True,hash=None,compare=True,metadata=mappingproxy({}),_field_type=_FIELD)\n",
      "Field(name='act_t2',type=<class 'new_concepts.Artifact'>,default=Artifact 'thing2',default_factory=<dataclasses._MISSING_TYPE object at 0x7fc23d586160>,init=True,repr=True,hash=None,compare=True,metadata=mappingproxy({}),_field_type=_FIELD)\n",
      "Field(name='name',type=<class 'str'>,default=<dataclasses._MISSING_TYPE object at 0x7fc23d586160>,default_factory=<dataclasses._MISSING_TYPE object at 0x7fc23d586160>,init=True,repr=True,hash=None,compare=True,metadata=mappingproxy({}),_field_type=_FIELD)\n",
      "Field(name='test',type=<class 'new_concepts.DataTest'>,default=<dataclasses._MISSING_TYPE object at 0x7fc23d586160>,default_factory=<dataclasses._MISSING_TYPE object at 0x7fc23d586160>,init=True,repr=True,hash=None,compare=True,metadata=mappingproxy({}),_field_type=_FIELD)\n",
      "Field(name='my_param',type=<class 'int'>,default=6,default_factory=<dataclasses._MISSING_TYPE object at 0x7fc23d586160>,init=True,repr=True,hash=None,compare=True,metadata=mappingproxy({}),_field_type=_FIELD)\n",
      "Field(name='model',type=<class 'new_concepts.Artifact'>,default=<dataclasses._MISSING_TYPE object at 0x7fc23d586160>,default_factory=<function default.<locals>.<lambda> at 0x7fc2381a9f70>,init=True,repr=True,hash=None,compare=True,metadata=mappingproxy({}),_field_type=_FIELD)\n",
      "Found a defaultflow\n"
     ]
    },
    {
     "data": {
      "text/plain": [
       "ModelTest4(name='m5_4', test=DataTest(name='d5', real_thing=Artifact 'thing', act_t1=Artifact 'thing1', act_t2=Artifact 'thing2'), my_param=6, model=Artifact 'final_model')"
      ]
     },
     "execution_count": 27,
     "metadata": {},
     "output_type": "execute_result"
    }
   ],
   "source": [
    "m5 = ModelTest4(\"m5_4\", test=DataTest(\"d5\"))\n",
    "m5"
   ]
  },
  {
   "cell_type": "code",
   "execution_count": 31,
   "id": "fa3dccf3-c824-41db-9efc-f3ee3b5dc8d2",
   "metadata": {},
   "outputs": [
    {
     "name": "stdout",
     "output_type": "stream",
     "text": [
      "Executing stage for train_model\n",
      "\tType of arg <class 'new_concepts.Artifact'> True\n",
      "\t\tNot computed!\n",
      "Executing stage for this_is_thing\n",
      "\tType of arg <class 'new_concepts.Artifact'> True\n",
      "\t\tNot computed!\n",
      "Executing stage for this_is_tuple\n",
      "\tType of arg <class 'new_concepts.Artifact'> True\n",
      "\tType of arg <class 'int'> False\n",
      "I'm using 6...\n"
     ]
    },
    {
     "data": {
      "text/plain": [
       "Artifact 'final_model': 'YESSSS,world YESSSS,6'"
      ]
     },
     "execution_count": 31,
     "metadata": {},
     "output_type": "execute_result"
    }
   ],
   "source": [
    "m5.model.compute()"
   ]
  },
  {
   "cell_type": "code",
   "execution_count": 32,
   "id": "b96b7c2e-0325-4dee-bcfd-92224d300d8d",
   "metadata": {},
   "outputs": [
    {
     "data": {
      "text/plain": [
       "ModelTest4(name='m5_4', test=DataTest(name='d5', real_thing=Artifact 'thing': 'YESSSS', act_t1=Artifact 'thing1': 'hello', act_t2=Artifact 'thing2': 'world YESSSS'), my_param=6, model=Artifact 'final_model': 'YESSSS,world YESSSS,6')"
      ]
     },
     "execution_count": 32,
     "metadata": {},
     "output_type": "execute_result"
    }
   ],
   "source": [
    "m5"
   ]
  },
  {
   "cell_type": "code",
   "execution_count": null,
   "id": "51ad6e55-f33c-412c-8110-fec89851bf93",
   "metadata": {},
   "outputs": [],
   "source": []
  },
  {
   "cell_type": "code",
   "execution_count": 34,
   "id": "cd10b7aa-0fe2-4b21-bdd5-781044f9d1f3",
   "metadata": {},
   "outputs": [
    {
     "name": "stdout",
     "output_type": "stream",
     "text": [
      "Field(name='name',type=<class 'str'>,default=<dataclasses._MISSING_TYPE object at 0x7fc23d586160>,default_factory=<dataclasses._MISSING_TYPE object at 0x7fc23d586160>,init=True,repr=True,hash=None,compare=True,metadata=mappingproxy({}),_field_type=_FIELD)\n",
      "Field(name='real_thing',type=<class 'new_concepts.Artifact'>,default=Artifact 'thing',default_factory=<dataclasses._MISSING_TYPE object at 0x7fc23d586160>,init=True,repr=True,hash=None,compare=True,metadata=mappingproxy({}),_field_type=_FIELD)\n",
      "Field(name='act_t1',type=<class 'new_concepts.Artifact'>,default=Artifact 'thing1',default_factory=<dataclasses._MISSING_TYPE object at 0x7fc23d586160>,init=True,repr=True,hash=None,compare=True,metadata=mappingproxy({}),_field_type=_FIELD)\n",
      "Field(name='act_t2',type=<class 'new_concepts.Artifact'>,default=Artifact 'thing2',default_factory=<dataclasses._MISSING_TYPE object at 0x7fc23d586160>,init=True,repr=True,hash=None,compare=True,metadata=mappingproxy({}),_field_type=_FIELD)\n",
      "Field(name='name',type=<class 'str'>,default=<dataclasses._MISSING_TYPE object at 0x7fc23d586160>,default_factory=<dataclasses._MISSING_TYPE object at 0x7fc23d586160>,init=True,repr=True,hash=None,compare=True,metadata=mappingproxy({}),_field_type=_FIELD)\n",
      "Field(name='test',type=<class 'new_concepts.DataTest'>,default=<dataclasses._MISSING_TYPE object at 0x7fc23d586160>,default_factory=<dataclasses._MISSING_TYPE object at 0x7fc23d586160>,init=True,repr=True,hash=None,compare=True,metadata=mappingproxy({}),_field_type=_FIELD)\n",
      "Field(name='my_param',type=<class 'int'>,default=6,default_factory=<dataclasses._MISSING_TYPE object at 0x7fc23d586160>,init=True,repr=True,hash=None,compare=True,metadata=mappingproxy({}),_field_type=_FIELD)\n",
      "Field(name='model',type=<class 'new_concepts.Artifact'>,default=None,default_factory=<dataclasses._MISSING_TYPE object at 0x7fc23d586160>,init=True,repr=True,hash=None,compare=True,metadata=mappingproxy({}),_field_type=_FIELD)\n",
      "Found assignment function for artifact, running...\n"
     ]
    },
    {
     "data": {
      "text/plain": [
       "ModelTest5(name='m6_5', test=DataTest(name='d6', real_thing=Artifact 'thing', act_t1=Artifact 'thing1', act_t2=Artifact 'thing2'), my_param=6, model=Artifact 'final_model')"
      ]
     },
     "execution_count": 34,
     "metadata": {},
     "output_type": "execute_result"
    }
   ],
   "source": [
    "m6 = ModelTest5(name=\"m6_5\", test=DataTest(name='d6'))\n",
    "m6"
   ]
  },
  {
   "cell_type": "code",
   "execution_count": 36,
   "id": "bd747804-f52c-4bfd-b970-e9e8ea45bad2",
   "metadata": {},
   "outputs": [
    {
     "name": "stdout",
     "output_type": "stream",
     "text": [
      "Executing stage for train_model\n",
      "\tType of arg <class 'new_concepts.Artifact'> True\n",
      "\t\tNot computed!\n",
      "Executing stage for this_is_thing\n",
      "\tType of arg <class 'new_concepts.Artifact'> True\n",
      "\t\tNot computed!\n",
      "Executing stage for this_is_tuple\n",
      "\tType of arg <class 'new_concepts.Artifact'> True\n",
      "\tType of arg <class 'int'> False\n",
      "I'm using 6...\n"
     ]
    },
    {
     "data": {
      "text/plain": [
       "Artifact 'final_model': 'YESSSS,world YESSSS,6'"
      ]
     },
     "execution_count": 36,
     "metadata": {},
     "output_type": "execute_result"
    }
   ],
   "source": [
    "m6.model.compute()"
   ]
  },
  {
   "cell_type": "code",
   "execution_count": null,
   "id": "e407817d-c64d-4b8b-9bb1-7b83e4f43225",
   "metadata": {},
   "outputs": [],
   "source": []
  },
  {
   "cell_type": "code",
   "execution_count": 38,
   "id": "5c0806cf-0dfe-431f-9980-dd650386bc5a",
   "metadata": {},
   "outputs": [
    {
     "name": "stdout",
     "output_type": "stream",
     "text": [
      "Field(name='name',type=<class 'str'>,default=<dataclasses._MISSING_TYPE object at 0x7fc23d586160>,default_factory=<dataclasses._MISSING_TYPE object at 0x7fc23d586160>,init=True,repr=True,hash=None,compare=True,metadata=mappingproxy({}),_field_type=_FIELD)\n",
      "Field(name='real_thing',type=<class 'new_concepts.Artifact'>,default=<dataclasses._MISSING_TYPE object at 0x7fc23d586160>,default_factory=<function default.<locals>.<lambda> at 0x7fc2381bcc10>,init=True,repr=True,hash=None,compare=True,metadata=mappingproxy({}),_field_type=_FIELD)\n",
      "Found a defaultflow\n",
      "Field(name='first_creation',type=<class 'new_concepts.Stage'>,default=<dataclasses._MISSING_TYPE object at 0x7fc23d586160>,default_factory=<function default.<locals>.<lambda> at 0x7fc2381bcd30>,init=True,repr=True,hash=None,compare=True,metadata=mappingproxy({}),_field_type=_FIELD)\n",
      "Found a defaultflow\n",
      "Field(name='act_t1',type=<class 'new_concepts.Artifact'>,default=<dataclasses._MISSING_TYPE object at 0x7fc23d586160>,default_factory=<function default.<locals>.<lambda> at 0x7fc2381bce50>,init=True,repr=True,hash=None,compare=True,metadata=mappingproxy({}),_field_type=_FIELD)\n",
      "Found a defaultflow\n",
      "Field(name='act_t2',type=<class 'new_concepts.Artifact'>,default=<dataclasses._MISSING_TYPE object at 0x7fc23d586160>,default_factory=<function default.<locals>.<lambda> at 0x7fc2381bcf70>,init=True,repr=True,hash=None,compare=True,metadata=mappingproxy({}),_field_type=_FIELD)\n",
      "Found a defaultflow\n",
      "Field(name='name',type=<class 'str'>,default=<dataclasses._MISSING_TYPE object at 0x7fc23d586160>,default_factory=<dataclasses._MISSING_TYPE object at 0x7fc23d586160>,init=True,repr=True,hash=None,compare=True,metadata=mappingproxy({}),_field_type=_FIELD)\n",
      "Field(name='test',type=<class 'new_concepts.DataTest2'>,default=<dataclasses._MISSING_TYPE object at 0x7fc23d586160>,default_factory=<dataclasses._MISSING_TYPE object at 0x7fc23d586160>,init=True,repr=True,hash=None,compare=True,metadata=mappingproxy({}),_field_type=_FIELD)\n",
      "Field(name='my_param',type=<class 'int'>,default=6,default_factory=<dataclasses._MISSING_TYPE object at 0x7fc23d586160>,init=True,repr=True,hash=None,compare=True,metadata=mappingproxy({}),_field_type=_FIELD)\n",
      "Field(name='training',type=<class 'new_concepts.Stage'>,default=<dataclasses._MISSING_TYPE object at 0x7fc23d586160>,default_factory=<function default.<locals>.<lambda> at 0x7fc2381953a0>,init=True,repr=True,hash=None,compare=True,metadata=mappingproxy({}),_field_type=_FIELD)\n",
      "Found a defaultflow\n",
      "Field(name='model',type=<class 'new_concepts.Artifact'>,default=<dataclasses._MISSING_TYPE object at 0x7fc23d586160>,default_factory=<function default.<locals>.<lambda> at 0x7fc2381954c0>,init=True,repr=True,hash=None,compare=True,metadata=mappingproxy({}),_field_type=_FIELD)\n",
      "Found a defaultflow\n"
     ]
    },
    {
     "data": {
      "text/plain": [
       "ModelTest6(name='m7_6', test=DataTest2(name='d7', real_thing=Artifact 'thing', first_creation=Stage(function=<function this_is_tuple at 0x7fc2381a15e0>, args=(Artifact 'thing',), kwargs={}, output_names=['thing1', 'thing2'], caching_strats=['pickle', 'csv'], thing1=Artifact 'thing1', thing2=Artifact 'thing2'), act_t1=Artifact 'thing1', act_t2=Artifact 'thing2'), my_param=6, training=Stage(function=<function train_model at 0x7fc2381a18b0>, args=(Artifact 'thing', Artifact 'thing2', 6), kwargs={}, output_names=['final_model'], caching_strats=['model'], final_model=Artifact 'final_model'), model=Artifact 'final_model')"
      ]
     },
     "execution_count": 38,
     "metadata": {},
     "output_type": "execute_result"
    }
   ],
   "source": [
    "m7 = ModelTest6(\"m7_6\", test=DataTest2(\"d7\"))\n",
    "m7"
   ]
  },
  {
   "cell_type": "code",
   "execution_count": null,
   "id": "a71e088b-db0c-48ad-ba65-3c08def25381",
   "metadata": {},
   "outputs": [],
   "source": []
  },
  {
   "cell_type": "code",
   "execution_count": 39,
   "id": "1c9896f2-b18a-4563-ab9c-de71cd26287d",
   "metadata": {},
   "outputs": [],
   "source": [
    "from dataclasses import dataclass\n",
    "\n",
    "@dataclass\n",
    "class thing(Experiment):\n",
    "    my_thing: Artifact = lambda self: this_is_tuple(\"5\")"
   ]
  },
  {
   "cell_type": "code",
   "execution_count": 42,
   "id": "94186da1-035f-47a4-a0ed-40a5cf91d8b3",
   "metadata": {},
   "outputs": [
    {
     "data": {
      "text/plain": [
       "__main__.thing"
      ]
     },
     "execution_count": 42,
     "metadata": {},
     "output_type": "execute_result"
    }
   ],
   "source": [
    "t = thing\n",
    "t"
   ]
  },
  {
   "cell_type": "code",
   "execution_count": null,
   "id": "ed8944b3-e460-402c-9e90-d7ebeec23c0b",
   "metadata": {},
   "outputs": [],
   "source": []
  }
 ],
 "metadata": {
  "kernelspec": {
   "display_name": "Python 3 (ipykernel)",
   "language": "python",
   "name": "python3"
  },
  "language_info": {
   "codemirror_mode": {
    "name": "ipython",
    "version": 3
   },
   "file_extension": ".py",
   "mimetype": "text/x-python",
   "name": "python",
   "nbconvert_exporter": "python",
   "pygments_lexer": "ipython3",
   "version": "3.9.13"
  }
 },
 "nbformat": 4,
 "nbformat_minor": 5
}
