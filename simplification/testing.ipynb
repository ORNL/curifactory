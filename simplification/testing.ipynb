{
 "cells": [
  {
   "cell_type": "code",
   "execution_count": 1,
   "id": "e3fecb38-5ce9-4970-a3e1-bbf577a5a114",
   "metadata": {},
   "outputs": [],
   "source": [
    "%load_ext autoreload\n",
    "%autoreload 2"
   ]
  },
  {
   "cell_type": "code",
   "execution_count": 2,
   "id": "2a42c469-082d-4761-8eb0-a384a816ac3f",
   "metadata": {},
   "outputs": [],
   "source": [
    "from artifact import Artifacts"
   ]
  },
  {
   "cell_type": "code",
   "execution_count": 3,
   "id": "5520727a-14f2-43ae-9945-58a32957baa2",
   "metadata": {},
   "outputs": [],
   "source": [
    "Artifacts.display()"
   ]
  },
  {
   "cell_type": "code",
   "execution_count": 4,
   "id": "f3c83d33-fad9-438b-be9d-7df8ecd73365",
   "metadata": {},
   "outputs": [
    {
     "name": "stdout",
     "output_type": "stream",
     "text": [
      "Setting context name of outputs to outputs\n",
      "Setting context name of scores to scores\n",
      "Setting context name of models to models\n",
      "Setting context name of testing_data to test_data\n",
      "Setting context name of scores to outputs\n",
      "lr_vs_rf.outputs     : Artifact 'scores'                                  : 140371903982176               \n",
      "lr_vs_rf.scores      : Artifact 'scores'                                  : 140371903982176               \n",
      "lr_vs_rf.models      : ArtifactList('models', [Artifact 'model', Artifact 'model']) : 140371903983232               \n",
      "lr_vs_rf.test_data   : Artifact 'testing_data'                            : 140371903983136               \n"
     ]
    }
   ],
   "source": [
    "from examples import lr_vs_rf"
   ]
  },
  {
   "cell_type": "code",
   "execution_count": 5,
   "id": "64942ae4-eaea-4cb2-b0fd-be1db3ed8c6c",
   "metadata": {},
   "outputs": [
    {
     "data": {
      "text/plain": [
       "compare_sklearn_algs(name='lr_vs_rf', model_set=[ModelParameters(name='simple_lr', model_type=<class 'sklearn.linear_model._logistic.LogisticRegression'>, n=100, balanced=True), ModelParameters(name='simple_rf', model_type=<class 'sklearn.ensemble._forest.RandomForestClassifier'>, n=100, balanced=False)], test_percent=1, seed=1)"
      ]
     },
     "execution_count": 5,
     "metadata": {},
     "output_type": "execute_result"
    }
   ],
   "source": [
    "lr_vs_rf"
   ]
  },
  {
   "cell_type": "code",
   "execution_count": 11,
   "id": "f9176a68-c910-472a-bd90-0f24497c946a",
   "metadata": {},
   "outputs": [
    {
     "data": {
      "text/plain": [
       "Artifact 'model': LogisticRegression(class_weight='balanced', random_state=1)"
      ]
     },
     "execution_count": 11,
     "metadata": {},
     "output_type": "execute_result"
    }
   ],
   "source": [
    "lr_vs_rf.models[0]"
   ]
  },
  {
   "cell_type": "code",
   "execution_count": null,
   "id": "6bd3b953-8396-449c-9260-143567374086",
   "metadata": {},
   "outputs": [],
   "source": [
    "lr_vs_rf.outputs.compute.args[1].compute.outputs.object"
   ]
  },
  {
   "cell_type": "code",
   "execution_count": 7,
   "id": "562f076d-7b05-4f05-b6cd-c05337b7bc4f",
   "metadata": {},
   "outputs": [
    {
     "name": "stdout",
     "output_type": "stream",
     "text": [
      "Executing stage for test_models\n",
      "\tType of arg <class 'list'> False\n",
      "\tType of arg <class 'artifact.ArtifactList'> True\n",
      "\t\t models  not computed! , <class 'artifact.ArtifactList'> ArtifactList('models', [Artifact 'model': LogisticRegression(class_weight='balanced', random_state=1), Artifact 'model': RandomForestClassifier(random_state=1)])\n",
      "Executing stage for _aggregate_artifact_list\n",
      "\tType of arg <class 'artifact.Artifact'> True\n",
      "\tType of arg <class 'artifact.Artifact'> True\n",
      "\t\t\tOkay appending None\n",
      "\tType of arg <class 'artifact.Artifact'> True\n"
     ]
    },
    {
     "ename": "TypeError",
     "evalue": "'NoneType' object is not iterable",
     "output_type": "error",
     "traceback": [
      "\u001b[0;31m---------------------------------------------------------------------------\u001b[0m",
      "\u001b[0;31mTypeError\u001b[0m                                 Traceback (most recent call last)",
      "Cell \u001b[0;32mIn[7], line 1\u001b[0m\n\u001b[0;32m----> 1\u001b[0m \u001b[43mlr_vs_rf\u001b[49m\u001b[38;5;241;43m.\u001b[39;49m\u001b[43moutputs\u001b[49m\u001b[38;5;241;43m.\u001b[39;49m\u001b[43mcompute\u001b[49m\u001b[43m(\u001b[49m\u001b[43m)\u001b[49m\n",
      "File \u001b[0;32m~/lab/curifactory/simplification/stage.py:178\u001b[0m, in \u001b[0;36mStage.__call__\u001b[0;34m(self)\u001b[0m\n\u001b[1;32m    175\u001b[0m \u001b[38;5;28;01mif\u001b[39;00m \u001b[38;5;28mself\u001b[39m\u001b[38;5;241m.\u001b[39mpass_self:\n\u001b[1;32m    176\u001b[0m     passed_args\u001b[38;5;241m.\u001b[39minsert(\u001b[38;5;241m0\u001b[39m, \u001b[38;5;28mself\u001b[39m)\n\u001b[0;32m--> 178\u001b[0m function_outputs \u001b[38;5;241m=\u001b[39m \u001b[38;5;28;43mself\u001b[39;49m\u001b[38;5;241;43m.\u001b[39;49m\u001b[43mfunction\u001b[49m\u001b[43m(\u001b[49m\u001b[38;5;241;43m*\u001b[39;49m\u001b[43mpassed_args\u001b[49m\u001b[43m,\u001b[49m\u001b[43m \u001b[49m\u001b[38;5;241;43m*\u001b[39;49m\u001b[38;5;241;43m*\u001b[39;49m\u001b[43mpassed_kwargs\u001b[49m\u001b[43m)\u001b[49m\n\u001b[1;32m    180\u001b[0m \u001b[38;5;28;01mif\u001b[39;00m \u001b[38;5;28mtype\u001b[39m(\u001b[38;5;28mself\u001b[39m\u001b[38;5;241m.\u001b[39moutputs) \u001b[38;5;129;01mis\u001b[39;00m \u001b[38;5;28mlist\u001b[39m:\n\u001b[1;32m    181\u001b[0m     \u001b[38;5;28;01mif\u001b[39;00m \u001b[38;5;28mlen\u001b[39m(\u001b[38;5;28mself\u001b[39m\u001b[38;5;241m.\u001b[39moutputs) \u001b[38;5;241m<\u001b[39m \u001b[38;5;241m1\u001b[39m:\n",
      "File \u001b[0;32m~/lab/curifactory/simplification/examples.py:135\u001b[0m, in \u001b[0;36mtest_models\u001b[0;34m(names, models, testing_data)\u001b[0m\n\u001b[1;32m    131\u001b[0m \u001b[38;5;129m@stage\u001b[39m([Artifact(\u001b[38;5;124m\"\u001b[39m\u001b[38;5;124mscores\u001b[39m\u001b[38;5;124m\"\u001b[39m)])\n\u001b[1;32m    132\u001b[0m \u001b[38;5;28;01mdef\u001b[39;00m \u001b[38;5;21mtest_models\u001b[39m(names, models, testing_data):\n\u001b[1;32m    133\u001b[0m     scores \u001b[38;5;241m=\u001b[39m {}\n\u001b[0;32m--> 135\u001b[0m     \u001b[38;5;28;01mfor\u001b[39;00m index, model \u001b[38;5;129;01min\u001b[39;00m \u001b[38;5;28;43menumerate\u001b[39;49m\u001b[43m(\u001b[49m\u001b[43mmodels\u001b[49m\u001b[43m)\u001b[49m:\n\u001b[1;32m    136\u001b[0m         score \u001b[38;5;241m=\u001b[39m model\u001b[38;5;241m.\u001b[39mscore(testing_data[\u001b[38;5;241m0\u001b[39m], testing_data[\u001b[38;5;241m1\u001b[39m])\n\u001b[1;32m    138\u001b[0m         scores[names[index]] \u001b[38;5;241m=\u001b[39m score\n",
      "\u001b[0;31mTypeError\u001b[0m: 'NoneType' object is not iterable"
     ]
    }
   ],
   "source": [
    "lr_vs_rf.outputs.compute()"
   ]
  },
  {
   "cell_type": "code",
   "execution_count": null,
   "id": "927ef327-6ff0-4e76-86e5-2ccff1854a36",
   "metadata": {},
   "outputs": [],
   "source": [
    "lr_vs_rf.outputs.artifact_tree()"
   ]
  },
  {
   "cell_type": "code",
   "execution_count": null,
   "id": "8e999646-af8d-49de-b423-77ba6a976f7b",
   "metadata": {},
   "outputs": [],
   "source": [
    "lr_vs_rf.scores"
   ]
  },
  {
   "cell_type": "code",
   "execution_count": null,
   "id": "45ae01e7-783e-4d21-b37e-a37738b10eff",
   "metadata": {},
   "outputs": [],
   "source": [
    "Artifacts[\"lr_vs_rf.outputs\"].artifacts"
   ]
  },
  {
   "cell_type": "code",
   "execution_count": null,
   "id": "476b0a03-9ef3-418d-933a-7a8cba997e22",
   "metadata": {},
   "outputs": [],
   "source": [
    "Artifacts[\"lr_vs_rf.outputs\"].compute_hash()"
   ]
  },
  {
   "cell_type": "code",
   "execution_count": null,
   "id": "19390512-1018-4de6-820f-f002c3369659",
   "metadata": {},
   "outputs": [],
   "source": [
    "lr_vs_rf.models[1]"
   ]
  },
  {
   "cell_type": "code",
   "execution_count": null,
   "id": "ca245349-e5ef-464f-ae89-0b779d1ad81c",
   "metadata": {},
   "outputs": [],
   "source": [
    "smaller = lr_vs_rf.modify(name=\"smaller\", model_set=[lr_vs_rf.model_set[0]])"
   ]
  },
  {
   "cell_type": "code",
   "execution_count": null,
   "id": "200e8a16-2429-41f7-af60-02a628b65997",
   "metadata": {},
   "outputs": [],
   "source": [
    "smaller.map()"
   ]
  },
  {
   "cell_type": "code",
   "execution_count": null,
   "id": "62fc3711-4e36-431f-af29-03431c9eb1e1",
   "metadata": {},
   "outputs": [],
   "source": [
    "#from new_concepts import DataTest, Experiment\n",
    "from new_concepts import Experiment, Artifact, Stage, stage, this_is_thing, this_is_tuple, DataTest, ModelTest1, live_test, ModelTest2, ModelTest3, ModelTest4, ModelTest5, ModelTest6, DataTest2"
   ]
  },
  {
   "cell_type": "code",
   "execution_count": null,
   "id": "37eec1bb-bb4c-4b15-bed6-69ac4af8447c",
   "metadata": {},
   "outputs": [],
   "source": [
    "this_is_thing()()"
   ]
  },
  {
   "cell_type": "code",
   "execution_count": null,
   "id": "37a4fe39-2366-4f69-a91b-116cbdf87387",
   "metadata": {},
   "outputs": [],
   "source": [
    "t = this_is_thing()\n",
    "t"
   ]
  },
  {
   "cell_type": "code",
   "execution_count": null,
   "id": "a39acaf6-b904-470d-80d4-5134de80baf4",
   "metadata": {},
   "outputs": [],
   "source": [
    "t.function.__name__"
   ]
  },
  {
   "cell_type": "code",
   "execution_count": null,
   "id": "9388628c-668c-43b9-b55f-e74bad5f862a",
   "metadata": {},
   "outputs": [],
   "source": [
    "tout = t()\n",
    "tout"
   ]
  },
  {
   "cell_type": "code",
   "execution_count": null,
   "id": "69c99982-66d2-42cb-8f9e-c506145f694f",
   "metadata": {},
   "outputs": [],
   "source": [
    "tout.object"
   ]
  },
  {
   "cell_type": "code",
   "execution_count": null,
   "id": "e88049ba-34a1-4070-b5a1-13766ff46a9c",
   "metadata": {},
   "outputs": [],
   "source": [
    "t"
   ]
  },
  {
   "cell_type": "code",
   "execution_count": null,
   "id": "49924d65-a629-4af1-b660-ddd7227d028c",
   "metadata": {},
   "outputs": [],
   "source": [
    "t2 = this_is_tuple()\n",
    "t2"
   ]
  },
  {
   "cell_type": "code",
   "execution_count": null,
   "id": "40d5ad70-7a5a-456f-ac85-de954afac8f3",
   "metadata": {},
   "outputs": [],
   "source": []
  },
  {
   "cell_type": "code",
   "execution_count": null,
   "id": "1f6e420f-de22-4a29-8aa9-fbca0397dba5",
   "metadata": {},
   "outputs": [],
   "source": [
    "d = DataTest(\"test\")"
   ]
  },
  {
   "cell_type": "code",
   "execution_count": null,
   "id": "bb9099a2-7804-473e-b2c9-2987c4f69956",
   "metadata": {},
   "outputs": [],
   "source": [
    "d"
   ]
  },
  {
   "cell_type": "code",
   "execution_count": null,
   "id": "65f8c079-5b98-4794-b098-959a096f0c10",
   "metadata": {},
   "outputs": [],
   "source": [
    "d.real_thing"
   ]
  },
  {
   "cell_type": "code",
   "execution_count": null,
   "id": "fd01134d-ef35-4bf2-a5ae-eabaa041d3a6",
   "metadata": {},
   "outputs": [],
   "source": [
    "d.real_thing.compute()"
   ]
  },
  {
   "cell_type": "code",
   "execution_count": null,
   "id": "d45aa313-a192-4dbc-abfd-28034f34cdc8",
   "metadata": {},
   "outputs": [],
   "source": [
    "d"
   ]
  },
  {
   "cell_type": "code",
   "execution_count": null,
   "id": "f7344212-7b84-49e1-91c0-8033f6e9a4ea",
   "metadata": {},
   "outputs": [],
   "source": [
    "d.act_t1, d.act_t2"
   ]
  },
  {
   "cell_type": "code",
   "execution_count": null,
   "id": "4221f49b-7fc1-41da-9e91-37c797724c87",
   "metadata": {},
   "outputs": [],
   "source": [
    "d.act_t1.compute()"
   ]
  },
  {
   "cell_type": "code",
   "execution_count": null,
   "id": "5c4b22cb-3712-403e-9d6f-ab916aececac",
   "metadata": {},
   "outputs": [],
   "source": [
    "d"
   ]
  },
  {
   "cell_type": "code",
   "execution_count": null,
   "id": "4d6c8f13-14e0-44dd-8ff8-0c4627d12933",
   "metadata": {},
   "outputs": [],
   "source": []
  },
  {
   "cell_type": "code",
   "execution_count": null,
   "id": "0f8fe734-758c-4524-83e4-952c7489a430",
   "metadata": {},
   "outputs": [],
   "source": [
    "m1 = ModelTest1(\"m1\", test=d)\n",
    "m1"
   ]
  },
  {
   "cell_type": "code",
   "execution_count": null,
   "id": "a1bc8d28-156b-4fac-a994-6c8f56b7dcf6",
   "metadata": {},
   "outputs": [],
   "source": [
    "m1.model.compute()"
   ]
  },
  {
   "cell_type": "code",
   "execution_count": null,
   "id": "c60950c9-b13f-4143-bc58-426d718abc2d",
   "metadata": {},
   "outputs": [],
   "source": [
    "m1.model.compute()"
   ]
  },
  {
   "cell_type": "code",
   "execution_count": null,
   "id": "60785795-b896-4271-9df4-d303b1fee20e",
   "metadata": {},
   "outputs": [],
   "source": [
    "d"
   ]
  },
  {
   "cell_type": "code",
   "execution_count": null,
   "id": "61be0953-7c3d-4441-8800-967b97b98a3c",
   "metadata": {},
   "outputs": [],
   "source": [
    "m1.test"
   ]
  },
  {
   "cell_type": "code",
   "execution_count": null,
   "id": "75c3c9a3-c64f-4d8d-8bc9-667d46149ccc",
   "metadata": {},
   "outputs": [],
   "source": [
    "m1"
   ]
  },
  {
   "cell_type": "code",
   "execution_count": null,
   "id": "f49f4dfd-6d23-4520-b078-40a9e71a23c0",
   "metadata": {},
   "outputs": [],
   "source": []
  },
  {
   "cell_type": "code",
   "execution_count": null,
   "id": "995501b3-0a43-482f-9e3d-17b11f9e4c02",
   "metadata": {},
   "outputs": [],
   "source": [
    "m2 = ModelTest1(\"m2\", test=DataTest(\"d2\"))"
   ]
  },
  {
   "cell_type": "code",
   "execution_count": null,
   "id": "39e92599-caee-4c94-b071-ff38c16283d0",
   "metadata": {},
   "outputs": [],
   "source": [
    "m2"
   ]
  },
  {
   "cell_type": "code",
   "execution_count": null,
   "id": "2c039905-2c14-4560-8632-20ec2c33936f",
   "metadata": {},
   "outputs": [],
   "source": [
    "m2.model.compute()"
   ]
  },
  {
   "cell_type": "code",
   "execution_count": null,
   "id": "d62919eb-f301-4682-b483-684bc429bc0a",
   "metadata": {},
   "outputs": [],
   "source": []
  },
  {
   "cell_type": "code",
   "execution_count": null,
   "id": "46b4812a-5691-4a43-9de6-9664b91b8330",
   "metadata": {},
   "outputs": [],
   "source": [
    "m3 = live_test()\n",
    "m3"
   ]
  },
  {
   "cell_type": "code",
   "execution_count": null,
   "id": "c2c230d1-cdb1-4035-a4ed-5557b546a7c3",
   "metadata": {},
   "outputs": [],
   "source": [
    "m3.final_model.compute()"
   ]
  },
  {
   "cell_type": "code",
   "execution_count": null,
   "id": "1db48ca4-c222-4d20-866b-28822acba95d",
   "metadata": {},
   "outputs": [],
   "source": []
  },
  {
   "cell_type": "code",
   "execution_count": null,
   "id": "1f1dc5f3-636b-4058-b68c-5d53baa51be6",
   "metadata": {},
   "outputs": [],
   "source": [
    "m4 = ModelTest2(\"m4_2\", test=DataTest(\"d4\"))\n",
    "m4"
   ]
  },
  {
   "cell_type": "code",
   "execution_count": null,
   "id": "feed1d7d-9f21-450d-bbdd-3e93f67d630b",
   "metadata": {},
   "outputs": [],
   "source": [
    "m4.model.compute()"
   ]
  },
  {
   "cell_type": "code",
   "execution_count": null,
   "id": "820bacb0-1a1e-4e3f-9baa-ae5bfd4b5ed9",
   "metadata": {},
   "outputs": [],
   "source": []
  },
  {
   "cell_type": "code",
   "execution_count": null,
   "id": "607bf1f0-8803-4fb1-b205-8b151a6a7478",
   "metadata": {},
   "outputs": [],
   "source": [
    "this_is_thing"
   ]
  },
  {
   "cell_type": "code",
   "execution_count": null,
   "id": "68a0fbde-6c54-4c50-b391-91c81da83ef5",
   "metadata": {},
   "outputs": [],
   "source": []
  },
  {
   "cell_type": "code",
   "execution_count": null,
   "id": "4e9f9d20-0766-4c8a-9178-7b25fef71145",
   "metadata": {},
   "outputs": [],
   "source": [
    "m5 = ModelTest4(\"m5_4\", test=DataTest(\"d5\"))\n",
    "m5"
   ]
  },
  {
   "cell_type": "code",
   "execution_count": null,
   "id": "fa3dccf3-c824-41db-9efc-f3ee3b5dc8d2",
   "metadata": {},
   "outputs": [],
   "source": [
    "m5.model.compute()"
   ]
  },
  {
   "cell_type": "code",
   "execution_count": null,
   "id": "b96b7c2e-0325-4dee-bcfd-92224d300d8d",
   "metadata": {},
   "outputs": [],
   "source": [
    "m5"
   ]
  },
  {
   "cell_type": "code",
   "execution_count": null,
   "id": "51ad6e55-f33c-412c-8110-fec89851bf93",
   "metadata": {},
   "outputs": [],
   "source": []
  },
  {
   "cell_type": "code",
   "execution_count": null,
   "id": "cd10b7aa-0fe2-4b21-bdd5-781044f9d1f3",
   "metadata": {},
   "outputs": [],
   "source": [
    "m6 = ModelTest5(name=\"m6_5\", test=DataTest(name='d6'))\n",
    "m6"
   ]
  },
  {
   "cell_type": "code",
   "execution_count": null,
   "id": "bd747804-f52c-4bfd-b970-e9e8ea45bad2",
   "metadata": {},
   "outputs": [],
   "source": [
    "m6.model.compute()"
   ]
  },
  {
   "cell_type": "code",
   "execution_count": null,
   "id": "e407817d-c64d-4b8b-9bb1-7b83e4f43225",
   "metadata": {},
   "outputs": [],
   "source": []
  },
  {
   "cell_type": "code",
   "execution_count": null,
   "id": "5c0806cf-0dfe-431f-9980-dd650386bc5a",
   "metadata": {},
   "outputs": [],
   "source": [
    "m7 = ModelTest6(\"m7_6\", test=DataTest2(\"d7\"))\n",
    "m7"
   ]
  },
  {
   "cell_type": "code",
   "execution_count": null,
   "id": "a71e088b-db0c-48ad-ba65-3c08def25381",
   "metadata": {},
   "outputs": [],
   "source": []
  },
  {
   "cell_type": "code",
   "execution_count": null,
   "id": "1c9896f2-b18a-4563-ab9c-de71cd26287d",
   "metadata": {},
   "outputs": [],
   "source": [
    "from dataclasses import dataclass\n",
    "\n",
    "@dataclass\n",
    "class thing(Experiment):\n",
    "    my_thing: Artifact = lambda self: this_is_tuple(\"5\")"
   ]
  },
  {
   "cell_type": "code",
   "execution_count": null,
   "id": "94186da1-035f-47a4-a0ed-40a5cf91d8b3",
   "metadata": {},
   "outputs": [],
   "source": [
    "t = thing\n",
    "t"
   ]
  },
  {
   "cell_type": "code",
   "execution_count": null,
   "id": "ed8944b3-e460-402c-9e90-d7ebeec23c0b",
   "metadata": {},
   "outputs": [],
   "source": []
  }
 ],
 "metadata": {
  "kernelspec": {
   "display_name": "Python 3 (ipykernel)",
   "language": "python",
   "name": "python3"
  },
  "language_info": {
   "codemirror_mode": {
    "name": "ipython",
    "version": 3
   },
   "file_extension": ".py",
   "mimetype": "text/x-python",
   "name": "python",
   "nbconvert_exporter": "python",
   "pygments_lexer": "ipython3",
   "version": "3.9.13"
  }
 },
 "nbformat": 4,
 "nbformat_minor": 5
}
