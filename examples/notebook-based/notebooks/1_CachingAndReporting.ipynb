{
 "cells": [
  {
   "cell_type": "markdown",
   "id": "029d8e31",
   "metadata": {},
   "source": [
    "# 1: Caching and Reporting\n",
    "\n",
    "This notebook demonstrates some of the features the components from the previous notebook enable. Two major abilities are easily caching objects (to short circuit computation of already-computed values) and quickly adding graphs and other \"reportables\" to a jupyter display or a generated HTML experiment run report."
   ]
  },
  {
   "cell_type": "code",
   "execution_count": 1,
   "id": "73d17698",
   "metadata": {},
   "outputs": [
    {
     "name": "stdout",
     "output_type": "stream",
     "text": [
      "C:\\Users\\81n\\lab\\curifactory\\examples\\notebook-based\n"
     ]
    }
   ],
   "source": [
    "%cd .."
   ]
  },
  {
   "cell_type": "markdown",
   "id": "f79b1206",
   "metadata": {},
   "source": [
    "We create an artifact manager, an args class, and some arg sets, like in the previous notebook:"
   ]
  },
  {
   "cell_type": "code",
   "execution_count": 2,
   "id": "3deb3f24",
   "metadata": {},
   "outputs": [],
   "source": [
    "from dataclasses import dataclass\n",
    "import curifactory as cf\n",
    "\n",
    "manager = cf.ArtifactManager(\"notebook_example_1\")\n",
    "\n",
    "@dataclass\n",
    "class Args(cf.ExperimentArgs):\n",
    "    my_parameter: int = 1\n",
    "        \n",
    "default_args = Args(name=\"default\")\n",
    "doubled_args = Args(name=\"doubled\", my_parameter=2)"
   ]
  },
  {
   "cell_type": "markdown",
   "id": "04f9b14f",
   "metadata": {},
   "source": [
    "## Caching\n",
    "\n",
    "Caching is done at each stage, by listing a `curifactory.Cacheable` subclass for each output. After the stage runs, each cacher will save the returned object in the data cache path. The cached filename includes the name of the experiment (the string passed to `ArtifactManager`, \"notebook_example_1\" in this case), the hash string of the arguments, the name of the stage doing the caching, and the name of the output itself. \n",
    "\n",
    "On any subsequent run of that stage, the cachers all check to see if their file has already been created, and if it has, they directly load the object from file and return it rather than running the stage code.\n",
    "\n",
    "The `@stage` decorator has a `cachers` parameter which should be given a list of cachers to use for the associated outputs list. Curifactory comes with a set of default cachers you can use, including `JsonCacher`, `PandasCSVCacher`, `PandasJsonCacher`, and `PickleCacher`.\n",
    "\n",
    "In the example below, we define a \"long-running compute\" stage, to demonstrate cachers short-circuiting computation"
   ]
  },
  {
   "cell_type": "code",
   "execution_count": 3,
   "id": "628b8dce",
   "metadata": {},
   "outputs": [],
   "source": [
    "from time import sleep\n",
    "from curifactory.caching import JsonCacher\n",
    "\n",
    "@cf.stage(inputs=None, outputs=[\"long-compute-data\"], cachers=[JsonCacher])\n",
    "def long_compute_step(record):\n",
    "    some_data = {\n",
    "        \"my_value\": record.args.my_parameter, \n",
    "        \"magic_value\": 42\n",
    "    }\n",
    "    sleep(5)  # making dictionaries is hard work\n",
    "    return some_data"
   ]
  },
  {
   "cell_type": "code",
   "execution_count": 4,
   "id": "b51d18f8",
   "metadata": {},
   "outputs": [
    {
     "data": {
      "text/plain": [
       "[]"
      ]
     },
     "execution_count": 4,
     "metadata": {},
     "output_type": "execute_result"
    }
   ],
   "source": [
    "import os\n",
    "\n",
    "# to demonstrate cache files, we first clear our cache path\n",
    "for file in os.listdir(\"data/cache\"):\n",
    "    os.remove(f\"data/cache/{file}\")\n",
    "os.listdir(\"data/cache\")"
   ]
  },
  {
   "cell_type": "markdown",
   "id": "95416e71",
   "metadata": {},
   "source": [
    "We run a record through our long running stage, and as expected it takes 5 seconds"
   ]
  },
  {
   "cell_type": "code",
   "execution_count": 5,
   "id": "54297a64",
   "metadata": {},
   "outputs": [
    {
     "name": "stdout",
     "output_type": "stream",
     "text": [
      "2022-02-03 10:59:00,043 [INFO] - [default] -----\n",
      "2022-02-03 10:59:00,043 [INFO] - [default] Stage long_compute_step\n",
      "2022-02-03 10:59:00,043 [INFO] - [default] Stage long_compute_step executing...\n",
      "2022-02-03 10:59:05,047 [INFO] - [default] Stage long_compute_step caching outputs...\n",
      "2022-02-03 10:59:05,047 [INFO] - [default] Stage long_compute_step complete\n",
      "CPU times: total: 0 ns\n",
      "Wall time: 5 s\n"
     ]
    }
   ],
   "source": [
    "%%time\n",
    "r0 = cf.Record(manager, default_args)\n",
    "r0 = long_compute_step(r0)"
   ]
  },
  {
   "cell_type": "markdown",
   "id": "f712fbe8",
   "metadata": {},
   "source": [
    "Inspecting our cache path now, there's a new json entry for our output, which we can load up and see is the output from our stage"
   ]
  },
  {
   "cell_type": "code",
   "execution_count": 6,
   "id": "5fe6da51",
   "metadata": {},
   "outputs": [
    {
     "name": "stdout",
     "output_type": "stream",
     "text": [
      "['notebook_example_1_c504fab1c3ccad16d1e3ef540001172c_long_compute_step_long-compute-data.json']\n",
      "\n",
      "{'my_value': 1, 'magic_value': 42}\n"
     ]
    }
   ],
   "source": [
    "import json\n",
    "\n",
    "print(os.listdir(\"data/cache\"))\n",
    "print()\n",
    "with open(f\"data/cache/{os.listdir('data/cache')[0]}\", 'r') as infile:\n",
    "    print(json.load(infile))"
   ]
  },
  {
   "cell_type": "markdown",
   "id": "7c8aab4a",
   "metadata": {},
   "source": [
    "If we run the stage again with a record using the same arg set as the previous one, it finds the correct cached output and returns before running the stage code:"
   ]
  },
  {
   "cell_type": "code",
   "execution_count": 7,
   "id": "91c10620",
   "metadata": {},
   "outputs": [
    {
     "name": "stdout",
     "output_type": "stream",
     "text": [
      "2022-02-03 10:59:05,078 [INFO] - [default] -----\n",
      "2022-02-03 10:59:05,078 [INFO] - [default] Stage long_compute_step\n",
      "2022-02-03 10:59:05,078 [INFO] - [default] Cached object 'data/cache\\notebook_example_1_c504fab1c3ccad16d1e3ef540001172c_long_compute_step_long-compute-data.json' found\n",
      "CPU times: total: 0 ns\n",
      "Wall time: 0 ns\n"
     ]
    }
   ],
   "source": [
    "%%time\n",
    "r1 = cf.Record(manager, default_args)\n",
    "r1 = long_compute_step(r1)"
   ]
  },
  {
   "cell_type": "markdown",
   "id": "08cc5a62",
   "metadata": {},
   "source": [
    "Using different arguments results in a different cache path, so computations with different parameters won't conflict:"
   ]
  },
  {
   "cell_type": "code",
   "execution_count": 8,
   "id": "86377b5e",
   "metadata": {},
   "outputs": [
    {
     "name": "stdout",
     "output_type": "stream",
     "text": [
      "2022-02-03 10:59:05,094 [INFO] - [doubled] -----\n",
      "2022-02-03 10:59:05,094 [INFO] - [doubled] Stage long_compute_step\n",
      "2022-02-03 10:59:05,094 [INFO] - [doubled] Stage long_compute_step executing...\n",
      "2022-02-03 10:59:10,104 [INFO] - [doubled] Stage long_compute_step caching outputs...\n",
      "2022-02-03 10:59:10,104 [INFO] - [doubled] Stage long_compute_step complete\n"
     ]
    }
   ],
   "source": [
    "r2 = cf.Record(manager, doubled_args)\n",
    "r2 = long_compute_step(r2)"
   ]
  },
  {
   "cell_type": "code",
   "execution_count": 9,
   "id": "e6fe4797",
   "metadata": {},
   "outputs": [
    {
     "data": {
      "text/plain": [
       "['notebook_example_1_2c48da4b242c95c4eafac7e88872d319_long_compute_step_long-compute-data.json',\n",
       " 'notebook_example_1_c504fab1c3ccad16d1e3ef540001172c_long_compute_step_long-compute-data.json']"
      ]
     },
     "execution_count": 9,
     "metadata": {},
     "output_type": "execute_result"
    }
   ],
   "source": [
    "os.listdir(\"data/cache\")"
   ]
  },
  {
   "cell_type": "markdown",
   "id": "535b977d",
   "metadata": {},
   "source": [
    "## Lazy Loading\n",
    "\n",
    "One potential pitfall with caching is that it will always load the object into memory, even if that object is never used. Projects with very large data objects can run into memory problems as a result. Curifactory includes a `Lazy` class that can wrap around a stage output string name - when it is first computed, the cacher saves it and the object is removed from memory (replaced in the record state with a `Lazy` instance.) When the lazy object is accessed, it will reload the object into memory from cache at that point.\n",
    "\n",
    "This means that in a sequence of stages where all values are cached, earlier stage outputs may never need to load into memory at all."
   ]
  },
  {
   "cell_type": "code",
   "execution_count": 10,
   "id": "e07fb7ed",
   "metadata": {},
   "outputs": [
    {
     "name": "stdout",
     "output_type": "stream",
     "text": [
      "2022-02-03 10:59:10,142 [INFO] - [default] -----\n",
      "2022-02-03 10:59:10,142 [INFO] - [default] Stage make_mega_big_object\n",
      "2022-02-03 10:59:10,149 [INFO] - [default] Stage make_mega_big_object executing...\n",
      "8388664\n",
      "2022-02-03 10:59:10,150 [INFO] - [default] Stage make_mega_big_object caching outputs...\n",
      "2022-02-03 10:59:11,024 [INFO] - [default] Stage make_mega_big_object complete\n"
     ]
    }
   ],
   "source": [
    "from curifactory.caching import Lazy\n",
    "import sys\n",
    "\n",
    "@cf.stage(inputs=None, outputs=[Lazy(\"very-large-object\")], cachers=[JsonCacher])\n",
    "def make_mega_big_object(record):\n",
    "    mega_big = [1]*1024*1024\n",
    "    print(sys.getsizeof(mega_big))\n",
    "    return mega_big\n",
    "\n",
    "r3 = cf.Record(manager, default_args)\n",
    "r3 = make_mega_big_object(r3)"
   ]
  },
  {
   "cell_type": "code",
   "execution_count": 11,
   "id": "6e987fc7",
   "metadata": {},
   "outputs": [
    {
     "name": "stdout",
     "output_type": "stream",
     "text": [
      "<class 'curifactory.caching.Lazy'>\n",
      "48\n"
     ]
    }
   ],
   "source": [
    "r3.state.resolve = False\n",
    "print(type(r3.state['very-large-object']))\n",
    "print(sys.getsizeof(r3.state['very-large-object']))"
   ]
  },
  {
   "cell_type": "markdown",
   "id": "ac9c685c",
   "metadata": {},
   "source": [
    "Note that `Record.state` is actually a custom subclass of `dict`, and by default it will automatically resolve lazy objects any time it's accessed on the state. the above cell turns this functionality off (with `state.resolve = False`) to show that what's actually in memory before a resolved access is just the lazy object, which is significantly smaller. \n",
    "\n",
    "When the record's state resolve is at it's default value of `True`:"
   ]
  },
  {
   "cell_type": "code",
   "execution_count": 12,
   "id": "a7f1750a",
   "metadata": {},
   "outputs": [
    {
     "name": "stdout",
     "output_type": "stream",
     "text": [
      "<class 'list'>\n",
      "8697456\n"
     ]
    }
   ],
   "source": [
    "r3.state.resolve = True\n",
    "print(type(r3.state['very-large-object']))\n",
    "print(sys.getsizeof(r3.state['very-large-object']))"
   ]
  },
  {
   "cell_type": "markdown",
   "id": "4f2d86e5",
   "metadata": {},
   "source": [
    "## Reporting\n",
    "\n",
    "A major part of experiments for debugging, understanding, and publishing them is the ability to present results and pretty graphs! This can be a challenge to keep organized, as one tries to manage folders for matplotlib graph images, result tables, and so on. Curifactory provides shortcuts to easily create `Reportable` items from inside stages, which the artifact manager can then display inside an experiment run report in its own uniquely named run folder, which contains all of the information about the run, all of the created reportables, and a map of the stages that were run. Many of these report components can be rendered inside a notebook as well.\n",
    "\n",
    "Every record has a `report` function that takes a `Reportable` subclass. Curifactory includes multiple default reporters, such as `DFReporter`, `FigureReporter`, `HTMLReporter`, `JsonReporter`, and `LinePlotReporter`."
   ]
  },
  {
   "cell_type": "code",
   "execution_count": 13,
   "id": "3499fd2d",
   "metadata": {},
   "outputs": [],
   "source": [
    "from curifactory.reporting import LinePlotReporter\n",
    "\n",
    "@cf.stage(inputs=None, outputs=[\"line_history\"])\n",
    "def make_pretty_graphs(record):\n",
    "    multiplier = record.args.my_parameter\n",
    "    \n",
    "    # here we just make a bunch of example arrays of data to plot\n",
    "    line_0 = [1 * multiplier, 2 * multiplier, 3 * multiplier]\n",
    "    line_1 = [3 * multiplier, 2 * multiplier, 1 * multiplier]\n",
    "    line_2 = [4, 0, 3]\n",
    "    \n",
    "    # a LinePlotReporter makes a nicely formatted matplotlib graph\n",
    "    record.report(LinePlotReporter(line_0, name=\"single_line_plot\"))\n",
    "    record.report(LinePlotReporter(\n",
    "        y={\n",
    "            \"ascending\": line_0,\n",
    "            \"descending\": line_1,\n",
    "            \"static\": line_2\n",
    "        },\n",
    "        name=\"multi_line_plot\"\n",
    "    ))\n",
    "    return [line_0, line_1, line_2]"
   ]
  },
  {
   "cell_type": "markdown",
   "id": "0e13d222",
   "metadata": {},
   "source": [
    "The example stage above adds a couple simple line plots to any record that is run through it."
   ]
  },
  {
   "cell_type": "code",
   "execution_count": 14,
   "id": "e2965427",
   "metadata": {},
   "outputs": [
    {
     "name": "stdout",
     "output_type": "stream",
     "text": [
      "2022-02-03 10:59:11,305 [INFO] - [default] -----\n",
      "2022-02-03 10:59:11,305 [INFO] - [default] Stage make_pretty_graphs\n",
      "2022-02-03 10:59:11,305 [INFO] - [default] Stage make_pretty_graphs executing...\n",
      "2022-02-03 10:59:11,305 [INFO] - [default] Stage make_pretty_graphs complete\n",
      "2022-02-03 10:59:11,305 [INFO] - [doubled] -----\n",
      "2022-02-03 10:59:11,305 [INFO] - [doubled] Stage make_pretty_graphs\n",
      "2022-02-03 10:59:11,305 [INFO] - [doubled] Stage make_pretty_graphs executing...\n",
      "2022-02-03 10:59:11,305 [INFO] - [doubled] Stage make_pretty_graphs complete\n"
     ]
    }
   ],
   "source": [
    "r4 = cf.Record(manager, default_args)\n",
    "r5 = cf.Record(manager, doubled_args)\n",
    "\n",
    "r4 = make_pretty_graphs(r4)\n",
    "r5 = make_pretty_graphs(r5)"
   ]
  },
  {
   "cell_type": "markdown",
   "id": "9e704358",
   "metadata": {},
   "source": [
    "When inside of a jupyter notebook or jupyter lab, the manager includes several display functions that allow you to render portions of the report directly in the notebook. \n",
    "\n",
    "A few of these are:\n",
    "* `display_info()` - renders the top block of the report, containing metadata about the run\n",
    "* `display_all_reportables()` - renders all reportables in the manager\n",
    "* `display_record_reportables(record)` - renders only the reportables associated with the passed record\n",
    "* `display_stage_graph()` - renders a diagram of all the records, state objects, and stages. Note that graphviz must be installed for these to generate correctly."
   ]
  },
  {
   "cell_type": "code",
   "execution_count": 15,
   "id": "70d5ddd2",
   "metadata": {},
   "outputs": [
    {
     "data": {
      "text/html": [
       "<h1 id='title'>Report: notebook_example_1 - 5</h1><div id='experiment-info-block'><p>Experiment name: <b>notebook_example_1</b> </br>Experiment run number: <b>5</b></br>Run timestamp: <b>02/03/2022 10:58:59</b></br>Reference: <b>notebook_example_1_5_2022-02-03-T105859</b></br>Hostname: <b>LAP124750</b></br>Run status: <b><span style='color: cyan'>LIVE</span></b> - (interactive session)</br>Git commit: eaccff733a82b8a4a7954970d4eb53c1981924c</br>Params files: []</br></p><ul><li>Non-file (live) argsets <ul><li>default - c504fab1c3ccad16d1e3ef540001172c</li><li>doubled - 2c48da4b242c95c4eafac7e88872d319</li></ul></li></ul></div><p><span style='color: orange;'><b>WARNING - </b></span>This report was not generated from an experiment script. If generated from an interactive environment, curifactory has no method to reproduce.</p><p id='run-string'>Run string: <pre>(Interactive environment)</pre></p>"
      ],
      "text/plain": [
       "<IPython.core.display.HTML object>"
      ]
     },
     "execution_count": 15,
     "metadata": {},
     "output_type": "execute_result"
    }
   ],
   "source": [
    "manager.display_info()"
   ]
  },
  {
   "cell_type": "code",
   "execution_count": 16,
   "id": "49e5e582",
   "metadata": {},
   "outputs": [
    {
     "name": "stdout",
     "output_type": "stream",
     "text": [
      "2022-02-03 10:59:11,336 [INFO] - Preparing report path 'reports/notebook_example_1_5_2022-02-03-T105859'...\n"
     ]
    },
    {
     "data": {
      "text/html": [
       "<div class='reportable' style='border: 1px solid gray; display: inline-block; vertical-align: top; padding: 5px; padding-top: 0px; padding-bottom: 0px; margin: 5px;'><a name='default_make_pretty_graphs_single_line_plot'></a><h3>default_make_pretty_graphs_single_line_plot <span style='background-color: #fa8072'>&nbsp;&nbsp;&nbsp;&nbsp;</span></h3><img src='/files\\reports/notebook_example_1_5_2022-02-03-T105859\\reportables/default_make_pretty_graphs_single_line_plot.png'></div><div class='reportable' style='border: 1px solid gray; display: inline-block; vertical-align: top; padding: 5px; padding-top: 0px; padding-bottom: 0px; margin: 5px;'><a name='default_make_pretty_graphs_multi_line_plot'></a><h3>default_make_pretty_graphs_multi_line_plot <span style='background-color: #fa8072'>&nbsp;&nbsp;&nbsp;&nbsp;</span></h3><img src='/files\\reports/notebook_example_1_5_2022-02-03-T105859\\reportables/default_make_pretty_graphs_multi_line_plot.png'></div><div class='reportable' style='border: 1px solid gray; display: inline-block; vertical-align: top; padding: 5px; padding-top: 0px; padding-bottom: 0px; margin: 5px;'><a name='doubled_make_pretty_graphs_single_line_plot'></a><h3>doubled_make_pretty_graphs_single_line_plot <span style='background-color: #c0c0c0'>&nbsp;&nbsp;&nbsp;&nbsp;</span></h3><img src='/files\\reports/notebook_example_1_5_2022-02-03-T105859\\reportables/doubled_make_pretty_graphs_single_line_plot.png'></div><div class='reportable' style='border: 1px solid gray; display: inline-block; vertical-align: top; padding: 5px; padding-top: 0px; padding-bottom: 0px; margin: 5px;'><a name='doubled_make_pretty_graphs_multi_line_plot'></a><h3>doubled_make_pretty_graphs_multi_line_plot <span style='background-color: #c0c0c0'>&nbsp;&nbsp;&nbsp;&nbsp;</span></h3><img src='/files\\reports/notebook_example_1_5_2022-02-03-T105859\\reportables/doubled_make_pretty_graphs_multi_line_plot.png'></div>"
      ],
      "text/plain": [
       "<IPython.core.display.HTML object>"
      ]
     },
     "execution_count": 16,
     "metadata": {},
     "output_type": "execute_result"
    }
   ],
   "source": [
    "manager.display_all_reportables()  \n",
    "# note that reportables may not display in github's live notebook render, \n",
    "# due to pathing problems. Running this notebook locally should correctly\n",
    "# display the saved matplotlib images."
   ]
  },
  {
   "cell_type": "code",
   "execution_count": 17,
   "id": "cdad1f7d",
   "metadata": {},
   "outputs": [
    {
     "data": {
      "text/html": [
       "<div class='reportable' style='border: 1px solid gray; display: inline-block; vertical-align: top; padding: 5px; padding-top: 0px; padding-bottom: 0px; margin: 5px;'><a name='default_make_pretty_graphs_single_line_plot'></a><h3>default_make_pretty_graphs_single_line_plot <span style='background-color: #fa8072'>&nbsp;&nbsp;&nbsp;&nbsp;</span></h3><img src='/files\\reports/notebook_example_1_5_2022-02-03-T105859\\reportables/default_make_pretty_graphs_single_line_plot.png'></div><div class='reportable' style='border: 1px solid gray; display: inline-block; vertical-align: top; padding: 5px; padding-top: 0px; padding-bottom: 0px; margin: 5px;'><a name='default_make_pretty_graphs_multi_line_plot'></a><h3>default_make_pretty_graphs_multi_line_plot <span style='background-color: #fa8072'>&nbsp;&nbsp;&nbsp;&nbsp;</span></h3><img src='/files\\reports/notebook_example_1_5_2022-02-03-T105859\\reportables/default_make_pretty_graphs_multi_line_plot.png'></div>"
      ],
      "text/plain": [
       "<IPython.core.display.HTML object>"
      ]
     },
     "execution_count": 17,
     "metadata": {},
     "output_type": "execute_result"
    }
   ],
   "source": [
    "manager.display_record_reportables(r4)"
   ]
  },
  {
   "cell_type": "code",
   "execution_count": 18,
   "id": "5b61ca75",
   "metadata": {},
   "outputs": [
    {
     "data": {
      "text/html": [
       "<?xml version=\"1.0\" encoding=\"UTF-8\" standalone=\"no\"?>\r\n",
       "<!DOCTYPE svg PUBLIC \"-//W3C//DTD SVG 1.1//EN\"\r\n",
       " \"http://www.w3.org/Graphics/SVG/1.1/DTD/svg11.dtd\">\r\n",
       "<!-- Generated by graphviz version 2.38.0 (20140413.2041)\r\n",
       " -->\r\n",
       "<!-- Title: %3 Pages: 1 -->\r\n",
       "<svg width=\"976pt\" height=\"136pt\"\r\n",
       " viewBox=\"0.00 0.00 976.00 136.00\" xmlns=\"http://www.w3.org/2000/svg\" xmlns:xlink=\"http://www.w3.org/1999/xlink\">\r\n",
       "<g id=\"graph0\" class=\"graph\" transform=\"scale(1 1) rotate(0) translate(4 132)\">\r\n",
       "<title>%3</title>\r\n",
       "<polygon fill=\"white\" stroke=\"none\" points=\"-4,4 -4,-132 972,-132 972,4 -4,4\"/>\r\n",
       "<g id=\"clust2\" class=\"cluster\"><title>cluster_1</title>\r\n",
       "<polygon fill=\"#d8bfd8\" stroke=\"#d8bfd8\" points=\"162,-8 162,-120 308,-120 308,-8 162,-8\"/>\r\n",
       "<text text-anchor=\"middle\" x=\"235\" y=\"-108\" font-family=\"Times New Roman,serif\" font-size=\"10.00\">record 1</text>\r\n",
       "<text text-anchor=\"middle\" x=\"235\" y=\"-97\" font-family=\"Times New Roman,serif\" font-size=\"10.00\">args: default</text>\r\n",
       "</g>\r\n",
       "<g id=\"clust1\" class=\"cluster\"><title>cluster_0</title>\r\n",
       "<polygon fill=\"#b4eeb4\" stroke=\"#b4eeb4\" points=\"8,-8 8,-120 154,-120 154,-8 8,-8\"/>\r\n",
       "<text text-anchor=\"middle\" x=\"81\" y=\"-108\" font-family=\"Times New Roman,serif\" font-size=\"10.00\">record 0</text>\r\n",
       "<text text-anchor=\"middle\" x=\"81\" y=\"-97\" font-family=\"Times New Roman,serif\" font-size=\"10.00\">args: default</text>\r\n",
       "</g>\r\n",
       "<g id=\"clust4\" class=\"cluster\"><title>cluster_3</title>\r\n",
       "<polygon fill=\"#aeeeee\" stroke=\"#aeeeee\" points=\"470,-8 470,-120 640,-120 640,-8 470,-8\"/>\r\n",
       "<text text-anchor=\"middle\" x=\"555\" y=\"-108\" font-family=\"Times New Roman,serif\" font-size=\"10.00\">record 3</text>\r\n",
       "<text text-anchor=\"middle\" x=\"555\" y=\"-97\" font-family=\"Times New Roman,serif\" font-size=\"10.00\">args: default</text>\r\n",
       "</g>\r\n",
       "<g id=\"clust3\" class=\"cluster\"><title>cluster_2</title>\r\n",
       "<polygon fill=\"#ffdab9\" stroke=\"#ffdab9\" points=\"316,-8 316,-120 462,-120 462,-8 316,-8\"/>\r\n",
       "<text text-anchor=\"middle\" x=\"389\" y=\"-108\" font-family=\"Times New Roman,serif\" font-size=\"10.00\">record 2</text>\r\n",
       "<text text-anchor=\"middle\" x=\"389\" y=\"-97\" font-family=\"Times New Roman,serif\" font-size=\"10.00\">args: doubled</text>\r\n",
       "</g>\r\n",
       "<g id=\"clust5\" class=\"cluster\"><title>cluster_4</title>\r\n",
       "<polygon fill=\"#fa8072\" stroke=\"#fa8072\" points=\"648,-8 648,-120 800,-120 800,-8 648,-8\"/>\r\n",
       "<text text-anchor=\"middle\" x=\"724\" y=\"-108\" font-family=\"Times New Roman,serif\" font-size=\"10.00\">record 4</text>\r\n",
       "<text text-anchor=\"middle\" x=\"724\" y=\"-97\" font-family=\"Times New Roman,serif\" font-size=\"10.00\">args: default</text>\r\n",
       "</g>\r\n",
       "<g id=\"clust6\" class=\"cluster\"><title>cluster_5</title>\r\n",
       "<polygon fill=\"#c0c0c0\" stroke=\"#c0c0c0\" points=\"808,-8 808,-120 960,-120 960,-8 808,-8\"/>\r\n",
       "<text text-anchor=\"middle\" x=\"884\" y=\"-108\" font-family=\"Times New Roman,serif\" font-size=\"10.00\">record 5</text>\r\n",
       "<text text-anchor=\"middle\" x=\"884\" y=\"-97\" font-family=\"Times New Roman,serif\" font-size=\"10.00\">args: doubled</text>\r\n",
       "</g>\r\n",
       "<!-- 0_long_compute_step -->\r\n",
       "<g id=\"node1\" class=\"node\"><title>0_long_compute_step</title>\r\n",
       "<ellipse fill=\"white\" stroke=\"black\" cx=\"81\" cy=\"-64\" rx=\"64.7736\" ry=\"18\"/>\r\n",
       "<text text-anchor=\"middle\" x=\"81\" y=\"-60.9\" font-family=\"Times New Roman,serif\" font-size=\"12.00\">long_compute_step</text>\r\n",
       "</g>\r\n",
       "<!-- a0 -->\r\n",
       "<g id=\"node2\" class=\"node\"><title>a0</title>\r\n",
       "<polygon fill=\"none\" stroke=\"black\" points=\"127,-35 35,-35 35,-16 127,-16 127,-35\"/>\r\n",
       "<text text-anchor=\"middle\" x=\"81\" y=\"-23\" font-family=\"Times New Roman,serif\" font-size=\"10.00\">long&#45;compute&#45;data</text>\r\n",
       "</g>\r\n",
       "<!-- 0_long_compute_step&#45;&gt;a0 -->\r\n",
       "<g id=\"edge1\" class=\"edge\"><title>0_long_compute_step&#45;&gt;a0</title>\r\n",
       "<path fill=\"none\" stroke=\"black\" d=\"M81,-45.6052C81,-44.3429 81,-43.075 81,-41.826\"/>\r\n",
       "<polygon fill=\"black\" stroke=\"black\" points=\"83.2751,-41.5461 81,-35.0461 78.7251,-41.5461 83.2751,-41.5461\"/>\r\n",
       "</g>\r\n",
       "<!-- 1_long_compute_step -->\r\n",
       "<g id=\"node3\" class=\"node\"><title>1_long_compute_step</title>\r\n",
       "<ellipse fill=\"white\" stroke=\"black\" cx=\"235\" cy=\"-64\" rx=\"64.7736\" ry=\"18\"/>\r\n",
       "<text text-anchor=\"middle\" x=\"235\" y=\"-60.9\" font-family=\"Times New Roman,serif\" font-size=\"12.00\">long_compute_step</text>\r\n",
       "</g>\r\n",
       "<!-- a1 -->\r\n",
       "<g id=\"node4\" class=\"node\"><title>a1</title>\r\n",
       "<polygon fill=\"none\" stroke=\"black\" points=\"281,-35 189,-35 189,-16 281,-16 281,-35\"/>\r\n",
       "<text text-anchor=\"middle\" x=\"235\" y=\"-23\" font-family=\"Times New Roman,serif\" font-size=\"10.00\">long&#45;compute&#45;data</text>\r\n",
       "</g>\r\n",
       "<!-- 1_long_compute_step&#45;&gt;a1 -->\r\n",
       "<g id=\"edge2\" class=\"edge\"><title>1_long_compute_step&#45;&gt;a1</title>\r\n",
       "<path fill=\"none\" stroke=\"black\" d=\"M235,-45.6052C235,-44.3429 235,-43.075 235,-41.826\"/>\r\n",
       "<polygon fill=\"black\" stroke=\"black\" points=\"237.275,-41.5461 235,-35.0461 232.725,-41.5461 237.275,-41.5461\"/>\r\n",
       "</g>\r\n",
       "<!-- 2_long_compute_step -->\r\n",
       "<g id=\"node5\" class=\"node\"><title>2_long_compute_step</title>\r\n",
       "<ellipse fill=\"white\" stroke=\"black\" cx=\"389\" cy=\"-64\" rx=\"64.7736\" ry=\"18\"/>\r\n",
       "<text text-anchor=\"middle\" x=\"389\" y=\"-60.9\" font-family=\"Times New Roman,serif\" font-size=\"12.00\">long_compute_step</text>\r\n",
       "</g>\r\n",
       "<!-- a2 -->\r\n",
       "<g id=\"node6\" class=\"node\"><title>a2</title>\r\n",
       "<polygon fill=\"none\" stroke=\"black\" points=\"435,-35 343,-35 343,-16 435,-16 435,-35\"/>\r\n",
       "<text text-anchor=\"middle\" x=\"389\" y=\"-23\" font-family=\"Times New Roman,serif\" font-size=\"10.00\">long&#45;compute&#45;data</text>\r\n",
       "</g>\r\n",
       "<!-- 2_long_compute_step&#45;&gt;a2 -->\r\n",
       "<g id=\"edge3\" class=\"edge\"><title>2_long_compute_step&#45;&gt;a2</title>\r\n",
       "<path fill=\"none\" stroke=\"black\" d=\"M389,-45.6052C389,-44.3429 389,-43.075 389,-41.826\"/>\r\n",
       "<polygon fill=\"black\" stroke=\"black\" points=\"391.275,-41.5461 389,-35.0461 386.725,-41.5461 391.275,-41.5461\"/>\r\n",
       "</g>\r\n",
       "<!-- 3_make_mega_big_object -->\r\n",
       "<g id=\"node7\" class=\"node\"><title>3_make_mega_big_object</title>\r\n",
       "<ellipse fill=\"white\" stroke=\"black\" cx=\"555\" cy=\"-64\" rx=\"76.8968\" ry=\"18\"/>\r\n",
       "<text text-anchor=\"middle\" x=\"555\" y=\"-60.9\" font-family=\"Times New Roman,serif\" font-size=\"12.00\">make_mega_big_object</text>\r\n",
       "</g>\r\n",
       "<!-- a3 -->\r\n",
       "<g id=\"node8\" class=\"node\"><title>a3</title>\r\n",
       "<polygon fill=\"none\" stroke=\"black\" points=\"597.5,-35 512.5,-35 512.5,-16 597.5,-16 597.5,-35\"/>\r\n",
       "<text text-anchor=\"middle\" x=\"555\" y=\"-23\" font-family=\"Times New Roman,serif\" font-size=\"10.00\">very&#45;large&#45;object</text>\r\n",
       "</g>\r\n",
       "<!-- 3_make_mega_big_object&#45;&gt;a3 -->\r\n",
       "<g id=\"edge4\" class=\"edge\"><title>3_make_mega_big_object&#45;&gt;a3</title>\r\n",
       "<path fill=\"none\" stroke=\"black\" d=\"M555,-45.6052C555,-44.3429 555,-43.075 555,-41.826\"/>\r\n",
       "<polygon fill=\"black\" stroke=\"black\" points=\"557.275,-41.5461 555,-35.0461 552.725,-41.5461 557.275,-41.5461\"/>\r\n",
       "</g>\r\n",
       "<!-- 4_make_pretty_graphs -->\r\n",
       "<g id=\"node9\" class=\"node\"><title>4_make_pretty_graphs</title>\r\n",
       "<ellipse fill=\"white\" stroke=\"black\" cx=\"724\" cy=\"-64\" rx=\"67.9298\" ry=\"18\"/>\r\n",
       "<text text-anchor=\"middle\" x=\"724\" y=\"-60.9\" font-family=\"Times New Roman,serif\" font-size=\"12.00\">make_pretty_graphs</text>\r\n",
       "</g>\r\n",
       "<!-- a4 -->\r\n",
       "<g id=\"node10\" class=\"node\"><title>a4</title>\r\n",
       "<polygon fill=\"none\" stroke=\"black\" points=\"756.5,-35 691.5,-35 691.5,-16 756.5,-16 756.5,-35\"/>\r\n",
       "<text text-anchor=\"middle\" x=\"724\" y=\"-23\" font-family=\"Times New Roman,serif\" font-size=\"10.00\">line_history</text>\r\n",
       "</g>\r\n",
       "<!-- 4_make_pretty_graphs&#45;&gt;a4 -->\r\n",
       "<g id=\"edge5\" class=\"edge\"><title>4_make_pretty_graphs&#45;&gt;a4</title>\r\n",
       "<path fill=\"none\" stroke=\"black\" d=\"M724,-45.6052C724,-44.3429 724,-43.075 724,-41.826\"/>\r\n",
       "<polygon fill=\"black\" stroke=\"black\" points=\"726.275,-41.5461 724,-35.0461 721.725,-41.5461 726.275,-41.5461\"/>\r\n",
       "</g>\r\n",
       "<!-- 5_make_pretty_graphs -->\r\n",
       "<g id=\"node11\" class=\"node\"><title>5_make_pretty_graphs</title>\r\n",
       "<ellipse fill=\"white\" stroke=\"black\" cx=\"884\" cy=\"-64\" rx=\"67.9298\" ry=\"18\"/>\r\n",
       "<text text-anchor=\"middle\" x=\"884\" y=\"-60.9\" font-family=\"Times New Roman,serif\" font-size=\"12.00\">make_pretty_graphs</text>\r\n",
       "</g>\r\n",
       "<!-- a5 -->\r\n",
       "<g id=\"node12\" class=\"node\"><title>a5</title>\r\n",
       "<polygon fill=\"none\" stroke=\"black\" points=\"916.5,-35 851.5,-35 851.5,-16 916.5,-16 916.5,-35\"/>\r\n",
       "<text text-anchor=\"middle\" x=\"884\" y=\"-23\" font-family=\"Times New Roman,serif\" font-size=\"10.00\">line_history</text>\r\n",
       "</g>\r\n",
       "<!-- 5_make_pretty_graphs&#45;&gt;a5 -->\r\n",
       "<g id=\"edge6\" class=\"edge\"><title>5_make_pretty_graphs&#45;&gt;a5</title>\r\n",
       "<path fill=\"none\" stroke=\"black\" d=\"M884,-45.6052C884,-44.3429 884,-43.075 884,-41.826\"/>\r\n",
       "<polygon fill=\"black\" stroke=\"black\" points=\"886.275,-41.5461 884,-35.0461 881.725,-41.5461 886.275,-41.5461\"/>\r\n",
       "</g>\r\n",
       "</g>\r\n",
       "</svg>\r\n"
      ],
      "text/plain": [
       "<IPython.core.display.HTML object>"
      ]
     },
     "execution_count": 18,
     "metadata": {},
     "output_type": "execute_result"
    }
   ],
   "source": [
    "manager.display_stage_graph()  # this obviously looks a lot more interesting in more complicated stage setups"
   ]
  },
  {
   "cell_type": "markdown",
   "id": "784707cb",
   "metadata": {},
   "source": [
    "Finally, a full HTML report can be produced with the `generate_report()` function. This will create a run-specific folder to contain the report and all rendered reportables, inside the reports path. Additionally, every time a report is generated, an overall project report index is put directly in the reports path, which lists and links to all of the individual reports."
   ]
  },
  {
   "cell_type": "code",
   "execution_count": 19,
   "id": "81d99004",
   "metadata": {},
   "outputs": [
    {
     "name": "stdout",
     "output_type": "stream",
     "text": [
      "2022-02-03 10:59:11,821 [INFO] - Generating report...\n",
      "2022-02-03 10:59:11,821 [INFO] - Preparing report path 'reports/_latest'...\n",
      "2022-02-03 10:59:12,360 [INFO] - Preparing report path 'reports/notebook_example_1_5_2022-02-03-T105859'...\n",
      "2022-02-03 10:59:12,945 [INFO] - Updating report index...\n",
      "2022-02-03 10:59:12,945 [INFO] -     2 labeled reports found\n",
      "2022-02-03 10:59:12,945 [INFO] -     0 informal runs found\n"
     ]
    }
   ],
   "source": [
    "manager.generate_report()"
   ]
  },
  {
   "cell_type": "code",
   "execution_count": 20,
   "id": "2e3876b7",
   "metadata": {},
   "outputs": [
    {
     "data": {
      "text/plain": [
       "['index.html',\n",
       " 'notebook_example_1_4_2022-02-03-T092555',\n",
       " 'notebook_example_1_5_2022-02-03-T105859',\n",
       " 'style.css',\n",
       " '_latest']"
      ]
     },
     "execution_count": 20,
     "metadata": {},
     "output_type": "execute_result"
    }
   ],
   "source": [
    "os.listdir(\"reports\")"
   ]
  }
 ],
 "metadata": {
  "kernelspec": {
   "display_name": "Python 3 (ipykernel)",
   "language": "python",
   "name": "python3"
  },
  "language_info": {
   "codemirror_mode": {
    "name": "ipython",
    "version": 3
   },
   "file_extension": ".py",
   "mimetype": "text/x-python",
   "name": "python",
   "nbconvert_exporter": "python",
   "pygments_lexer": "ipython3",
   "version": "3.8.8"
  }
 },
 "nbformat": 4,
 "nbformat_minor": 5
}
