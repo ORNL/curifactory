{
 "cells": [
  {
   "cell_type": "markdown",
   "id": "029d8e31",
   "metadata": {},
   "source": [
    "# 1: Caching and Reporting\n",
    "\n",
    "This notebook demonstrates some of the features the components from the previous notebook enable. Two major abilities are easily caching objects (to short circuit computation of already-computed values) and quickly adding graphs and other \"reportables\" to a jupyter display or a generated HTML experiment run report."
   ]
  },
  {
   "cell_type": "code",
   "execution_count": 1,
   "id": "73d17698",
   "metadata": {},
   "outputs": [
    {
     "name": "stdout",
     "output_type": "stream",
     "text": [
      "/home/81n/lab/curifactory/examples\n"
     ]
    }
   ],
   "source": [
    "%cd .."
   ]
  },
  {
   "cell_type": "markdown",
   "id": "f79b1206",
   "metadata": {},
   "source": [
    "We create an artifact manager, a parameter class, and some parameter sets, like in the previous notebook:"
   ]
  },
  {
   "cell_type": "code",
   "execution_count": 2,
   "id": "3deb3f24",
   "metadata": {},
   "outputs": [],
   "source": [
    "from dataclasses import dataclass\n",
    "import curifactory as cf\n",
    "\n",
    "manager = cf.ArtifactManager(\"notebook_example_1\")\n",
    "\n",
    "@dataclass\n",
    "class Params(cf.ExperimentParameters):\n",
    "    my_parameter: int = 1\n",
    "        \n",
    "default_params = Params(name=\"default\")\n",
    "doubled_params = Params(name=\"doubled\", my_parameter=2)"
   ]
  },
  {
   "cell_type": "markdown",
   "id": "04f9b14f",
   "metadata": {},
   "source": [
    "## Caching\n",
    "\n",
    "Caching is done at each stage, by listing a `curifactory.Cacheable` subclass for each output. After the stage runs, each cacher will save the returned object in the data cache path. The cached filename includes the name of the experiment (the string passed to `ArtifactManager`, \"notebook_example_1\" in this case), the hash string of the parameters, the name of the stage doing the caching, and the name of the output itself.\n",
    "\n",
    "On any subsequent run of that stage, the cachers all check to see if their file has already been created, and if it has, they directly load the object from file and return it rather than running the stage code.\n",
    "\n",
    "The `@stage` decorator has a `cachers` parameter which should be given a list of cachers to use for the associated outputs list. Curifactory comes with a set of default cachers you can use, including `JsonCacher`, `PandasCSVCacher`, `PandasJsonCacher`, and `PickleCacher`.\n",
    "\n",
    "In the example below, we define a \"long-running compute\" stage, to demonstrate cachers short-circuiting computation"
   ]
  },
  {
   "cell_type": "code",
   "execution_count": 3,
   "id": "628b8dce",
   "metadata": {},
   "outputs": [],
   "source": [
    "from time import sleep\n",
    "from curifactory.caching import JsonCacher\n",
    "\n",
    "@cf.stage(inputs=None, outputs=[\"long-compute-data\"], cachers=[JsonCacher])\n",
    "def long_compute_step(record):\n",
    "    some_data = {\n",
    "        \"my_value\": record.params.my_parameter, \n",
    "        \"magic_value\": 42\n",
    "    }\n",
    "    sleep(5)  # making dictionaries is hard work\n",
    "    return some_data"
   ]
  },
  {
   "cell_type": "code",
   "execution_count": 4,
   "id": "b51d18f8",
   "metadata": {},
   "outputs": [
    {
     "data": {
      "text/plain": [
       "[]"
      ]
     },
     "execution_count": 4,
     "metadata": {},
     "output_type": "execute_result"
    }
   ],
   "source": [
    "import os\n",
    "import shutil\n",
    "\n",
    "# to demonstrate cache files, we first clear our cache path\n",
    "for file in os.listdir(\"data/cache\"):\n",
    "    if os.path.isdir(os.path.join(\"data/cache\", file)):\n",
    "        shutil.rmtree(f\"data/cache/{file}\")\n",
    "    else:\n",
    "        os.remove(f\"data/cache/{file}\")\n",
    "os.listdir(\"data/cache\")"
   ]
  },
  {
   "cell_type": "markdown",
   "id": "95416e71",
   "metadata": {},
   "source": [
    "We run a record through our long running stage, and as expected it takes 5 seconds"
   ]
  },
  {
   "cell_type": "code",
   "execution_count": 5,
   "id": "54297a64",
   "metadata": {},
   "outputs": [
    {
     "data": {
      "text/html": [
       "<pre style=\"white-space:pre;overflow-x:auto;line-height:normal;font-family:Menlo,'DejaVu Sans Mono',consolas,'Courier New',monospace\"><span style=\"color: #7fbfbf; text-decoration-color: #7fbfbf\">14:05:13 </span><span style=\"color: #000080; text-decoration-color: #000080\">INFO    </span> <span style=\"font-weight: bold\">[</span>default<span style=\"font-weight: bold\">]</span> <span style=\"color: #808000; text-decoration-color: #808000; font-weight: bold\">-----</span>                                                                    <a href=\"file:///home/81n/lab/curifactory/curifactory/staging.py\" target=\"_blank\"><span style=\"color: #7f7f7f; text-decoration-color: #7f7f7f\">staging.py</span></a><span style=\"color: #7f7f7f; text-decoration-color: #7f7f7f\">:</span><a href=\"file:///home/81n/lab/curifactory/curifactory/staging.py#157\" target=\"_blank\"><span style=\"color: #7f7f7f; text-decoration-color: #7f7f7f\">157</span></a>\n",
       "</pre>\n"
      ],
      "text/plain": [
       "\u001b[2;36m14:05:13\u001b[0m\u001b[2;36m \u001b[0m\u001b[34mINFO    \u001b[0m \u001b[1m[\u001b[0mdefault\u001b[1m]\u001b[0m \u001b[1;33m-----\u001b[0m                                                                    \u001b]8;id=601536;file:///home/81n/lab/curifactory/curifactory/staging.py\u001b\\\u001b[2mstaging.py\u001b[0m\u001b]8;;\u001b\\\u001b[2m:\u001b[0m\u001b]8;id=578616;file:///home/81n/lab/curifactory/curifactory/staging.py#157\u001b\\\u001b[2m157\u001b[0m\u001b]8;;\u001b\\\n"
      ]
     },
     "metadata": {},
     "output_type": "display_data"
    },
    {
     "data": {
      "text/html": [
       "<pre style=\"white-space:pre;overflow-x:auto;line-height:normal;font-family:Menlo,'DejaVu Sans Mono',consolas,'Courier New',monospace\"><span style=\"color: #7fbfbf; text-decoration-color: #7fbfbf\">         </span><span style=\"color: #000080; text-decoration-color: #000080\">INFO    </span> <span style=\"font-weight: bold\">[</span>default<span style=\"font-weight: bold\">]</span> Stage long_compute_step                                                  <a href=\"file:///home/81n/lab/curifactory/curifactory/staging.py\" target=\"_blank\"><span style=\"color: #7f7f7f; text-decoration-color: #7f7f7f\">staging.py</span></a><span style=\"color: #7f7f7f; text-decoration-color: #7f7f7f\">:</span><a href=\"file:///home/81n/lab/curifactory/curifactory/staging.py#158\" target=\"_blank\"><span style=\"color: #7f7f7f; text-decoration-color: #7f7f7f\">158</span></a>\n",
       "</pre>\n"
      ],
      "text/plain": [
       "\u001b[2;36m        \u001b[0m\u001b[2;36m \u001b[0m\u001b[34mINFO    \u001b[0m \u001b[1m[\u001b[0mdefault\u001b[1m]\u001b[0m Stage long_compute_step                                                  \u001b]8;id=626598;file:///home/81n/lab/curifactory/curifactory/staging.py\u001b\\\u001b[2mstaging.py\u001b[0m\u001b]8;;\u001b\\\u001b[2m:\u001b[0m\u001b]8;id=801982;file:///home/81n/lab/curifactory/curifactory/staging.py#158\u001b\\\u001b[2m158\u001b[0m\u001b]8;;\u001b\\\n"
      ]
     },
     "metadata": {},
     "output_type": "display_data"
    },
    {
     "data": {
      "text/html": [
       "<pre style=\"white-space:pre;overflow-x:auto;line-height:normal;font-family:Menlo,'DejaVu Sans Mono',consolas,'Courier New',monospace\"><span style=\"color: #7fbfbf; text-decoration-color: #7fbfbf\">         </span><span style=\"color: #000080; text-decoration-color: #000080\">INFO    </span> <span style=\"font-weight: bold\">[</span>default<span style=\"font-weight: bold\">]</span> Stage long_compute_step executing<span style=\"color: #808000; text-decoration-color: #808000\">...</span>                                     <a href=\"file:///home/81n/lab/curifactory/curifactory/staging.py\" target=\"_blank\"><span style=\"color: #7f7f7f; text-decoration-color: #7f7f7f\">staging.py</span></a><span style=\"color: #7f7f7f; text-decoration-color: #7f7f7f\">:</span><a href=\"file:///home/81n/lab/curifactory/curifactory/staging.py#408\" target=\"_blank\"><span style=\"color: #7f7f7f; text-decoration-color: #7f7f7f\">408</span></a>\n",
       "</pre>\n"
      ],
      "text/plain": [
       "\u001b[2;36m        \u001b[0m\u001b[2;36m \u001b[0m\u001b[34mINFO    \u001b[0m \u001b[1m[\u001b[0mdefault\u001b[1m]\u001b[0m Stage long_compute_step executing\u001b[33m...\u001b[0m                                     \u001b]8;id=11682;file:///home/81n/lab/curifactory/curifactory/staging.py\u001b\\\u001b[2mstaging.py\u001b[0m\u001b]8;;\u001b\\\u001b[2m:\u001b[0m\u001b]8;id=196986;file:///home/81n/lab/curifactory/curifactory/staging.py#408\u001b\\\u001b[2m408\u001b[0m\u001b]8;;\u001b\\\n"
      ]
     },
     "metadata": {},
     "output_type": "display_data"
    },
    {
     "data": {
      "text/html": [
       "<pre style=\"white-space:pre;overflow-x:auto;line-height:normal;font-family:Menlo,'DejaVu Sans Mono',consolas,'Courier New',monospace\"><span style=\"color: #7fbfbf; text-decoration-color: #7fbfbf\">14:05:18 </span><span style=\"color: #000080; text-decoration-color: #000080\">INFO    </span> <span style=\"font-weight: bold\">[</span>default<span style=\"font-weight: bold\">]</span> Stage long_compute_step caching outputs<span style=\"color: #808000; text-decoration-color: #808000\">...</span>                              <a href=\"file:///home/81n/lab/curifactory/curifactory/staging.py\" target=\"_blank\"><span style=\"color: #7f7f7f; text-decoration-color: #7f7f7f\">staging.py</span></a><span style=\"color: #7f7f7f; text-decoration-color: #7f7f7f\">:</span><a href=\"file:///home/81n/lab/curifactory/curifactory/staging.py#1154\" target=\"_blank\"><span style=\"color: #7f7f7f; text-decoration-color: #7f7f7f\">1154</span></a>\n",
       "</pre>\n"
      ],
      "text/plain": [
       "\u001b[2;36m14:05:18\u001b[0m\u001b[2;36m \u001b[0m\u001b[34mINFO    \u001b[0m \u001b[1m[\u001b[0mdefault\u001b[1m]\u001b[0m Stage long_compute_step caching outputs\u001b[33m...\u001b[0m                              \u001b]8;id=900908;file:///home/81n/lab/curifactory/curifactory/staging.py\u001b\\\u001b[2mstaging.py\u001b[0m\u001b]8;;\u001b\\\u001b[2m:\u001b[0m\u001b]8;id=455205;file:///home/81n/lab/curifactory/curifactory/staging.py#1154\u001b\\\u001b[2m1154\u001b[0m\u001b]8;;\u001b\\\n"
      ]
     },
     "metadata": {},
     "output_type": "display_data"
    },
    {
     "data": {
      "text/html": [
       "<pre style=\"white-space:pre;overflow-x:auto;line-height:normal;font-family:Menlo,'DejaVu Sans Mono',consolas,'Courier New',monospace\"><span style=\"color: #7fbfbf; text-decoration-color: #7fbfbf\">         </span><span style=\"color: #000080; text-decoration-color: #000080\">INFO    </span> <span style=\"font-weight: bold\">[</span>default<span style=\"font-weight: bold\">]</span> Stage long_compute_step complete                                         <a href=\"file:///home/81n/lab/curifactory/curifactory/staging.py\" target=\"_blank\"><span style=\"color: #7f7f7f; text-decoration-color: #7f7f7f\">staging.py</span></a><span style=\"color: #7f7f7f; text-decoration-color: #7f7f7f\">:</span><a href=\"file:///home/81n/lab/curifactory/curifactory/staging.py#460\" target=\"_blank\"><span style=\"color: #7f7f7f; text-decoration-color: #7f7f7f\">460</span></a>\n",
       "</pre>\n"
      ],
      "text/plain": [
       "\u001b[2;36m        \u001b[0m\u001b[2;36m \u001b[0m\u001b[34mINFO    \u001b[0m \u001b[1m[\u001b[0mdefault\u001b[1m]\u001b[0m Stage long_compute_step complete                                         \u001b]8;id=273901;file:///home/81n/lab/curifactory/curifactory/staging.py\u001b\\\u001b[2mstaging.py\u001b[0m\u001b]8;;\u001b\\\u001b[2m:\u001b[0m\u001b]8;id=450565;file:///home/81n/lab/curifactory/curifactory/staging.py#460\u001b\\\u001b[2m460\u001b[0m\u001b]8;;\u001b\\\n"
      ]
     },
     "metadata": {},
     "output_type": "display_data"
    },
    {
     "name": "stdout",
     "output_type": "stream",
     "text": [
      "CPU times: user 31.4 ms, sys: 1.43 ms, total: 32.8 ms\n",
      "Wall time: 5.03 s\n"
     ]
    }
   ],
   "source": [
    "%%time\n",
    "r0 = cf.Record(manager, default_params)\n",
    "r0 = long_compute_step(r0)"
   ]
  },
  {
   "cell_type": "markdown",
   "id": "f712fbe8",
   "metadata": {},
   "source": [
    "Inspecting our cache path now, there's a new json entry for our output, which we can load up and see is the output from our stage"
   ]
  },
  {
   "cell_type": "code",
   "execution_count": 6,
   "id": "5fe6da51",
   "metadata": {},
   "outputs": [
    {
     "name": "stdout",
     "output_type": "stream",
     "text": [
      "['notebook_example_1_ec3f8f4559d33912cdfa01467994ce46_long_compute_step_long-compute-data.json', 'notebook_example_1_ec3f8f4559d33912cdfa01467994ce46_long_compute_step_long-compute-data_metadata.json']\n",
      "\n",
      "{'my_value': 1, 'magic_value': 42}\n"
     ]
    }
   ],
   "source": [
    "import json\n",
    "\n",
    "print(os.listdir(\"data/cache\"))\n",
    "print()\n",
    "with open(f\"data/cache/{os.listdir('data/cache')[0]}\", 'r') as infile:\n",
    "    print(json.load(infile))"
   ]
  },
  {
   "cell_type": "markdown",
   "id": "7c8aab4a",
   "metadata": {},
   "source": [
    "If we run the stage again with a record using the same parameter set as the previous time, it finds the correct cached output and returns before running the stage code:"
   ]
  },
  {
   "cell_type": "code",
   "execution_count": 7,
   "id": "91c10620",
   "metadata": {},
   "outputs": [
    {
     "data": {
      "text/html": [
       "<pre style=\"white-space:pre;overflow-x:auto;line-height:normal;font-family:Menlo,'DejaVu Sans Mono',consolas,'Courier New',monospace\"><span style=\"color: #7fbfbf; text-decoration-color: #7fbfbf\">         </span><span style=\"color: #000080; text-decoration-color: #000080\">INFO    </span> <span style=\"font-weight: bold\">[</span>default<span style=\"font-weight: bold\">]</span> <span style=\"color: #808000; text-decoration-color: #808000; font-weight: bold\">-----</span>                                                                    <a href=\"file:///home/81n/lab/curifactory/curifactory/staging.py\" target=\"_blank\"><span style=\"color: #7f7f7f; text-decoration-color: #7f7f7f\">staging.py</span></a><span style=\"color: #7f7f7f; text-decoration-color: #7f7f7f\">:</span><a href=\"file:///home/81n/lab/curifactory/curifactory/staging.py#157\" target=\"_blank\"><span style=\"color: #7f7f7f; text-decoration-color: #7f7f7f\">157</span></a>\n",
       "</pre>\n"
      ],
      "text/plain": [
       "\u001b[2;36m        \u001b[0m\u001b[2;36m \u001b[0m\u001b[34mINFO    \u001b[0m \u001b[1m[\u001b[0mdefault\u001b[1m]\u001b[0m \u001b[1;33m-----\u001b[0m                                                                    \u001b]8;id=990481;file:///home/81n/lab/curifactory/curifactory/staging.py\u001b\\\u001b[2mstaging.py\u001b[0m\u001b]8;;\u001b\\\u001b[2m:\u001b[0m\u001b]8;id=755484;file:///home/81n/lab/curifactory/curifactory/staging.py#157\u001b\\\u001b[2m157\u001b[0m\u001b]8;;\u001b\\\n"
      ]
     },
     "metadata": {},
     "output_type": "display_data"
    },
    {
     "data": {
      "text/html": [
       "<pre style=\"white-space:pre;overflow-x:auto;line-height:normal;font-family:Menlo,'DejaVu Sans Mono',consolas,'Courier New',monospace\"><span style=\"color: #7fbfbf; text-decoration-color: #7fbfbf\">         </span><span style=\"color: #000080; text-decoration-color: #000080\">INFO    </span> <span style=\"font-weight: bold\">[</span>default<span style=\"font-weight: bold\">]</span> Stage long_compute_step                                                  <a href=\"file:///home/81n/lab/curifactory/curifactory/staging.py\" target=\"_blank\"><span style=\"color: #7f7f7f; text-decoration-color: #7f7f7f\">staging.py</span></a><span style=\"color: #7f7f7f; text-decoration-color: #7f7f7f\">:</span><a href=\"file:///home/81n/lab/curifactory/curifactory/staging.py#158\" target=\"_blank\"><span style=\"color: #7f7f7f; text-decoration-color: #7f7f7f\">158</span></a>\n",
       "</pre>\n"
      ],
      "text/plain": [
       "\u001b[2;36m        \u001b[0m\u001b[2;36m \u001b[0m\u001b[34mINFO    \u001b[0m \u001b[1m[\u001b[0mdefault\u001b[1m]\u001b[0m Stage long_compute_step                                                  \u001b]8;id=607116;file:///home/81n/lab/curifactory/curifactory/staging.py\u001b\\\u001b[2mstaging.py\u001b[0m\u001b]8;;\u001b\\\u001b[2m:\u001b[0m\u001b]8;id=667559;file:///home/81n/lab/curifactory/curifactory/staging.py#158\u001b\\\u001b[2m158\u001b[0m\u001b]8;;\u001b\\\n"
      ]
     },
     "metadata": {},
     "output_type": "display_data"
    },
    {
     "data": {
      "text/html": [
       "<pre style=\"white-space:pre;overflow-x:auto;line-height:normal;font-family:Menlo,'DejaVu Sans Mono',consolas,'Courier New',monospace\"><span style=\"color: #7fbfbf; text-decoration-color: #7fbfbf\">         </span><span style=\"color: #000080; text-decoration-color: #000080\">INFO    </span> <span style=\"font-weight: bold\">[</span>default<span style=\"font-weight: bold\">]</span> Cached object                                                            <a href=\"file:///home/81n/lab/curifactory/curifactory/caching.py\" target=\"_blank\"><span style=\"color: #7f7f7f; text-decoration-color: #7f7f7f\">caching.py</span></a><span style=\"color: #7f7f7f; text-decoration-color: #7f7f7f\">:</span><a href=\"file:///home/81n/lab/curifactory/curifactory/caching.py#411\" target=\"_blank\"><span style=\"color: #7f7f7f; text-decoration-color: #7f7f7f\">411</span></a>\n",
       "<span style=\"color: #7fbfbf; text-decoration-color: #7fbfbf\">         </span>         <span style=\"color: #008000; text-decoration-color: #008000\">'data/cache/notebook_example_1_ec3f8f4559d33912cdfa01467994ce46_long_compute_step_</span> <span style=\"color: #7f7f7f; text-decoration-color: #7f7f7f\">              </span>\n",
       "<span style=\"color: #7fbfbf; text-decoration-color: #7fbfbf\">         </span>         <span style=\"color: #008000; text-decoration-color: #008000\">long-compute-data.json'</span> found                                                      <span style=\"color: #7f7f7f; text-decoration-color: #7f7f7f\">              </span>\n",
       "</pre>\n"
      ],
      "text/plain": [
       "\u001b[2;36m        \u001b[0m\u001b[2;36m \u001b[0m\u001b[34mINFO    \u001b[0m \u001b[1m[\u001b[0mdefault\u001b[1m]\u001b[0m Cached object                                                            \u001b]8;id=345334;file:///home/81n/lab/curifactory/curifactory/caching.py\u001b\\\u001b[2mcaching.py\u001b[0m\u001b]8;;\u001b\\\u001b[2m:\u001b[0m\u001b]8;id=468717;file:///home/81n/lab/curifactory/curifactory/caching.py#411\u001b\\\u001b[2m411\u001b[0m\u001b]8;;\u001b\\\n",
       "\u001b[2;36m         \u001b[0m         \u001b[32m'data/cache/notebook_example_1_ec3f8f4559d33912cdfa01467994ce46_long_compute_step_\u001b[0m \u001b[2m              \u001b[0m\n",
       "\u001b[2;36m         \u001b[0m         \u001b[32mlong-compute-data.json'\u001b[0m found                                                      \u001b[2m              \u001b[0m\n"
      ]
     },
     "metadata": {},
     "output_type": "display_data"
    },
    {
     "name": "stdout",
     "output_type": "stream",
     "text": [
      "CPU times: user 15 ms, sys: 0 ns, total: 15 ms\n",
      "Wall time: 13.1 ms\n"
     ]
    }
   ],
   "source": [
    "%%time\n",
    "r1 = cf.Record(manager, default_params)\n",
    "r1 = long_compute_step(r1)"
   ]
  },
  {
   "cell_type": "markdown",
   "id": "08cc5a62",
   "metadata": {},
   "source": [
    "Using a different parameter set results in a different cache path, so computations with different parameters won't conflict:"
   ]
  },
  {
   "cell_type": "code",
   "execution_count": 8,
   "id": "86377b5e",
   "metadata": {},
   "outputs": [
    {
     "data": {
      "text/html": [
       "<pre style=\"white-space:pre;overflow-x:auto;line-height:normal;font-family:Menlo,'DejaVu Sans Mono',consolas,'Courier New',monospace\"><span style=\"color: #7fbfbf; text-decoration-color: #7fbfbf\">         </span><span style=\"color: #000080; text-decoration-color: #000080\">INFO    </span> <span style=\"font-weight: bold\">[</span>doubled<span style=\"font-weight: bold\">]</span> <span style=\"color: #808000; text-decoration-color: #808000; font-weight: bold\">-----</span>                                                                    <a href=\"file:///home/81n/lab/curifactory/curifactory/staging.py\" target=\"_blank\"><span style=\"color: #7f7f7f; text-decoration-color: #7f7f7f\">staging.py</span></a><span style=\"color: #7f7f7f; text-decoration-color: #7f7f7f\">:</span><a href=\"file:///home/81n/lab/curifactory/curifactory/staging.py#157\" target=\"_blank\"><span style=\"color: #7f7f7f; text-decoration-color: #7f7f7f\">157</span></a>\n",
       "</pre>\n"
      ],
      "text/plain": [
       "\u001b[2;36m        \u001b[0m\u001b[2;36m \u001b[0m\u001b[34mINFO    \u001b[0m \u001b[1m[\u001b[0mdoubled\u001b[1m]\u001b[0m \u001b[1;33m-----\u001b[0m                                                                    \u001b]8;id=815358;file:///home/81n/lab/curifactory/curifactory/staging.py\u001b\\\u001b[2mstaging.py\u001b[0m\u001b]8;;\u001b\\\u001b[2m:\u001b[0m\u001b]8;id=263467;file:///home/81n/lab/curifactory/curifactory/staging.py#157\u001b\\\u001b[2m157\u001b[0m\u001b]8;;\u001b\\\n"
      ]
     },
     "metadata": {},
     "output_type": "display_data"
    },
    {
     "data": {
      "text/html": [
       "<pre style=\"white-space:pre;overflow-x:auto;line-height:normal;font-family:Menlo,'DejaVu Sans Mono',consolas,'Courier New',monospace\"><span style=\"color: #7fbfbf; text-decoration-color: #7fbfbf\">         </span><span style=\"color: #000080; text-decoration-color: #000080\">INFO    </span> <span style=\"font-weight: bold\">[</span>doubled<span style=\"font-weight: bold\">]</span> Stage long_compute_step                                                  <a href=\"file:///home/81n/lab/curifactory/curifactory/staging.py\" target=\"_blank\"><span style=\"color: #7f7f7f; text-decoration-color: #7f7f7f\">staging.py</span></a><span style=\"color: #7f7f7f; text-decoration-color: #7f7f7f\">:</span><a href=\"file:///home/81n/lab/curifactory/curifactory/staging.py#158\" target=\"_blank\"><span style=\"color: #7f7f7f; text-decoration-color: #7f7f7f\">158</span></a>\n",
       "</pre>\n"
      ],
      "text/plain": [
       "\u001b[2;36m        \u001b[0m\u001b[2;36m \u001b[0m\u001b[34mINFO    \u001b[0m \u001b[1m[\u001b[0mdoubled\u001b[1m]\u001b[0m Stage long_compute_step                                                  \u001b]8;id=287720;file:///home/81n/lab/curifactory/curifactory/staging.py\u001b\\\u001b[2mstaging.py\u001b[0m\u001b]8;;\u001b\\\u001b[2m:\u001b[0m\u001b]8;id=224211;file:///home/81n/lab/curifactory/curifactory/staging.py#158\u001b\\\u001b[2m158\u001b[0m\u001b]8;;\u001b\\\n"
      ]
     },
     "metadata": {},
     "output_type": "display_data"
    },
    {
     "data": {
      "text/html": [
       "<pre style=\"white-space:pre;overflow-x:auto;line-height:normal;font-family:Menlo,'DejaVu Sans Mono',consolas,'Courier New',monospace\"><span style=\"color: #7fbfbf; text-decoration-color: #7fbfbf\">         </span><span style=\"color: #000080; text-decoration-color: #000080\">INFO    </span> <span style=\"font-weight: bold\">[</span>doubled<span style=\"font-weight: bold\">]</span> Stage long_compute_step executing<span style=\"color: #808000; text-decoration-color: #808000\">...</span>                                     <a href=\"file:///home/81n/lab/curifactory/curifactory/staging.py\" target=\"_blank\"><span style=\"color: #7f7f7f; text-decoration-color: #7f7f7f\">staging.py</span></a><span style=\"color: #7f7f7f; text-decoration-color: #7f7f7f\">:</span><a href=\"file:///home/81n/lab/curifactory/curifactory/staging.py#408\" target=\"_blank\"><span style=\"color: #7f7f7f; text-decoration-color: #7f7f7f\">408</span></a>\n",
       "</pre>\n"
      ],
      "text/plain": [
       "\u001b[2;36m        \u001b[0m\u001b[2;36m \u001b[0m\u001b[34mINFO    \u001b[0m \u001b[1m[\u001b[0mdoubled\u001b[1m]\u001b[0m Stage long_compute_step executing\u001b[33m...\u001b[0m                                     \u001b]8;id=343547;file:///home/81n/lab/curifactory/curifactory/staging.py\u001b\\\u001b[2mstaging.py\u001b[0m\u001b]8;;\u001b\\\u001b[2m:\u001b[0m\u001b]8;id=378808;file:///home/81n/lab/curifactory/curifactory/staging.py#408\u001b\\\u001b[2m408\u001b[0m\u001b]8;;\u001b\\\n"
      ]
     },
     "metadata": {},
     "output_type": "display_data"
    },
    {
     "data": {
      "text/html": [
       "<pre style=\"white-space:pre;overflow-x:auto;line-height:normal;font-family:Menlo,'DejaVu Sans Mono',consolas,'Courier New',monospace\"><span style=\"color: #7fbfbf; text-decoration-color: #7fbfbf\">14:05:23 </span><span style=\"color: #000080; text-decoration-color: #000080\">INFO    </span> <span style=\"font-weight: bold\">[</span>doubled<span style=\"font-weight: bold\">]</span> Stage long_compute_step caching outputs<span style=\"color: #808000; text-decoration-color: #808000\">...</span>                              <a href=\"file:///home/81n/lab/curifactory/curifactory/staging.py\" target=\"_blank\"><span style=\"color: #7f7f7f; text-decoration-color: #7f7f7f\">staging.py</span></a><span style=\"color: #7f7f7f; text-decoration-color: #7f7f7f\">:</span><a href=\"file:///home/81n/lab/curifactory/curifactory/staging.py#1154\" target=\"_blank\"><span style=\"color: #7f7f7f; text-decoration-color: #7f7f7f\">1154</span></a>\n",
       "</pre>\n"
      ],
      "text/plain": [
       "\u001b[2;36m14:05:23\u001b[0m\u001b[2;36m \u001b[0m\u001b[34mINFO    \u001b[0m \u001b[1m[\u001b[0mdoubled\u001b[1m]\u001b[0m Stage long_compute_step caching outputs\u001b[33m...\u001b[0m                              \u001b]8;id=317745;file:///home/81n/lab/curifactory/curifactory/staging.py\u001b\\\u001b[2mstaging.py\u001b[0m\u001b]8;;\u001b\\\u001b[2m:\u001b[0m\u001b]8;id=789611;file:///home/81n/lab/curifactory/curifactory/staging.py#1154\u001b\\\u001b[2m1154\u001b[0m\u001b]8;;\u001b\\\n"
      ]
     },
     "metadata": {},
     "output_type": "display_data"
    },
    {
     "data": {
      "text/html": [
       "<pre style=\"white-space:pre;overflow-x:auto;line-height:normal;font-family:Menlo,'DejaVu Sans Mono',consolas,'Courier New',monospace\"><span style=\"color: #7fbfbf; text-decoration-color: #7fbfbf\">         </span><span style=\"color: #000080; text-decoration-color: #000080\">INFO    </span> <span style=\"font-weight: bold\">[</span>doubled<span style=\"font-weight: bold\">]</span> Stage long_compute_step complete                                         <a href=\"file:///home/81n/lab/curifactory/curifactory/staging.py\" target=\"_blank\"><span style=\"color: #7f7f7f; text-decoration-color: #7f7f7f\">staging.py</span></a><span style=\"color: #7f7f7f; text-decoration-color: #7f7f7f\">:</span><a href=\"file:///home/81n/lab/curifactory/curifactory/staging.py#460\" target=\"_blank\"><span style=\"color: #7f7f7f; text-decoration-color: #7f7f7f\">460</span></a>\n",
       "</pre>\n"
      ],
      "text/plain": [
       "\u001b[2;36m        \u001b[0m\u001b[2;36m \u001b[0m\u001b[34mINFO    \u001b[0m \u001b[1m[\u001b[0mdoubled\u001b[1m]\u001b[0m Stage long_compute_step complete                                         \u001b]8;id=143289;file:///home/81n/lab/curifactory/curifactory/staging.py\u001b\\\u001b[2mstaging.py\u001b[0m\u001b]8;;\u001b\\\u001b[2m:\u001b[0m\u001b]8;id=384997;file:///home/81n/lab/curifactory/curifactory/staging.py#460\u001b\\\u001b[2m460\u001b[0m\u001b]8;;\u001b\\\n"
      ]
     },
     "metadata": {},
     "output_type": "display_data"
    }
   ],
   "source": [
    "r2 = cf.Record(manager, doubled_params)\n",
    "r2 = long_compute_step(r2)"
   ]
  },
  {
   "cell_type": "code",
   "execution_count": 9,
   "id": "e6fe4797",
   "metadata": {},
   "outputs": [
    {
     "data": {
      "text/plain": [
       "['notebook_example_1_ec3f8f4559d33912cdfa01467994ce46_long_compute_step_long-compute-data.json',\n",
       " 'notebook_example_1_981bc72d0bdde272e010d9c2202b4ecf_long_compute_step_long-compute-data.json',\n",
       " 'notebook_example_1_981bc72d0bdde272e010d9c2202b4ecf_long_compute_step_long-compute-data_metadata.json',\n",
       " 'notebook_example_1_ec3f8f4559d33912cdfa01467994ce46_long_compute_step_long-compute-data_metadata.json']"
      ]
     },
     "execution_count": 9,
     "metadata": {},
     "output_type": "execute_result"
    }
   ],
   "source": [
    "os.listdir(\"data/cache\")"
   ]
  },
  {
   "cell_type": "markdown",
   "id": "535b977d",
   "metadata": {},
   "source": [
    "## Lazy Loading\n",
    "\n",
    "One potential pitfall with caching is that it will always load the object into memory, even if that object is never used. Projects with very large data objects can run into memory problems as a result. Curifactory includes a `Lazy` class that can wrap around a stage output string name - when it is first computed, the cacher saves it and the object is removed from memory (replaced in the record state with a `Lazy` instance.) When the lazy object is accessed, it will reload the object into memory from cache at that point.\n",
    "\n",
    "This means that in a sequence of stages where all values are cached, earlier stage outputs may never need to load into memory at all."
   ]
  },
  {
   "cell_type": "code",
   "execution_count": 10,
   "id": "e07fb7ed",
   "metadata": {},
   "outputs": [
    {
     "data": {
      "text/html": [
       "<pre style=\"white-space:pre;overflow-x:auto;line-height:normal;font-family:Menlo,'DejaVu Sans Mono',consolas,'Courier New',monospace\"><span style=\"color: #7fbfbf; text-decoration-color: #7fbfbf\">         </span><span style=\"color: #000080; text-decoration-color: #000080\">INFO    </span> <span style=\"font-weight: bold\">[</span>default<span style=\"font-weight: bold\">]</span> <span style=\"color: #808000; text-decoration-color: #808000; font-weight: bold\">-----</span>                                                                    <a href=\"file:///home/81n/lab/curifactory/curifactory/staging.py\" target=\"_blank\"><span style=\"color: #7f7f7f; text-decoration-color: #7f7f7f\">staging.py</span></a><span style=\"color: #7f7f7f; text-decoration-color: #7f7f7f\">:</span><a href=\"file:///home/81n/lab/curifactory/curifactory/staging.py#157\" target=\"_blank\"><span style=\"color: #7f7f7f; text-decoration-color: #7f7f7f\">157</span></a>\n",
       "</pre>\n"
      ],
      "text/plain": [
       "\u001b[2;36m        \u001b[0m\u001b[2;36m \u001b[0m\u001b[34mINFO    \u001b[0m \u001b[1m[\u001b[0mdefault\u001b[1m]\u001b[0m \u001b[1;33m-----\u001b[0m                                                                    \u001b]8;id=200627;file:///home/81n/lab/curifactory/curifactory/staging.py\u001b\\\u001b[2mstaging.py\u001b[0m\u001b]8;;\u001b\\\u001b[2m:\u001b[0m\u001b]8;id=434582;file:///home/81n/lab/curifactory/curifactory/staging.py#157\u001b\\\u001b[2m157\u001b[0m\u001b]8;;\u001b\\\n"
      ]
     },
     "metadata": {},
     "output_type": "display_data"
    },
    {
     "data": {
      "text/html": [
       "<pre style=\"white-space:pre;overflow-x:auto;line-height:normal;font-family:Menlo,'DejaVu Sans Mono',consolas,'Courier New',monospace\"><span style=\"color: #7fbfbf; text-decoration-color: #7fbfbf\">         </span><span style=\"color: #000080; text-decoration-color: #000080\">INFO    </span> <span style=\"font-weight: bold\">[</span>default<span style=\"font-weight: bold\">]</span> Stage make_mega_big_object                                               <a href=\"file:///home/81n/lab/curifactory/curifactory/staging.py\" target=\"_blank\"><span style=\"color: #7f7f7f; text-decoration-color: #7f7f7f\">staging.py</span></a><span style=\"color: #7f7f7f; text-decoration-color: #7f7f7f\">:</span><a href=\"file:///home/81n/lab/curifactory/curifactory/staging.py#158\" target=\"_blank\"><span style=\"color: #7f7f7f; text-decoration-color: #7f7f7f\">158</span></a>\n",
       "</pre>\n"
      ],
      "text/plain": [
       "\u001b[2;36m        \u001b[0m\u001b[2;36m \u001b[0m\u001b[34mINFO    \u001b[0m \u001b[1m[\u001b[0mdefault\u001b[1m]\u001b[0m Stage make_mega_big_object                                               \u001b]8;id=134843;file:///home/81n/lab/curifactory/curifactory/staging.py\u001b\\\u001b[2mstaging.py\u001b[0m\u001b]8;;\u001b\\\u001b[2m:\u001b[0m\u001b]8;id=151385;file:///home/81n/lab/curifactory/curifactory/staging.py#158\u001b\\\u001b[2m158\u001b[0m\u001b]8;;\u001b\\\n"
      ]
     },
     "metadata": {},
     "output_type": "display_data"
    },
    {
     "data": {
      "text/html": [
       "<pre style=\"white-space:pre;overflow-x:auto;line-height:normal;font-family:Menlo,'DejaVu Sans Mono',consolas,'Courier New',monospace\"><span style=\"color: #7fbfbf; text-decoration-color: #7fbfbf\">         </span><span style=\"color: #000080; text-decoration-color: #000080\">INFO    </span> <span style=\"font-weight: bold\">[</span>default<span style=\"font-weight: bold\">]</span> Stage make_mega_big_object executing<span style=\"color: #808000; text-decoration-color: #808000\">...</span>                                  <a href=\"file:///home/81n/lab/curifactory/curifactory/staging.py\" target=\"_blank\"><span style=\"color: #7f7f7f; text-decoration-color: #7f7f7f\">staging.py</span></a><span style=\"color: #7f7f7f; text-decoration-color: #7f7f7f\">:</span><a href=\"file:///home/81n/lab/curifactory/curifactory/staging.py#408\" target=\"_blank\"><span style=\"color: #7f7f7f; text-decoration-color: #7f7f7f\">408</span></a>\n",
       "</pre>\n"
      ],
      "text/plain": [
       "\u001b[2;36m        \u001b[0m\u001b[2;36m \u001b[0m\u001b[34mINFO    \u001b[0m \u001b[1m[\u001b[0mdefault\u001b[1m]\u001b[0m Stage make_mega_big_object executing\u001b[33m...\u001b[0m                                  \u001b]8;id=736053;file:///home/81n/lab/curifactory/curifactory/staging.py\u001b\\\u001b[2mstaging.py\u001b[0m\u001b]8;;\u001b\\\u001b[2m:\u001b[0m\u001b]8;id=976928;file:///home/81n/lab/curifactory/curifactory/staging.py#408\u001b\\\u001b[2m408\u001b[0m\u001b]8;;\u001b\\\n"
      ]
     },
     "metadata": {},
     "output_type": "display_data"
    },
    {
     "name": "stdout",
     "output_type": "stream",
     "text": [
      "8388664\n"
     ]
    },
    {
     "data": {
      "text/html": [
       "<pre style=\"white-space:pre;overflow-x:auto;line-height:normal;font-family:Menlo,'DejaVu Sans Mono',consolas,'Courier New',monospace\"><span style=\"color: #7fbfbf; text-decoration-color: #7fbfbf\">         </span><span style=\"color: #000080; text-decoration-color: #000080\">INFO    </span> <span style=\"font-weight: bold\">[</span>default<span style=\"font-weight: bold\">]</span> Stage make_mega_big_object caching outputs<span style=\"color: #808000; text-decoration-color: #808000\">...</span>                           <a href=\"file:///home/81n/lab/curifactory/curifactory/staging.py\" target=\"_blank\"><span style=\"color: #7f7f7f; text-decoration-color: #7f7f7f\">staging.py</span></a><span style=\"color: #7f7f7f; text-decoration-color: #7f7f7f\">:</span><a href=\"file:///home/81n/lab/curifactory/curifactory/staging.py#1154\" target=\"_blank\"><span style=\"color: #7f7f7f; text-decoration-color: #7f7f7f\">1154</span></a>\n",
       "</pre>\n"
      ],
      "text/plain": [
       "\u001b[2;36m        \u001b[0m\u001b[2;36m \u001b[0m\u001b[34mINFO    \u001b[0m \u001b[1m[\u001b[0mdefault\u001b[1m]\u001b[0m Stage make_mega_big_object caching outputs\u001b[33m...\u001b[0m                           \u001b]8;id=754695;file:///home/81n/lab/curifactory/curifactory/staging.py\u001b\\\u001b[2mstaging.py\u001b[0m\u001b]8;;\u001b\\\u001b[2m:\u001b[0m\u001b]8;id=354130;file:///home/81n/lab/curifactory/curifactory/staging.py#1154\u001b\\\u001b[2m1154\u001b[0m\u001b]8;;\u001b\\\n"
      ]
     },
     "metadata": {},
     "output_type": "display_data"
    },
    {
     "data": {
      "text/html": [
       "<pre style=\"white-space:pre;overflow-x:auto;line-height:normal;font-family:Menlo,'DejaVu Sans Mono',consolas,'Courier New',monospace\"><span style=\"color: #7fbfbf; text-decoration-color: #7fbfbf\">         </span><span style=\"color: #000080; text-decoration-color: #000080\">INFO    </span> <span style=\"font-weight: bold\">[</span>default<span style=\"font-weight: bold\">]</span> Stage make_mega_big_object complete                                      <a href=\"file:///home/81n/lab/curifactory/curifactory/staging.py\" target=\"_blank\"><span style=\"color: #7f7f7f; text-decoration-color: #7f7f7f\">staging.py</span></a><span style=\"color: #7f7f7f; text-decoration-color: #7f7f7f\">:</span><a href=\"file:///home/81n/lab/curifactory/curifactory/staging.py#460\" target=\"_blank\"><span style=\"color: #7f7f7f; text-decoration-color: #7f7f7f\">460</span></a>\n",
       "</pre>\n"
      ],
      "text/plain": [
       "\u001b[2;36m        \u001b[0m\u001b[2;36m \u001b[0m\u001b[34mINFO    \u001b[0m \u001b[1m[\u001b[0mdefault\u001b[1m]\u001b[0m Stage make_mega_big_object complete                                      \u001b]8;id=231640;file:///home/81n/lab/curifactory/curifactory/staging.py\u001b\\\u001b[2mstaging.py\u001b[0m\u001b]8;;\u001b\\\u001b[2m:\u001b[0m\u001b]8;id=409997;file:///home/81n/lab/curifactory/curifactory/staging.py#460\u001b\\\u001b[2m460\u001b[0m\u001b]8;;\u001b\\\n"
      ]
     },
     "metadata": {},
     "output_type": "display_data"
    }
   ],
   "source": [
    "from curifactory.caching import Lazy\n",
    "import sys\n",
    "\n",
    "@cf.stage(inputs=None, outputs=[Lazy(\"very-large-object\")], cachers=[JsonCacher])\n",
    "def make_mega_big_object(record):\n",
    "    mega_big = [1]*1024*1024\n",
    "    print(sys.getsizeof(mega_big))\n",
    "    return mega_big\n",
    "\n",
    "r3 = cf.Record(manager, default_params)\n",
    "r3 = make_mega_big_object(r3)"
   ]
  },
  {
   "cell_type": "code",
   "execution_count": 11,
   "id": "6e987fc7",
   "metadata": {},
   "outputs": [
    {
     "name": "stdout",
     "output_type": "stream",
     "text": [
      "<class 'curifactory.caching.Lazy'>\n",
      "48\n"
     ]
    }
   ],
   "source": [
    "r3.state.resolve = False\n",
    "print(type(r3.state['very-large-object']))\n",
    "print(sys.getsizeof(r3.state['very-large-object']))"
   ]
  },
  {
   "cell_type": "markdown",
   "id": "ac9c685c",
   "metadata": {},
   "source": [
    "Note that `Record.state` is actually a custom subclass of `dict`, and by default it will automatically resolve lazy objects any time it's accessed on the state. the above cell turns this functionality off (with `state.resolve = False`) to show that what's actually in memory before a resolved access is just the lazy object, which is significantly smaller. \n",
    "\n",
    "When the record's state resolve is at it's default value of `True`:"
   ]
  },
  {
   "cell_type": "code",
   "execution_count": 12,
   "id": "a7f1750a",
   "metadata": {},
   "outputs": [
    {
     "name": "stdout",
     "output_type": "stream",
     "text": [
      "<class 'list'>\n",
      "8448728\n"
     ]
    }
   ],
   "source": [
    "r3.state.resolve = True\n",
    "print(type(r3.state['very-large-object']))\n",
    "print(sys.getsizeof(r3.state['very-large-object']))"
   ]
  },
  {
   "cell_type": "markdown",
   "id": "4f2d86e5",
   "metadata": {},
   "source": [
    "## Reporting\n",
    "\n",
    "A major part of experiments for debugging, understanding, and publishing them is the ability to present results and pretty graphs! This can be a challenge to keep organized, as one tries to manage folders for matplotlib graph images, result tables, and so on. Curifactory provides shortcuts to easily create `Reportable` items from inside stages, which the artifact manager can then display inside an experiment run report in its own uniquely named run folder, which contains all of the information about the run, all of the created reportables, and a map of the stages that were run. Many of these report components can be rendered inside a notebook as well.\n",
    "\n",
    "Every record has a `report` function that takes a `Reportable` subclass. Curifactory includes multiple default reporters, such as `DFReporter`, `FigureReporter`, `HTMLReporter`, `JsonReporter`, and `LinePlotReporter`."
   ]
  },
  {
   "cell_type": "code",
   "execution_count": 13,
   "id": "3499fd2d",
   "metadata": {},
   "outputs": [],
   "source": [
    "from curifactory.reporting import LinePlotReporter\n",
    "\n",
    "@cf.stage(inputs=None, outputs=[\"line_history\"])\n",
    "def make_pretty_graphs(record):\n",
    "    multiplier = record.params.my_parameter\n",
    "    \n",
    "    # here we just make a bunch of example arrays of data to plot\n",
    "    line_0 = [1 * multiplier, 2 * multiplier, 3 * multiplier]\n",
    "    line_1 = [3 * multiplier, 2 * multiplier, 1 * multiplier]\n",
    "    line_2 = [4, 0, 3]\n",
    "    \n",
    "    # a LinePlotReporter makes a nicely formatted matplotlib graph\n",
    "    record.report(LinePlotReporter(line_0, name=\"single_line_plot\"))\n",
    "    record.report(LinePlotReporter(\n",
    "        y={\n",
    "            \"ascending\": line_0,\n",
    "            \"descending\": line_1,\n",
    "            \"static\": line_2\n",
    "        },\n",
    "        name=\"multi_line_plot\"\n",
    "    ))\n",
    "    return [line_0, line_1, line_2]"
   ]
  },
  {
   "cell_type": "markdown",
   "id": "0e13d222",
   "metadata": {},
   "source": [
    "The example stage above adds a couple simple line plots to any record that is run through it."
   ]
  },
  {
   "cell_type": "code",
   "execution_count": 14,
   "id": "e2965427",
   "metadata": {},
   "outputs": [
    {
     "data": {
      "text/html": [
       "<pre style=\"white-space:pre;overflow-x:auto;line-height:normal;font-family:Menlo,'DejaVu Sans Mono',consolas,'Courier New',monospace\"><span style=\"color: #7fbfbf; text-decoration-color: #7fbfbf\">         </span><span style=\"color: #000080; text-decoration-color: #000080\">INFO    </span> <span style=\"font-weight: bold\">[</span>default<span style=\"font-weight: bold\">]</span> <span style=\"color: #808000; text-decoration-color: #808000; font-weight: bold\">-----</span>                                                                    <a href=\"file:///home/81n/lab/curifactory/curifactory/staging.py\" target=\"_blank\"><span style=\"color: #7f7f7f; text-decoration-color: #7f7f7f\">staging.py</span></a><span style=\"color: #7f7f7f; text-decoration-color: #7f7f7f\">:</span><a href=\"file:///home/81n/lab/curifactory/curifactory/staging.py#157\" target=\"_blank\"><span style=\"color: #7f7f7f; text-decoration-color: #7f7f7f\">157</span></a>\n",
       "</pre>\n"
      ],
      "text/plain": [
       "\u001b[2;36m        \u001b[0m\u001b[2;36m \u001b[0m\u001b[34mINFO    \u001b[0m \u001b[1m[\u001b[0mdefault\u001b[1m]\u001b[0m \u001b[1;33m-----\u001b[0m                                                                    \u001b]8;id=851371;file:///home/81n/lab/curifactory/curifactory/staging.py\u001b\\\u001b[2mstaging.py\u001b[0m\u001b]8;;\u001b\\\u001b[2m:\u001b[0m\u001b]8;id=34279;file:///home/81n/lab/curifactory/curifactory/staging.py#157\u001b\\\u001b[2m157\u001b[0m\u001b]8;;\u001b\\\n"
      ]
     },
     "metadata": {},
     "output_type": "display_data"
    },
    {
     "data": {
      "text/html": [
       "<pre style=\"white-space:pre;overflow-x:auto;line-height:normal;font-family:Menlo,'DejaVu Sans Mono',consolas,'Courier New',monospace\"><span style=\"color: #7fbfbf; text-decoration-color: #7fbfbf\">         </span><span style=\"color: #000080; text-decoration-color: #000080\">INFO    </span> <span style=\"font-weight: bold\">[</span>default<span style=\"font-weight: bold\">]</span> Stage make_pretty_graphs                                                 <a href=\"file:///home/81n/lab/curifactory/curifactory/staging.py\" target=\"_blank\"><span style=\"color: #7f7f7f; text-decoration-color: #7f7f7f\">staging.py</span></a><span style=\"color: #7f7f7f; text-decoration-color: #7f7f7f\">:</span><a href=\"file:///home/81n/lab/curifactory/curifactory/staging.py#158\" target=\"_blank\"><span style=\"color: #7f7f7f; text-decoration-color: #7f7f7f\">158</span></a>\n",
       "</pre>\n"
      ],
      "text/plain": [
       "\u001b[2;36m        \u001b[0m\u001b[2;36m \u001b[0m\u001b[34mINFO    \u001b[0m \u001b[1m[\u001b[0mdefault\u001b[1m]\u001b[0m Stage make_pretty_graphs                                                 \u001b]8;id=29773;file:///home/81n/lab/curifactory/curifactory/staging.py\u001b\\\u001b[2mstaging.py\u001b[0m\u001b]8;;\u001b\\\u001b[2m:\u001b[0m\u001b]8;id=860381;file:///home/81n/lab/curifactory/curifactory/staging.py#158\u001b\\\u001b[2m158\u001b[0m\u001b]8;;\u001b\\\n"
      ]
     },
     "metadata": {},
     "output_type": "display_data"
    },
    {
     "data": {
      "text/html": [
       "<pre style=\"white-space:pre;overflow-x:auto;line-height:normal;font-family:Menlo,'DejaVu Sans Mono',consolas,'Courier New',monospace\"><span style=\"color: #7fbfbf; text-decoration-color: #7fbfbf\">         </span><span style=\"color: #000080; text-decoration-color: #000080\">INFO    </span> <span style=\"font-weight: bold\">[</span>default<span style=\"font-weight: bold\">]</span> Stage make_pretty_graphs executing<span style=\"color: #808000; text-decoration-color: #808000\">...</span>                                    <a href=\"file:///home/81n/lab/curifactory/curifactory/staging.py\" target=\"_blank\"><span style=\"color: #7f7f7f; text-decoration-color: #7f7f7f\">staging.py</span></a><span style=\"color: #7f7f7f; text-decoration-color: #7f7f7f\">:</span><a href=\"file:///home/81n/lab/curifactory/curifactory/staging.py#408\" target=\"_blank\"><span style=\"color: #7f7f7f; text-decoration-color: #7f7f7f\">408</span></a>\n",
       "</pre>\n"
      ],
      "text/plain": [
       "\u001b[2;36m        \u001b[0m\u001b[2;36m \u001b[0m\u001b[34mINFO    \u001b[0m \u001b[1m[\u001b[0mdefault\u001b[1m]\u001b[0m Stage make_pretty_graphs executing\u001b[33m...\u001b[0m                                    \u001b]8;id=970022;file:///home/81n/lab/curifactory/curifactory/staging.py\u001b\\\u001b[2mstaging.py\u001b[0m\u001b]8;;\u001b\\\u001b[2m:\u001b[0m\u001b]8;id=370330;file:///home/81n/lab/curifactory/curifactory/staging.py#408\u001b\\\u001b[2m408\u001b[0m\u001b]8;;\u001b\\\n"
      ]
     },
     "metadata": {},
     "output_type": "display_data"
    },
    {
     "data": {
      "text/html": [
       "<pre style=\"white-space:pre;overflow-x:auto;line-height:normal;font-family:Menlo,'DejaVu Sans Mono',consolas,'Courier New',monospace\"><span style=\"color: #7fbfbf; text-decoration-color: #7fbfbf\">         </span><span style=\"color: #000080; text-decoration-color: #000080\">INFO    </span> <span style=\"font-weight: bold\">[</span>default<span style=\"font-weight: bold\">]</span> Stage make_pretty_graphs complete                                        <a href=\"file:///home/81n/lab/curifactory/curifactory/staging.py\" target=\"_blank\"><span style=\"color: #7f7f7f; text-decoration-color: #7f7f7f\">staging.py</span></a><span style=\"color: #7f7f7f; text-decoration-color: #7f7f7f\">:</span><a href=\"file:///home/81n/lab/curifactory/curifactory/staging.py#460\" target=\"_blank\"><span style=\"color: #7f7f7f; text-decoration-color: #7f7f7f\">460</span></a>\n",
       "</pre>\n"
      ],
      "text/plain": [
       "\u001b[2;36m        \u001b[0m\u001b[2;36m \u001b[0m\u001b[34mINFO    \u001b[0m \u001b[1m[\u001b[0mdefault\u001b[1m]\u001b[0m Stage make_pretty_graphs complete                                        \u001b]8;id=464071;file:///home/81n/lab/curifactory/curifactory/staging.py\u001b\\\u001b[2mstaging.py\u001b[0m\u001b]8;;\u001b\\\u001b[2m:\u001b[0m\u001b]8;id=573724;file:///home/81n/lab/curifactory/curifactory/staging.py#460\u001b\\\u001b[2m460\u001b[0m\u001b]8;;\u001b\\\n"
      ]
     },
     "metadata": {},
     "output_type": "display_data"
    },
    {
     "data": {
      "text/html": [
       "<pre style=\"white-space:pre;overflow-x:auto;line-height:normal;font-family:Menlo,'DejaVu Sans Mono',consolas,'Courier New',monospace\"><span style=\"color: #7fbfbf; text-decoration-color: #7fbfbf\">         </span><span style=\"color: #000080; text-decoration-color: #000080\">INFO    </span> <span style=\"font-weight: bold\">[</span>doubled<span style=\"font-weight: bold\">]</span> <span style=\"color: #808000; text-decoration-color: #808000; font-weight: bold\">-----</span>                                                                    <a href=\"file:///home/81n/lab/curifactory/curifactory/staging.py\" target=\"_blank\"><span style=\"color: #7f7f7f; text-decoration-color: #7f7f7f\">staging.py</span></a><span style=\"color: #7f7f7f; text-decoration-color: #7f7f7f\">:</span><a href=\"file:///home/81n/lab/curifactory/curifactory/staging.py#157\" target=\"_blank\"><span style=\"color: #7f7f7f; text-decoration-color: #7f7f7f\">157</span></a>\n",
       "</pre>\n"
      ],
      "text/plain": [
       "\u001b[2;36m        \u001b[0m\u001b[2;36m \u001b[0m\u001b[34mINFO    \u001b[0m \u001b[1m[\u001b[0mdoubled\u001b[1m]\u001b[0m \u001b[1;33m-----\u001b[0m                                                                    \u001b]8;id=305398;file:///home/81n/lab/curifactory/curifactory/staging.py\u001b\\\u001b[2mstaging.py\u001b[0m\u001b]8;;\u001b\\\u001b[2m:\u001b[0m\u001b]8;id=886486;file:///home/81n/lab/curifactory/curifactory/staging.py#157\u001b\\\u001b[2m157\u001b[0m\u001b]8;;\u001b\\\n"
      ]
     },
     "metadata": {},
     "output_type": "display_data"
    },
    {
     "data": {
      "text/html": [
       "<pre style=\"white-space:pre;overflow-x:auto;line-height:normal;font-family:Menlo,'DejaVu Sans Mono',consolas,'Courier New',monospace\"><span style=\"color: #7fbfbf; text-decoration-color: #7fbfbf\">         </span><span style=\"color: #000080; text-decoration-color: #000080\">INFO    </span> <span style=\"font-weight: bold\">[</span>doubled<span style=\"font-weight: bold\">]</span> Stage make_pretty_graphs                                                 <a href=\"file:///home/81n/lab/curifactory/curifactory/staging.py\" target=\"_blank\"><span style=\"color: #7f7f7f; text-decoration-color: #7f7f7f\">staging.py</span></a><span style=\"color: #7f7f7f; text-decoration-color: #7f7f7f\">:</span><a href=\"file:///home/81n/lab/curifactory/curifactory/staging.py#158\" target=\"_blank\"><span style=\"color: #7f7f7f; text-decoration-color: #7f7f7f\">158</span></a>\n",
       "</pre>\n"
      ],
      "text/plain": [
       "\u001b[2;36m        \u001b[0m\u001b[2;36m \u001b[0m\u001b[34mINFO    \u001b[0m \u001b[1m[\u001b[0mdoubled\u001b[1m]\u001b[0m Stage make_pretty_graphs                                                 \u001b]8;id=141457;file:///home/81n/lab/curifactory/curifactory/staging.py\u001b\\\u001b[2mstaging.py\u001b[0m\u001b]8;;\u001b\\\u001b[2m:\u001b[0m\u001b]8;id=298395;file:///home/81n/lab/curifactory/curifactory/staging.py#158\u001b\\\u001b[2m158\u001b[0m\u001b]8;;\u001b\\\n"
      ]
     },
     "metadata": {},
     "output_type": "display_data"
    },
    {
     "data": {
      "text/html": [
       "<pre style=\"white-space:pre;overflow-x:auto;line-height:normal;font-family:Menlo,'DejaVu Sans Mono',consolas,'Courier New',monospace\"><span style=\"color: #7fbfbf; text-decoration-color: #7fbfbf\">         </span><span style=\"color: #000080; text-decoration-color: #000080\">INFO    </span> <span style=\"font-weight: bold\">[</span>doubled<span style=\"font-weight: bold\">]</span> Stage make_pretty_graphs executing<span style=\"color: #808000; text-decoration-color: #808000\">...</span>                                    <a href=\"file:///home/81n/lab/curifactory/curifactory/staging.py\" target=\"_blank\"><span style=\"color: #7f7f7f; text-decoration-color: #7f7f7f\">staging.py</span></a><span style=\"color: #7f7f7f; text-decoration-color: #7f7f7f\">:</span><a href=\"file:///home/81n/lab/curifactory/curifactory/staging.py#408\" target=\"_blank\"><span style=\"color: #7f7f7f; text-decoration-color: #7f7f7f\">408</span></a>\n",
       "</pre>\n"
      ],
      "text/plain": [
       "\u001b[2;36m        \u001b[0m\u001b[2;36m \u001b[0m\u001b[34mINFO    \u001b[0m \u001b[1m[\u001b[0mdoubled\u001b[1m]\u001b[0m Stage make_pretty_graphs executing\u001b[33m...\u001b[0m                                    \u001b]8;id=163521;file:///home/81n/lab/curifactory/curifactory/staging.py\u001b\\\u001b[2mstaging.py\u001b[0m\u001b]8;;\u001b\\\u001b[2m:\u001b[0m\u001b]8;id=353717;file:///home/81n/lab/curifactory/curifactory/staging.py#408\u001b\\\u001b[2m408\u001b[0m\u001b]8;;\u001b\\\n"
      ]
     },
     "metadata": {},
     "output_type": "display_data"
    },
    {
     "data": {
      "text/html": [
       "<pre style=\"white-space:pre;overflow-x:auto;line-height:normal;font-family:Menlo,'DejaVu Sans Mono',consolas,'Courier New',monospace\"><span style=\"color: #7fbfbf; text-decoration-color: #7fbfbf\">         </span><span style=\"color: #000080; text-decoration-color: #000080\">INFO    </span> <span style=\"font-weight: bold\">[</span>doubled<span style=\"font-weight: bold\">]</span> Stage make_pretty_graphs complete                                        <a href=\"file:///home/81n/lab/curifactory/curifactory/staging.py\" target=\"_blank\"><span style=\"color: #7f7f7f; text-decoration-color: #7f7f7f\">staging.py</span></a><span style=\"color: #7f7f7f; text-decoration-color: #7f7f7f\">:</span><a href=\"file:///home/81n/lab/curifactory/curifactory/staging.py#460\" target=\"_blank\"><span style=\"color: #7f7f7f; text-decoration-color: #7f7f7f\">460</span></a>\n",
       "</pre>\n"
      ],
      "text/plain": [
       "\u001b[2;36m        \u001b[0m\u001b[2;36m \u001b[0m\u001b[34mINFO    \u001b[0m \u001b[1m[\u001b[0mdoubled\u001b[1m]\u001b[0m Stage make_pretty_graphs complete                                        \u001b]8;id=834771;file:///home/81n/lab/curifactory/curifactory/staging.py\u001b\\\u001b[2mstaging.py\u001b[0m\u001b]8;;\u001b\\\u001b[2m:\u001b[0m\u001b]8;id=392475;file:///home/81n/lab/curifactory/curifactory/staging.py#460\u001b\\\u001b[2m460\u001b[0m\u001b]8;;\u001b\\\n"
      ]
     },
     "metadata": {},
     "output_type": "display_data"
    }
   ],
   "source": [
    "r4 = cf.Record(manager, default_params)\n",
    "r5 = cf.Record(manager, doubled_params)\n",
    "\n",
    "r4 = make_pretty_graphs(r4)\n",
    "r5 = make_pretty_graphs(r5)"
   ]
  },
  {
   "cell_type": "markdown",
   "id": "9e704358",
   "metadata": {},
   "source": [
    "When inside of a jupyter notebook or jupyter lab, the manager includes several display functions that allow you to render portions of the report directly in the notebook. \n",
    "\n",
    "A few of these are:\n",
    "* `display_info()` - renders the top block of the report, containing metadata about the run\n",
    "* `display_all_reportables()` - renders all reportables in the manager\n",
    "* `display_record_reportables(record)` - renders only the reportables associated with the passed record\n",
    "* `display_stage_graph()` - renders a diagram of all the records, state objects, and stages. Note that graphviz must be installed for these to generate correctly."
   ]
  },
  {
   "cell_type": "code",
   "execution_count": 15,
   "id": "70d5ddd2",
   "metadata": {},
   "outputs": [
    {
     "data": {
      "text/html": [
       "<h1 id='title'>Report: notebook_example_1 - 1</h1><div id='experiment-info-block'><p>Experiment name: <b>notebook_example_1</b> </br>Experiment run number: <b>1</b></br>Run timestamp: <b>07/27/2023 14:05:13</b></br>Reference: <b>notebook_example_1_1_2023-07-27-T140513</b></br>Hostname: <b>arcane</b></br>Run status: <b><span style='color: cyan'>LIVE</span></b> - (interactive session)</br>Git commit: <span style='color: darkorange'><b>*</b></span>2849267ab041b74a9e0ee0b92297026a16e5df5</br>Param files: []</br></p><ul><li>Non-file (live) argsets <ul><li>default - ec3f8f4559d33912cdfa01467994ce46</li><li>doubled - 981bc72d0bdde272e010d9c2202b4ecf</li></ul></li></ul></div><p><span style='color: orange;'><b>*WARNING - </b></span>Uncommited changes.</p><p><span style='color: orange;'><b>WARNING - </b></span>This report was not generated from an experiment script. If generated from an interactive environment, curifactory has no method to reproduce.</p><p id='run-string'>Run string: <pre>(Interactive environment)</pre></p>"
      ],
      "text/plain": [
       "<IPython.core.display.HTML object>"
      ]
     },
     "execution_count": 15,
     "metadata": {},
     "output_type": "execute_result"
    }
   ],
   "source": [
    "manager.display_info()"
   ]
  },
  {
   "cell_type": "code",
   "execution_count": 16,
   "id": "49e5e582",
   "metadata": {},
   "outputs": [
    {
     "data": {
      "text/html": [
       "<pre style=\"white-space:pre;overflow-x:auto;line-height:normal;font-family:Menlo,'DejaVu Sans Mono',consolas,'Courier New',monospace\"><span style=\"color: #7fbfbf; text-decoration-color: #7fbfbf\">         </span><span style=\"color: #000080; text-decoration-color: #000080\">INFO    </span> Preparing report path <span style=\"color: #008000; text-decoration-color: #008000\">'reports/notebook_example_1_1_2023-07-27-T140513'</span><span style=\"color: #808000; text-decoration-color: #808000\">...</span>       <a href=\"file:///home/81n/lab/curifactory/curifactory/reporting.py\" target=\"_blank\"><span style=\"color: #7f7f7f; text-decoration-color: #7f7f7f\">reporting.py</span></a><span style=\"color: #7f7f7f; text-decoration-color: #7f7f7f\">:</span><a href=\"file:///home/81n/lab/curifactory/curifactory/reporting.py#601\" target=\"_blank\"><span style=\"color: #7f7f7f; text-decoration-color: #7f7f7f\">601</span></a>\n",
       "</pre>\n"
      ],
      "text/plain": [
       "\u001b[2;36m        \u001b[0m\u001b[2;36m \u001b[0m\u001b[34mINFO    \u001b[0m Preparing report path \u001b[32m'reports/notebook_example_1_1_2023-07-27-T140513'\u001b[0m\u001b[33m...\u001b[0m       \u001b]8;id=644919;file:///home/81n/lab/curifactory/curifactory/reporting.py\u001b\\\u001b[2mreporting.py\u001b[0m\u001b]8;;\u001b\\\u001b[2m:\u001b[0m\u001b]8;id=998931;file:///home/81n/lab/curifactory/curifactory/reporting.py#601\u001b\\\u001b[2m601\u001b[0m\u001b]8;;\u001b\\\n"
      ]
     },
     "metadata": {},
     "output_type": "display_data"
    },
    {
     "data": {
      "text/html": [
       "<div class='reportable' style='border: 1px solid gray; display: inline-block; vertical-align: top; padding: 5px; padding-top: 0px; padding-bottom: 0px; margin: 5px;'><a name='default_make_pretty_graphs_single_line_plot'></a><h3>default_make_pretty_graphs_single_line_plot <span style='background-color: #fa8072'>&nbsp;&nbsp;&nbsp;&nbsp;</span></h3><img src='/files/reports/notebook_example_1_1_2023-07-27-T140513/reportables/default_make_pretty_graphs_single_line_plot.png'></div><div class='reportable' style='border: 1px solid gray; display: inline-block; vertical-align: top; padding: 5px; padding-top: 0px; padding-bottom: 0px; margin: 5px;'><a name='default_make_pretty_graphs_multi_line_plot'></a><h3>default_make_pretty_graphs_multi_line_plot <span style='background-color: #fa8072'>&nbsp;&nbsp;&nbsp;&nbsp;</span></h3><img src='/files/reports/notebook_example_1_1_2023-07-27-T140513/reportables/default_make_pretty_graphs_multi_line_plot.png'></div><div class='reportable' style='border: 1px solid gray; display: inline-block; vertical-align: top; padding: 5px; padding-top: 0px; padding-bottom: 0px; margin: 5px;'><a name='doubled_make_pretty_graphs_single_line_plot'></a><h3>doubled_make_pretty_graphs_single_line_plot <span style='background-color: #c0c0c0'>&nbsp;&nbsp;&nbsp;&nbsp;</span></h3><img src='/files/reports/notebook_example_1_1_2023-07-27-T140513/reportables/doubled_make_pretty_graphs_single_line_plot.png'></div><div class='reportable' style='border: 1px solid gray; display: inline-block; vertical-align: top; padding: 5px; padding-top: 0px; padding-bottom: 0px; margin: 5px;'><a name='doubled_make_pretty_graphs_multi_line_plot'></a><h3>doubled_make_pretty_graphs_multi_line_plot <span style='background-color: #c0c0c0'>&nbsp;&nbsp;&nbsp;&nbsp;</span></h3><img src='/files/reports/notebook_example_1_1_2023-07-27-T140513/reportables/doubled_make_pretty_graphs_multi_line_plot.png'></div>"
      ],
      "text/plain": [
       "<IPython.core.display.HTML object>"
      ]
     },
     "execution_count": 16,
     "metadata": {},
     "output_type": "execute_result"
    }
   ],
   "source": [
    "manager.display_all_reportables()  \n",
    "# note that reportables may not display in github's live notebook render, \n",
    "# due to pathing problems. Running this notebook locally should correctly\n",
    "# display the saved matplotlib images."
   ]
  },
  {
   "cell_type": "code",
   "execution_count": 17,
   "id": "cdad1f7d",
   "metadata": {},
   "outputs": [
    {
     "data": {
      "text/html": [
       "<div class='reportable' style='border: 1px solid gray; display: inline-block; vertical-align: top; padding: 5px; padding-top: 0px; padding-bottom: 0px; margin: 5px;'><a name='default_make_pretty_graphs_single_line_plot'></a><h3>default_make_pretty_graphs_single_line_plot <span style='background-color: #fa8072'>&nbsp;&nbsp;&nbsp;&nbsp;</span></h3><img src='/files/reports/notebook_example_1_1_2023-07-27-T140513/reportables/default_make_pretty_graphs_single_line_plot.png'></div><div class='reportable' style='border: 1px solid gray; display: inline-block; vertical-align: top; padding: 5px; padding-top: 0px; padding-bottom: 0px; margin: 5px;'><a name='default_make_pretty_graphs_multi_line_plot'></a><h3>default_make_pretty_graphs_multi_line_plot <span style='background-color: #fa8072'>&nbsp;&nbsp;&nbsp;&nbsp;</span></h3><img src='/files/reports/notebook_example_1_1_2023-07-27-T140513/reportables/default_make_pretty_graphs_multi_line_plot.png'></div>"
      ],
      "text/plain": [
       "<IPython.core.display.HTML object>"
      ]
     },
     "execution_count": 17,
     "metadata": {},
     "output_type": "execute_result"
    }
   ],
   "source": [
    "manager.display_record_reportables(r4)"
   ]
  },
  {
   "cell_type": "code",
   "execution_count": 18,
   "id": "5b61ca75",
   "metadata": {},
   "outputs": [
    {
     "data": {
      "text/html": [
       "<?xml version=\"1.0\" encoding=\"UTF-8\" standalone=\"no\"?>\n",
       "<!DOCTYPE svg PUBLIC \"-//W3C//DTD SVG 1.1//EN\"\n",
       " \"http://www.w3.org/Graphics/SVG/1.1/DTD/svg11.dtd\">\n",
       "<!-- Generated by graphviz version 7.1.0 (20230122.1345)\n",
       " -->\n",
       "<!-- Pages: 1 -->\n",
       "<svg width=\"1182pt\" height=\"136pt\"\n",
       " viewBox=\"0.00 0.00 1182.00 136.00\" xmlns=\"http://www.w3.org/2000/svg\" xmlns:xlink=\"http://www.w3.org/1999/xlink\">\n",
       "<g id=\"graph0\" class=\"graph\" transform=\"scale(1 1) rotate(0) translate(4 132)\">\n",
       "<polygon fill=\"white\" stroke=\"none\" points=\"-4,4 -4,-132 1178,-132 1178,4 -4,4\"/>\n",
       "<g id=\"clust1\" class=\"cluster\">\n",
       "<title>cluster_0</title>\n",
       "<polygon fill=\"#b4eeb4\" stroke=\"#b4eeb4\" points=\"8,-8 8,-120 186,-120 186,-8 8,-8\"/>\n",
       "<text text-anchor=\"middle\" x=\"97\" y=\"-108\" font-family=\"Times,serif\" font-size=\"10.00\">record 0</text>\n",
       "<text text-anchor=\"middle\" x=\"97\" y=\"-97\" font-family=\"Times,serif\" font-size=\"10.00\">params: default</text>\n",
       "</g>\n",
       "<g id=\"clust2\" class=\"cluster\">\n",
       "<title>cluster_1</title>\n",
       "<polygon fill=\"#d8bfd8\" stroke=\"#d8bfd8\" points=\"194,-8 194,-120 372,-120 372,-8 194,-8\"/>\n",
       "<text text-anchor=\"middle\" x=\"283\" y=\"-108\" font-family=\"Times,serif\" font-size=\"10.00\">record 1</text>\n",
       "<text text-anchor=\"middle\" x=\"283\" y=\"-97\" font-family=\"Times,serif\" font-size=\"10.00\">params: default</text>\n",
       "</g>\n",
       "<g id=\"clust3\" class=\"cluster\">\n",
       "<title>cluster_2</title>\n",
       "<polygon fill=\"#ffdab9\" stroke=\"#ffdab9\" points=\"380,-8 380,-120 558,-120 558,-8 380,-8\"/>\n",
       "<text text-anchor=\"middle\" x=\"469\" y=\"-108\" font-family=\"Times,serif\" font-size=\"10.00\">record 2</text>\n",
       "<text text-anchor=\"middle\" x=\"469\" y=\"-97\" font-family=\"Times,serif\" font-size=\"10.00\">params: doubled</text>\n",
       "</g>\n",
       "<g id=\"clust4\" class=\"cluster\">\n",
       "<title>cluster_3</title>\n",
       "<polygon fill=\"#aeeeee\" stroke=\"#aeeeee\" points=\"566,-8 566,-120 774,-120 774,-8 566,-8\"/>\n",
       "<text text-anchor=\"middle\" x=\"670\" y=\"-108\" font-family=\"Times,serif\" font-size=\"10.00\">record 3</text>\n",
       "<text text-anchor=\"middle\" x=\"670\" y=\"-97\" font-family=\"Times,serif\" font-size=\"10.00\">params: default</text>\n",
       "</g>\n",
       "<g id=\"clust5\" class=\"cluster\">\n",
       "<title>cluster_4</title>\n",
       "<polygon fill=\"#fa8072\" stroke=\"#fa8072\" points=\"782,-8 782,-120 970,-120 970,-8 782,-8\"/>\n",
       "<text text-anchor=\"middle\" x=\"876\" y=\"-108\" font-family=\"Times,serif\" font-size=\"10.00\">record 4</text>\n",
       "<text text-anchor=\"middle\" x=\"876\" y=\"-97\" font-family=\"Times,serif\" font-size=\"10.00\">params: default</text>\n",
       "</g>\n",
       "<g id=\"clust6\" class=\"cluster\">\n",
       "<title>cluster_5</title>\n",
       "<polygon fill=\"#c0c0c0\" stroke=\"#c0c0c0\" points=\"978,-8 978,-120 1166,-120 1166,-8 978,-8\"/>\n",
       "<text text-anchor=\"middle\" x=\"1072\" y=\"-108\" font-family=\"Times,serif\" font-size=\"10.00\">record 5</text>\n",
       "<text text-anchor=\"middle\" x=\"1072\" y=\"-97\" font-family=\"Times,serif\" font-size=\"10.00\">params: doubled</text>\n",
       "</g>\n",
       "<!-- 0_long_compute_step -->\n",
       "<g id=\"node1\" class=\"node\">\n",
       "<title>0_long_compute_step</title>\n",
       "<ellipse fill=\"white\" stroke=\"black\" cx=\"97\" cy=\"-64\" rx=\"80.78\" ry=\"18\"/>\n",
       "<text text-anchor=\"middle\" x=\"97\" y=\"-60.9\" font-family=\"Times,serif\" font-size=\"12.00\">long_compute_step</text>\n",
       "</g>\n",
       "<!-- a0 -->\n",
       "<g id=\"node2\" class=\"node\">\n",
       "<title>a0</title>\n",
       "<polygon fill=\"none\" stroke=\"black\" points=\"153.5,-35 40.5,-35 40.5,-16 153.5,-16 153.5,-35\"/>\n",
       "<text text-anchor=\"middle\" x=\"97\" y=\"-23\" font-family=\"Times,serif\" font-size=\"10.00\">long&#45;compute&#45;data</text>\n",
       "</g>\n",
       "<!-- 0_long_compute_step&#45;&gt;a0 -->\n",
       "<g id=\"edge1\" class=\"edge\">\n",
       "<title>0_long_compute_step&#45;&gt;a0</title>\n",
       "<path fill=\"none\" stroke=\"black\" d=\"M97,-45.61C97,-44.83 97,-44.06 97,-43.29\"/>\n",
       "<polygon fill=\"black\" stroke=\"black\" points=\"99.28,-43.44 97,-36.94 94.73,-43.44 99.28,-43.44\"/>\n",
       "</g>\n",
       "<!-- 1_long_compute_step -->\n",
       "<g id=\"node3\" class=\"node\">\n",
       "<title>1_long_compute_step</title>\n",
       "<ellipse fill=\"white\" stroke=\"black\" cx=\"283\" cy=\"-64\" rx=\"80.78\" ry=\"18\"/>\n",
       "<text text-anchor=\"middle\" x=\"283\" y=\"-60.9\" font-family=\"Times,serif\" font-size=\"12.00\">long_compute_step</text>\n",
       "</g>\n",
       "<!-- a1 -->\n",
       "<g id=\"node4\" class=\"node\">\n",
       "<title>a1</title>\n",
       "<polygon fill=\"none\" stroke=\"black\" points=\"339.5,-35 226.5,-35 226.5,-16 339.5,-16 339.5,-35\"/>\n",
       "<text text-anchor=\"middle\" x=\"283\" y=\"-23\" font-family=\"Times,serif\" font-size=\"10.00\">long&#45;compute&#45;data</text>\n",
       "</g>\n",
       "<!-- 1_long_compute_step&#45;&gt;a1 -->\n",
       "<g id=\"edge2\" class=\"edge\">\n",
       "<title>1_long_compute_step&#45;&gt;a1</title>\n",
       "<path fill=\"none\" stroke=\"black\" d=\"M283,-45.61C283,-44.83 283,-44.06 283,-43.29\"/>\n",
       "<polygon fill=\"black\" stroke=\"black\" points=\"285.28,-43.44 283,-36.94 280.73,-43.44 285.28,-43.44\"/>\n",
       "</g>\n",
       "<!-- 2_long_compute_step -->\n",
       "<g id=\"node5\" class=\"node\">\n",
       "<title>2_long_compute_step</title>\n",
       "<ellipse fill=\"white\" stroke=\"black\" cx=\"469\" cy=\"-64\" rx=\"80.78\" ry=\"18\"/>\n",
       "<text text-anchor=\"middle\" x=\"469\" y=\"-60.9\" font-family=\"Times,serif\" font-size=\"12.00\">long_compute_step</text>\n",
       "</g>\n",
       "<!-- a2 -->\n",
       "<g id=\"node6\" class=\"node\">\n",
       "<title>a2</title>\n",
       "<polygon fill=\"none\" stroke=\"black\" points=\"525.5,-35 412.5,-35 412.5,-16 525.5,-16 525.5,-35\"/>\n",
       "<text text-anchor=\"middle\" x=\"469\" y=\"-23\" font-family=\"Times,serif\" font-size=\"10.00\">long&#45;compute&#45;data</text>\n",
       "</g>\n",
       "<!-- 2_long_compute_step&#45;&gt;a2 -->\n",
       "<g id=\"edge3\" class=\"edge\">\n",
       "<title>2_long_compute_step&#45;&gt;a2</title>\n",
       "<path fill=\"none\" stroke=\"black\" d=\"M469,-45.61C469,-44.83 469,-44.06 469,-43.29\"/>\n",
       "<polygon fill=\"black\" stroke=\"black\" points=\"471.28,-43.44 469,-36.94 466.73,-43.44 471.28,-43.44\"/>\n",
       "</g>\n",
       "<!-- 3_make_mega_big_object -->\n",
       "<g id=\"node7\" class=\"node\">\n",
       "<title>3_make_mega_big_object</title>\n",
       "<ellipse fill=\"white\" stroke=\"black\" cx=\"670\" cy=\"-64\" rx=\"96.06\" ry=\"18\"/>\n",
       "<text text-anchor=\"middle\" x=\"670\" y=\"-60.9\" font-family=\"Times,serif\" font-size=\"12.00\">make_mega_big_object</text>\n",
       "</g>\n",
       "<!-- a3 -->\n",
       "<g id=\"node8\" class=\"node\">\n",
       "<title>a3</title>\n",
       "<polygon fill=\"none\" stroke=\"black\" points=\"722,-35 618,-35 618,-16 722,-16 722,-35\"/>\n",
       "<text text-anchor=\"middle\" x=\"670\" y=\"-23\" font-family=\"Times,serif\" font-size=\"10.00\">very&#45;large&#45;object</text>\n",
       "</g>\n",
       "<!-- 3_make_mega_big_object&#45;&gt;a3 -->\n",
       "<g id=\"edge4\" class=\"edge\">\n",
       "<title>3_make_mega_big_object&#45;&gt;a3</title>\n",
       "<path fill=\"none\" stroke=\"black\" d=\"M670,-45.61C670,-44.83 670,-44.06 670,-43.29\"/>\n",
       "<polygon fill=\"black\" stroke=\"black\" points=\"672.28,-43.44 670,-36.94 667.73,-43.44 672.28,-43.44\"/>\n",
       "</g>\n",
       "<!-- 4_make_pretty_graphs -->\n",
       "<g id=\"node9\" class=\"node\">\n",
       "<title>4_make_pretty_graphs</title>\n",
       "<ellipse fill=\"white\" stroke=\"black\" cx=\"876\" cy=\"-64\" rx=\"86.36\" ry=\"18\"/>\n",
       "<text text-anchor=\"middle\" x=\"876\" y=\"-60.9\" font-family=\"Times,serif\" font-size=\"12.00\">make_pretty_graphs</text>\n",
       "</g>\n",
       "<!-- a4 -->\n",
       "<g id=\"node10\" class=\"node\">\n",
       "<title>a4</title>\n",
       "<polygon fill=\"none\" stroke=\"black\" points=\"914,-35 838,-35 838,-16 914,-16 914,-35\"/>\n",
       "<text text-anchor=\"middle\" x=\"876\" y=\"-23\" font-family=\"Times,serif\" font-size=\"10.00\">line_history</text>\n",
       "</g>\n",
       "<!-- 4_make_pretty_graphs&#45;&gt;a4 -->\n",
       "<g id=\"edge5\" class=\"edge\">\n",
       "<title>4_make_pretty_graphs&#45;&gt;a4</title>\n",
       "<path fill=\"none\" stroke=\"black\" d=\"M876,-45.61C876,-44.83 876,-44.06 876,-43.29\"/>\n",
       "<polygon fill=\"black\" stroke=\"black\" points=\"878.28,-43.44 876,-36.94 873.73,-43.44 878.28,-43.44\"/>\n",
       "</g>\n",
       "<!-- 5_make_pretty_graphs -->\n",
       "<g id=\"node11\" class=\"node\">\n",
       "<title>5_make_pretty_graphs</title>\n",
       "<ellipse fill=\"white\" stroke=\"black\" cx=\"1072\" cy=\"-64\" rx=\"86.36\" ry=\"18\"/>\n",
       "<text text-anchor=\"middle\" x=\"1072\" y=\"-60.9\" font-family=\"Times,serif\" font-size=\"12.00\">make_pretty_graphs</text>\n",
       "</g>\n",
       "<!-- a5 -->\n",
       "<g id=\"node12\" class=\"node\">\n",
       "<title>a5</title>\n",
       "<polygon fill=\"none\" stroke=\"black\" points=\"1110,-35 1034,-35 1034,-16 1110,-16 1110,-35\"/>\n",
       "<text text-anchor=\"middle\" x=\"1072\" y=\"-23\" font-family=\"Times,serif\" font-size=\"10.00\">line_history</text>\n",
       "</g>\n",
       "<!-- 5_make_pretty_graphs&#45;&gt;a5 -->\n",
       "<g id=\"edge6\" class=\"edge\">\n",
       "<title>5_make_pretty_graphs&#45;&gt;a5</title>\n",
       "<path fill=\"none\" stroke=\"black\" d=\"M1072,-45.61C1072,-44.83 1072,-44.06 1072,-43.29\"/>\n",
       "<polygon fill=\"black\" stroke=\"black\" points=\"1074.28,-43.44 1072,-36.94 1069.73,-43.44 1074.28,-43.44\"/>\n",
       "</g>\n",
       "</g>\n",
       "</svg>\n"
      ],
      "text/plain": [
       "<IPython.core.display.HTML object>"
      ]
     },
     "execution_count": 18,
     "metadata": {},
     "output_type": "execute_result"
    }
   ],
   "source": [
    "manager.display_stage_graph()  # this obviously looks a lot more interesting in more complicated stage setups"
   ]
  },
  {
   "cell_type": "markdown",
   "id": "784707cb",
   "metadata": {},
   "source": [
    "Finally, a full HTML report can be produced with the `generate_report()` function. This will create a run-specific folder to contain the report and all rendered reportables, inside the reports path. Additionally, every time a report is generated, an overall project report index is put directly in the reports path, which lists and links to all of the individual reports."
   ]
  },
  {
   "cell_type": "code",
   "execution_count": 19,
   "id": "81d99004",
   "metadata": {},
   "outputs": [
    {
     "data": {
      "text/html": [
       "<pre style=\"white-space:pre;overflow-x:auto;line-height:normal;font-family:Menlo,'DejaVu Sans Mono',consolas,'Courier New',monospace\"><span style=\"color: #7fbfbf; text-decoration-color: #7fbfbf\">14:05:24 </span><span style=\"color: #000080; text-decoration-color: #000080\">INFO    </span> Generating report<span style=\"color: #808000; text-decoration-color: #808000\">...</span>                                                               <a href=\"file:///home/81n/lab/curifactory/curifactory/manager.py\" target=\"_blank\"><span style=\"color: #7f7f7f; text-decoration-color: #7f7f7f\">manager.py</span></a><span style=\"color: #7f7f7f; text-decoration-color: #7f7f7f\">:</span><a href=\"file:///home/81n/lab/curifactory/curifactory/manager.py#570\" target=\"_blank\"><span style=\"color: #7f7f7f; text-decoration-color: #7f7f7f\">570</span></a>\n",
       "</pre>\n"
      ],
      "text/plain": [
       "\u001b[2;36m14:05:24\u001b[0m\u001b[2;36m \u001b[0m\u001b[34mINFO    \u001b[0m Generating report\u001b[33m...\u001b[0m                                                               \u001b]8;id=427749;file:///home/81n/lab/curifactory/curifactory/manager.py\u001b\\\u001b[2mmanager.py\u001b[0m\u001b]8;;\u001b\\\u001b[2m:\u001b[0m\u001b]8;id=91088;file:///home/81n/lab/curifactory/curifactory/manager.py#570\u001b\\\u001b[2m570\u001b[0m\u001b]8;;\u001b\\\n"
      ]
     },
     "metadata": {},
     "output_type": "display_data"
    },
    {
     "data": {
      "text/html": [
       "<pre style=\"white-space:pre;overflow-x:auto;line-height:normal;font-family:Menlo,'DejaVu Sans Mono',consolas,'Courier New',monospace\"><span style=\"color: #7fbfbf; text-decoration-color: #7fbfbf\">         </span><span style=\"color: #000080; text-decoration-color: #000080\">INFO    </span> Preparing report path <span style=\"color: #008000; text-decoration-color: #008000\">'reports/_latest'</span><span style=\"color: #808000; text-decoration-color: #808000\">...</span>                                       <a href=\"file:///home/81n/lab/curifactory/curifactory/reporting.py\" target=\"_blank\"><span style=\"color: #7f7f7f; text-decoration-color: #7f7f7f\">reporting.py</span></a><span style=\"color: #7f7f7f; text-decoration-color: #7f7f7f\">:</span><a href=\"file:///home/81n/lab/curifactory/curifactory/reporting.py#601\" target=\"_blank\"><span style=\"color: #7f7f7f; text-decoration-color: #7f7f7f\">601</span></a>\n",
       "</pre>\n"
      ],
      "text/plain": [
       "\u001b[2;36m        \u001b[0m\u001b[2;36m \u001b[0m\u001b[34mINFO    \u001b[0m Preparing report path \u001b[32m'reports/_latest'\u001b[0m\u001b[33m...\u001b[0m                                       \u001b]8;id=338046;file:///home/81n/lab/curifactory/curifactory/reporting.py\u001b\\\u001b[2mreporting.py\u001b[0m\u001b]8;;\u001b\\\u001b[2m:\u001b[0m\u001b]8;id=380450;file:///home/81n/lab/curifactory/curifactory/reporting.py#601\u001b\\\u001b[2m601\u001b[0m\u001b]8;;\u001b\\\n"
      ]
     },
     "metadata": {},
     "output_type": "display_data"
    },
    {
     "data": {
      "text/html": [
       "<pre style=\"white-space:pre;overflow-x:auto;line-height:normal;font-family:Menlo,'DejaVu Sans Mono',consolas,'Courier New',monospace\"><span style=\"color: #7fbfbf; text-decoration-color: #7fbfbf\">         </span><span style=\"color: #000080; text-decoration-color: #000080\">INFO    </span> Preparing report path <span style=\"color: #008000; text-decoration-color: #008000\">'reports/notebook_example_1_1_2023-07-27-T140513'</span><span style=\"color: #808000; text-decoration-color: #808000\">...</span>       <a href=\"file:///home/81n/lab/curifactory/curifactory/reporting.py\" target=\"_blank\"><span style=\"color: #7f7f7f; text-decoration-color: #7f7f7f\">reporting.py</span></a><span style=\"color: #7f7f7f; text-decoration-color: #7f7f7f\">:</span><a href=\"file:///home/81n/lab/curifactory/curifactory/reporting.py#601\" target=\"_blank\"><span style=\"color: #7f7f7f; text-decoration-color: #7f7f7f\">601</span></a>\n",
       "</pre>\n"
      ],
      "text/plain": [
       "\u001b[2;36m        \u001b[0m\u001b[2;36m \u001b[0m\u001b[34mINFO    \u001b[0m Preparing report path \u001b[32m'reports/notebook_example_1_1_2023-07-27-T140513'\u001b[0m\u001b[33m...\u001b[0m       \u001b]8;id=705487;file:///home/81n/lab/curifactory/curifactory/reporting.py\u001b\\\u001b[2mreporting.py\u001b[0m\u001b]8;;\u001b\\\u001b[2m:\u001b[0m\u001b]8;id=824661;file:///home/81n/lab/curifactory/curifactory/reporting.py#601\u001b\\\u001b[2m601\u001b[0m\u001b]8;;\u001b\\\n"
      ]
     },
     "metadata": {},
     "output_type": "display_data"
    },
    {
     "data": {
      "text/html": [
       "<pre style=\"white-space:pre;overflow-x:auto;line-height:normal;font-family:Menlo,'DejaVu Sans Mono',consolas,'Courier New',monospace\"><span style=\"color: #7fbfbf; text-decoration-color: #7fbfbf\">14:05:25 </span><span style=\"color: #000080; text-decoration-color: #000080\">INFO    </span> Updating report index<span style=\"color: #808000; text-decoration-color: #808000\">...</span>                                                         <a href=\"file:///home/81n/lab/curifactory/curifactory/reporting.py\" target=\"_blank\"><span style=\"color: #7f7f7f; text-decoration-color: #7f7f7f\">reporting.py</span></a><span style=\"color: #7f7f7f; text-decoration-color: #7f7f7f\">:</span><a href=\"file:///home/81n/lab/curifactory/curifactory/reporting.py#766\" target=\"_blank\"><span style=\"color: #7f7f7f; text-decoration-color: #7f7f7f\">766</span></a>\n",
       "</pre>\n"
      ],
      "text/plain": [
       "\u001b[2;36m14:05:25\u001b[0m\u001b[2;36m \u001b[0m\u001b[34mINFO    \u001b[0m Updating report index\u001b[33m...\u001b[0m                                                         \u001b]8;id=686147;file:///home/81n/lab/curifactory/curifactory/reporting.py\u001b\\\u001b[2mreporting.py\u001b[0m\u001b]8;;\u001b\\\u001b[2m:\u001b[0m\u001b]8;id=934406;file:///home/81n/lab/curifactory/curifactory/reporting.py#766\u001b\\\u001b[2m766\u001b[0m\u001b]8;;\u001b\\\n"
      ]
     },
     "metadata": {},
     "output_type": "display_data"
    },
    {
     "data": {
      "text/html": [
       "<pre style=\"white-space:pre;overflow-x:auto;line-height:normal;font-family:Menlo,'DejaVu Sans Mono',consolas,'Courier New',monospace\"><span style=\"color: #7fbfbf; text-decoration-color: #7fbfbf\">         </span><span style=\"color: #000080; text-decoration-color: #000080\">INFO    </span>     <span style=\"color: #008080; text-decoration-color: #008080; font-weight: bold\">2</span> labeled reports found                                                      <a href=\"file:///home/81n/lab/curifactory/curifactory/reporting.py\" target=\"_blank\"><span style=\"color: #7f7f7f; text-decoration-color: #7f7f7f\">reporting.py</span></a><span style=\"color: #7f7f7f; text-decoration-color: #7f7f7f\">:</span><a href=\"file:///home/81n/lab/curifactory/curifactory/reporting.py#816\" target=\"_blank\"><span style=\"color: #7f7f7f; text-decoration-color: #7f7f7f\">816</span></a>\n",
       "</pre>\n"
      ],
      "text/plain": [
       "\u001b[2;36m        \u001b[0m\u001b[2;36m \u001b[0m\u001b[34mINFO    \u001b[0m     \u001b[1;36m2\u001b[0m labeled reports found                                                      \u001b]8;id=938042;file:///home/81n/lab/curifactory/curifactory/reporting.py\u001b\\\u001b[2mreporting.py\u001b[0m\u001b]8;;\u001b\\\u001b[2m:\u001b[0m\u001b]8;id=59055;file:///home/81n/lab/curifactory/curifactory/reporting.py#816\u001b\\\u001b[2m816\u001b[0m\u001b]8;;\u001b\\\n"
      ]
     },
     "metadata": {},
     "output_type": "display_data"
    },
    {
     "data": {
      "text/html": [
       "<pre style=\"white-space:pre;overflow-x:auto;line-height:normal;font-family:Menlo,'DejaVu Sans Mono',consolas,'Courier New',monospace\"><span style=\"color: #7fbfbf; text-decoration-color: #7fbfbf\">         </span><span style=\"color: #000080; text-decoration-color: #000080\">INFO    </span>     <span style=\"color: #008080; text-decoration-color: #008080; font-weight: bold\">0</span> informal runs found                                                        <a href=\"file:///home/81n/lab/curifactory/curifactory/reporting.py\" target=\"_blank\"><span style=\"color: #7f7f7f; text-decoration-color: #7f7f7f\">reporting.py</span></a><span style=\"color: #7f7f7f; text-decoration-color: #7f7f7f\">:</span><a href=\"file:///home/81n/lab/curifactory/curifactory/reporting.py#817\" target=\"_blank\"><span style=\"color: #7f7f7f; text-decoration-color: #7f7f7f\">817</span></a>\n",
       "</pre>\n"
      ],
      "text/plain": [
       "\u001b[2;36m        \u001b[0m\u001b[2;36m \u001b[0m\u001b[34mINFO    \u001b[0m     \u001b[1;36m0\u001b[0m informal runs found                                                        \u001b]8;id=937173;file:///home/81n/lab/curifactory/curifactory/reporting.py\u001b\\\u001b[2mreporting.py\u001b[0m\u001b]8;;\u001b\\\u001b[2m:\u001b[0m\u001b]8;id=806142;file:///home/81n/lab/curifactory/curifactory/reporting.py#817\u001b\\\u001b[2m817\u001b[0m\u001b]8;;\u001b\\\n"
      ]
     },
     "metadata": {},
     "output_type": "display_data"
    }
   ],
   "source": [
    "manager.generate_report()"
   ]
  },
  {
   "cell_type": "code",
   "execution_count": 20,
   "id": "2e3876b7",
   "metadata": {},
   "outputs": [
    {
     "data": {
      "text/plain": [
       "['style.css',\n",
       " 'notebook_example_1_1_2023-07-27-T140513',\n",
       " 'index.html',\n",
       " 'iris_1_2023-07-27-T140421',\n",
       " '_latest']"
      ]
     },
     "execution_count": 20,
     "metadata": {},
     "output_type": "execute_result"
    }
   ],
   "source": [
    "os.listdir(\"reports\")"
   ]
  },
  {
   "cell_type": "code",
   "execution_count": null,
   "id": "9f450716-450a-4972-b816-8983922a13c2",
   "metadata": {},
   "outputs": [],
   "source": []
  }
 ],
 "metadata": {
  "kernelspec": {
   "display_name": "Python 3 (ipykernel)",
   "language": "python",
   "name": "python3"
  },
  "language_info": {
   "codemirror_mode": {
    "name": "ipython",
    "version": 3
   },
   "file_extension": ".py",
   "mimetype": "text/x-python",
   "name": "python",
   "nbconvert_exporter": "python",
   "pygments_lexer": "ipython3",
   "version": "3.9.13"
  }
 },
 "nbformat": 4,
 "nbformat_minor": 5
}
